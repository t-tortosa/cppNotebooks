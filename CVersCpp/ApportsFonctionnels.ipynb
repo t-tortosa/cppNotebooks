{
 "cells": [
  {
   "cell_type": "markdown",
   "metadata": {},
   "source": [
    "# Les apports fonctionnels du langage C++"
   ]
  },
  {
   "cell_type": "markdown",
   "metadata": {},
   "source": [
    "##  Les limites du langage C\n",
    "- Le mode d'écriture est peu rigoureux\n",
    "- La dissociation trop importante des données et des méthodes de traitement associées\n",
    "- La faible maintenabilité et évolutivité des projets complexes"
   ]
  },
  {
   "cell_type": "markdown",
   "metadata": {},
   "source": [
    "Dans cette partie, nous allons voir quelques apport fonctionnels qui ont été apportés par le langage C++. Nous ne nous préoccupons pas pour le moment de la notion de <b>Programmation Orientée Objet</b>."
   ]
  },
  {
   "cell_type": "markdown",
   "metadata": {},
   "source": [
    "## Gestion des flux d'entrées et de sortie\n",
    "Une nouvelle gestion des flux d'entrée et de sortie a été apportée par le C++. Il suffit d'importer le <i>header</i> <b>iostream</b> pour écrire notre premier <i>Hello world</i> :\n"
   ]
  },
  {
   "cell_type": "code",
   "execution_count": null,
   "metadata": {},
   "outputs": [],
   "source": [
    "#include <iostream> \n",
    "\n",
    "std::cout << \"hello world !\" << std::endl;"
   ]
  },
  {
   "cell_type": "markdown",
   "metadata": {},
   "source": [
    "<i><b>cout</b></i> est le flux de sortie. L'opérateur <b>\"<<\"</b> permet de diriger n'importe quel type connu pour l'afficher. On peut donc aussi bien afficher un entier ou un flottant :"
   ]
  },
  {
   "cell_type": "code",
   "execution_count": null,
   "metadata": {},
   "outputs": [],
   "source": [
    "int entier = 54;\n",
    "float flottant = 1.556;\n",
    "std::cout << \"L'entier \" << entier << \" et le flottant \" << flottant << std::endl;"
   ]
  },
  {
   "cell_type": "markdown",
   "metadata": {},
   "source": [
    "<i><b>cin</b></i> correspond au flux d'entrée."
   ]
  },
  {
   "cell_type": "code",
   "execution_count": null,
   "metadata": {},
   "outputs": [],
   "source": [
    "std::cout << \"Choisir un entier : \"; std::cin >> entier;\n",
    "std::cout << std::endl << \"L'entier choisi est : \" << entier << std::endl;"
   ]
  },
  {
   "cell_type": "markdown",
   "metadata": {},
   "source": [
    "## Les chaines de caractères"
   ]
  },
  {
   "cell_type": "markdown",
   "metadata": {},
   "source": [
    "Le C++ offre une nouvelle gestion des <b>chaines de caractères</b>. Pour l'utiliser il faudra inclure le <i>header</i> <a href=\"http://www.cplusplus.com/reference/string/string/\"><b>string</b></a>"
   ]
  },
  {
   "cell_type": "code",
   "execution_count": null,
   "metadata": {},
   "outputs": [],
   "source": [
    "#include <string>"
   ]
  },
  {
   "cell_type": "markdown",
   "metadata": {},
   "source": [
    "Afin de déclarer une chaine de caractère, on pourra utiliser la syntaxe suivante :"
   ]
  },
  {
   "cell_type": "code",
   "execution_count": null,
   "metadata": {},
   "outputs": [],
   "source": [
    "std::string maChaine;"
   ]
  },
  {
   "cell_type": "markdown",
   "metadata": {},
   "source": [
    "On pourra initialiser la chaine de la manière suivante :"
   ]
  },
  {
   "cell_type": "code",
   "execution_count": null,
   "metadata": {},
   "outputs": [],
   "source": [
    "maChaine = std::string(\"une chaine de caractère C++\");\n",
    "std::cout << maChaine << std::endl;"
   ]
  },
  {
   "cell_type": "markdown",
   "metadata": {},
   "source": [
    "La chaine de caractère C++ offre beaucoup d'autre fonctionnalités. Pour l'instant, nous pourrons nous contenter de celles que nous venons de présenter."
   ]
  },
  {
   "cell_type": "markdown",
   "metadata": {},
   "source": [
    "## Les constantes"
   ]
  },
  {
   "cell_type": "markdown",
   "metadata": {},
   "source": [
    "### Les constantes - déclaration"
   ]
  },
  {
   "cell_type": "markdown",
   "metadata": {},
   "source": [
    "Le langage C++ offre la possibilité de déclarer des variables <b>constantes</b>. Cela veut dire que ces variables ne seront plus modifiables après leur déclaration.\n",
    "\n",
    "La déclaration d'une constante se fait à l'aide du mot clé <b>const</b> à la déclaration de la variable"
   ]
  },
  {
   "cell_type": "code",
   "execution_count": null,
   "metadata": {},
   "outputs": [],
   "source": [
    "const int dix = 10;"
   ]
  },
  {
   "cell_type": "markdown",
   "metadata": {},
   "source": [
    "Cette variable ne peut plus être modifiée par la suite : "
   ]
  },
  {
   "cell_type": "code",
   "execution_count": null,
   "metadata": {},
   "outputs": [],
   "source": [
    "dix = 5;"
   ]
  },
  {
   "cell_type": "markdown",
   "metadata": {},
   "source": [
    "Les constantes permettent de remplacer la plupart des instruction de précompilation <b>#define</b>."
   ]
  },
  {
   "cell_type": "markdown",
   "metadata": {},
   "source": [
    "### Les constantes - dans les fonctions"
   ]
  },
  {
   "cell_type": "markdown",
   "metadata": {},
   "source": [
    "Les constantes peuvent également être utilisées dans les fonctions pour vérifier que l'on ne modifie pas de variable d'entrée :\n"
   ]
  },
  {
   "cell_type": "code",
   "execution_count": null,
   "metadata": {},
   "outputs": [],
   "source": [
    "int add(const int a, const int b) {\n",
    "    return a+b;\n",
    "}"
   ]
  },
  {
   "cell_type": "markdown",
   "metadata": {},
   "source": [
    "### Les constantes - les cas des pointeurs"
   ]
  },
  {
   "cell_type": "markdown",
   "metadata": {},
   "source": [
    "Le cas des pointeurs est un peu particulier :<br>\n",
    "<img title=\"Constantes et pointeurs\" src=\"../img/constptr.png\" width=\"512\">"
   ]
  },
  {
   "cell_type": "markdown",
   "metadata": {},
   "source": [
    "## Espaces de nom"
   ]
  },
  {
   "cell_type": "markdown",
   "metadata": {},
   "source": [
    "En C++, il est possible de diviser le code en plusieurs espaces de nom. Ils sont déclarés de la manière suivante : "
   ]
  },
  {
   "cell_type": "code",
   "execution_count": null,
   "metadata": {},
   "outputs": [],
   "source": [
    "namespace my_namespace {\n",
    "    // Déclaration de fonctions ou de variables\n",
    "}"
   ]
  },
  {
   "cell_type": "markdown",
   "metadata": {},
   "source": [
    "Ceci permet de déclarer des fonctions et des variables ayant le même nom à plusieurs endroits dans le code, sans qu'il y ait d'ambiguité !"
   ]
  },
  {
   "cell_type": "code",
   "execution_count": null,
   "metadata": {},
   "outputs": [],
   "source": [
    "#include <iostream>\n",
    "\n",
    "namespace A {\n",
    "    void print() {\n",
    "        std::cout << \"Hello from A\" << std::endl;\n",
    "    }\n",
    "}\n",
    "\n",
    "namespace B {\n",
    "    void print() {\n",
    "        std::cout << \"Hello from B\" << std::endl;\n",
    "    }\n",
    "}\n"
   ]
  },
  {
   "cell_type": "markdown",
   "metadata": {},
   "source": [
    "Afin d'accéder à un élément appartenant à un namespace, on utilise l'opérateur <b>::</b>."
   ]
  },
  {
   "cell_type": "code",
   "execution_count": null,
   "metadata": {},
   "outputs": [],
   "source": [
    "A::print();\n",
    "B::print();"
   ]
  },
  {
   "cell_type": "markdown",
   "metadata": {},
   "source": [
    "Si on utilise un namespace très souvent, on peut utiliser la directive <b>using namespace</b> en début de programme."
   ]
  },
  {
   "cell_type": "code",
   "execution_count": null,
   "metadata": {},
   "outputs": [],
   "source": [
    "using namespace B;\n",
    "print();"
   ]
  },
  {
   "cell_type": "markdown",
   "metadata": {},
   "source": [
    "## Déclaration de fonction en ligne "
   ]
  },
  {
   "cell_type": "markdown",
   "metadata": {},
   "source": [
    "Il est possible de déclarer une fonction en ligne. Cela signifie que le compilateur remplacera l'appel de la fonction par le contenu de celle-ci."
   ]
  },
  {
   "cell_type": "markdown",
   "metadata": {},
   "source": [
    "Soit la fonction suivante :"
   ]
  },
  {
   "cell_type": "code",
   "execution_count": null,
   "metadata": {},
   "outputs": [],
   "source": [
    "inline void inlineFunction() {\n",
    "    std::cout << \"Je suis en fonction en ligne\" << std::endl;\n",
    "}"
   ]
  },
  {
   "cell_type": "markdown",
   "metadata": {},
   "source": [
    "Et l'appel suivant :"
   ]
  },
  {
   "cell_type": "code",
   "execution_count": null,
   "metadata": {},
   "outputs": [],
   "source": [
    "// Dans le main\n",
    "std::cout << \"Début du main\" << std::endl;\n",
    "inlineFunction();\n",
    "std::cout << \"Fin du main\" << std::endl;"
   ]
  },
  {
   "cell_type": "markdown",
   "metadata": {},
   "source": [
    "Le compilateur remplacera le code précédent par :"
   ]
  },
  {
   "cell_type": "code",
   "execution_count": null,
   "metadata": {},
   "outputs": [],
   "source": [
    "// Dans le main\n",
    "std::cout << \"Début du main\" << std::endl;\n",
    "std::cout << \"Je suis en fonction en ligne\" << std::endl;\n",
    "std::cout << \"Fin du main\" << std::endl;"
   ]
  },
  {
   "cell_type": "markdown",
   "metadata": {},
   "source": [
    "Cette technique permet d'éviter d'ajouter une fonction dans la pile d'appel."
   ]
  },
  {
   "cell_type": "markdown",
   "metadata": {},
   "source": [
    "## Les références"
   ]
  },
  {
   "cell_type": "markdown",
   "metadata": {},
   "source": [
    "### Déclaration"
   ]
  },
  {
   "cell_type": "markdown",
   "metadata": {},
   "source": [
    "En C++, en plus des variables classiques et des pointeurs, il est possible de déclarer des <b>références</b> à des variables. \n",
    "Une <b>référence</b> peut être considérée comme un <b>alias</b> à une variable. Elle se comporte comme une variable classe mais tout se qui l'affecte, affecte aussi la variable qu'elle référence. \n",
    "\n",
    "Une <b>référence</b> étant systèmatiquement liée à une autre variable, il est obligatoire de l'intialiser à la déclaration. "
   ]
  },
  {
   "cell_type": "markdown",
   "metadata": {},
   "source": [
    "On considère la variable suivante :"
   ]
  },
  {
   "cell_type": "code",
   "execution_count": null,
   "metadata": {},
   "outputs": [],
   "source": [
    "int variable = 9;"
   ]
  },
  {
   "cell_type": "markdown",
   "metadata": {},
   "source": [
    "La <b>référence</b> à <b>variable</b> se fait de la manière suivante :"
   ]
  },
  {
   "cell_type": "code",
   "execution_count": null,
   "metadata": {},
   "outputs": [],
   "source": [
    "int & ref = variable;"
   ]
  },
  {
   "cell_type": "markdown",
   "metadata": {},
   "source": [
    "Si on affiche maintenant <b>ref</b>, on a :"
   ]
  },
  {
   "cell_type": "code",
   "execution_count": null,
   "metadata": {},
   "outputs": [],
   "source": [
    "std::cout << ref << std::endl;"
   ]
  },
  {
   "cell_type": "markdown",
   "metadata": {},
   "source": [
    "La modification de ref affecte automatiquement la valeur de variable :"
   ]
  },
  {
   "cell_type": "code",
   "execution_count": null,
   "metadata": {},
   "outputs": [],
   "source": [
    "ref++;\n",
    "std::cout << variable << std::endl;"
   ]
  },
  {
   "cell_type": "markdown",
   "metadata": {},
   "source": [
    "Par ailleurs, si on affiche les adresses des deux variables :"
   ]
  },
  {
   "cell_type": "code",
   "execution_count": null,
   "metadata": {},
   "outputs": [],
   "source": [
    "std::cout << \"Adresse de variable : \" << &variable << std::endl;\n",
    "std::cout << \"Adresse de ref      : \" << &ref << std::endl;"
   ]
  },
  {
   "cell_type": "markdown",
   "metadata": {},
   "source": [
    "Les adresses sont bien les mêmes !"
   ]
  },
  {
   "cell_type": "markdown",
   "metadata": {},
   "source": [
    "### Utilisation dans les fonctions"
   ]
  },
  {
   "cell_type": "markdown",
   "metadata": {},
   "source": [
    "Comme pour les <b>pointeurs</b>, les <b>références</b> peuvent être utilisées pour ajouter une sortie à une fonction.  "
   ]
  },
  {
   "cell_type": "code",
   "execution_count": null,
   "metadata": {},
   "outputs": [],
   "source": [
    "bool div(float a, float b, float & result){\n",
    "    if(b == 0) {\n",
    "        return false;\n",
    "    }\n",
    "    \n",
    "    result = a / b;\n",
    "    \n",
    "    return true;\n",
    "}"
   ]
  },
  {
   "cell_type": "code",
   "execution_count": null,
   "metadata": {},
   "outputs": [],
   "source": [
    "float a = 4, b = 5, c;"
   ]
  },
  {
   "cell_type": "code",
   "execution_count": null,
   "metadata": {},
   "outputs": [],
   "source": [
    "div(a, b, c);\n",
    "std::cout << \"Le résultat est : \" << c << std::endl;"
   ]
  },
  {
   "cell_type": "markdown",
   "metadata": {},
   "source": [
    "L'utilisation dans la fonction est donc très simple puisque l'utilisation de la variable <b>result</b> se fait de la même manière qu'une variable normale."
   ]
  },
  {
   "cell_type": "markdown",
   "metadata": {},
   "source": [
    "Considèrons maintenant la structure suivante : "
   ]
  },
  {
   "cell_type": "code",
   "execution_count": null,
   "metadata": {},
   "outputs": [],
   "source": [
    "struct Personne {\n",
    "    int age;\n",
    "    char nom[200];\n",
    "    char prenom[200];\n",
    "    char nationalité[200];\n",
    "    char adresse[500];\n",
    "};"
   ]
  },
  {
   "cell_type": "code",
   "execution_count": null,
   "metadata": {},
   "outputs": [],
   "source": [
    "struct Personne john;"
   ]
  },
  {
   "cell_type": "code",
   "execution_count": null,
   "metadata": {},
   "outputs": [],
   "source": [
    "#include <string.h>\n",
    "john.age = 50;\n",
    "strcpy(john.nom,\"Doe\");\n",
    "strcpy(john.prenom,\"John\");\n",
    "strcpy(john.prenom,\"Française\");\n",
    "strcpy(john.prenom,\"911b avenue des ...\");"
   ]
  },
  {
   "cell_type": "markdown",
   "metadata": {},
   "source": [
    "<font color=\"green\">Combien une variable de type personne prend de place en mémoire ?</font>"
   ]
  },
  {
   "cell_type": "code",
   "execution_count": null,
   "metadata": {},
   "outputs": [],
   "source": [
    "std::cout << sizeof(john) << std::endl;"
   ]
  },
  {
   "cell_type": "markdown",
   "metadata": {},
   "source": [
    "<font color=\"green\"> Qu'est-ce qu'il se passe il en mémoire lorsque on utilise la fonction suivante ?</font>"
   ]
  },
  {
   "cell_type": "code",
   "execution_count": null,
   "metadata": {},
   "outputs": [],
   "source": [
    "void afficherInfo(struct Personne person) {\n",
    "    std::cout << \"age : \" << person.age << std::endl;\n",
    "    std::cout << \"nom : \" << person.nom << std::endl;\n",
    "    std::cout << \"prenom : \" << person.prenom << std::endl;\n",
    "    std::cout << \"nationalité : \" << person.nationalité << std::endl;\n",
    "    std::cout << \"adresse : \" << person.adresse << std::endl;\n",
    "}"
   ]
  },
  {
   "cell_type": "code",
   "execution_count": null,
   "metadata": {},
   "outputs": [],
   "source": [
    "afficherInfo(john);\n"
   ]
  },
  {
   "cell_type": "markdown",
   "metadata": {},
   "source": [
    "La totalité de la structure <b>person</b> est allouée à l'appel de la fonction, c'est à dire 1104 octets. D'un point de vue performance, on peut faire mieux. Une bonne idée est d'utiliser une référence afin d'éviter la copie :"
   ]
  },
  {
   "cell_type": "code",
   "execution_count": null,
   "metadata": {},
   "outputs": [],
   "source": [
    "void afficherInfoRef(struct Personne &person) {\n",
    "    std::cout << \"age : \" << person.age << std::endl;\n",
    "    std::cout << \"nom : \" << person.nom << std::endl;\n",
    "    std::cout << \"prenom : \" << person.prenom << std::endl;\n",
    "    std::cout << \"nationalité : \" << person.nationalité << std::endl;\n",
    "    std::cout << \"adresse : \" << person.adresse << std::endl;\n",
    "}"
   ]
  },
  {
   "cell_type": "markdown",
   "metadata": {},
   "source": [
    "Dans cette version, la référence permet d'éviter la copie. En contrepartie, la fonction <b>afficherInfoRef</b> est capable de modifier le contenu de la structure passée en paramètre. Afin d'éviter tout problème, on peut finalement écrire :"
   ]
  },
  {
   "cell_type": "code",
   "execution_count": null,
   "metadata": {},
   "outputs": [],
   "source": [
    "void afficherInfoOpt(const struct Personne & person) {\n",
    "    std::cout << \"age : \" << person.age << std::endl;\n",
    "    std::cout << \"nom : \" << person.nom << std::endl;\n",
    "    std::cout << \"prenom : \" << person.prenom << std::endl;\n",
    "    std::cout << \"nationalité : \" << person.nationalité << std::endl;\n",
    "    std::cout << \"adresse : \" << person.adresse << std::endl;\n",
    "}"
   ]
  },
  {
   "cell_type": "markdown",
   "metadata": {},
   "source": [
    "Ici, aucune copie n'a lieu, mais la variable passée par référence ne peut plus être modifiée. Il s'agit d'une technique très courante en C++, car les quantités de données manipulée sont souvent importantes."
   ]
  },
  {
   "cell_type": "markdown",
   "metadata": {},
   "source": [
    "<a href=\"exercices.ipynb\">exercices<a>"
   ]
  },
  {
   "cell_type": "markdown",
   "metadata": {},
   "source": [
    "<div style=\"float:left\"><a href=\"../RappelDeC/struct.ipynb\">Précedent : Rappels du langage C - Les structures</a></div>\n",
    "\n",
    "<div style=\"float:right\"><a href=\"../CppEtPoo/notionObjet.ipynb\">Suivant : La POO avec le C++ - Objet et classe</a></div>"
   ]
  }
 ],
 "metadata": {
  "kernelspec": {
   "display_name": "C++11",
   "language": "C++11",
   "name": "xcpp11"
  },
  "language_info": {
   "codemirror_mode": "text/x-c++src",
   "file_extension": ".cpp",
   "mimetype": "text/x-c++src",
   "name": "c++",
   "version": "-std=c++11"
  }
 },
 "nbformat": 4,
 "nbformat_minor": 2
}
