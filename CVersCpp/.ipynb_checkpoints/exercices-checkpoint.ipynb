{
 "cells": [
  {
   "cell_type": "markdown",
   "metadata": {},
   "source": [
    "# Apports fonctionnels - Exercices"
   ]
  },
  {
   "cell_type": "markdown",
   "metadata": {},
   "source": [
    "## Flux d'entrée et de sortie"
   ]
  },
  {
   "cell_type": "markdown",
   "metadata": {},
   "source": [
    "Ecrire un code qui demmande à l'utilisateur de choisir deux flottants et les somme "
   ]
  },
  {
   "cell_type": "code",
   "execution_count": 1,
   "metadata": {},
   "outputs": [],
   "source": [
    "#include <iostream>"
   ]
  },
  {
   "cell_type": "code",
   "execution_count": 2,
   "metadata": {},
   "outputs": [
    {
     "name": "stdout",
     "output_type": "stream",
     "text": [
      "choisir une valeur A en float : 5\n",
      "\n",
      "choisir une valeur B en float : 5\n",
      "\n",
      "Somme de a et b : 10\n"
     ]
    }
   ],
   "source": [
    "float a, b;\n",
    "\n",
    "std::cout << \"choisir une valeur A en float : \"; std::cin >> a; \n",
    "std::cout << std::endl;\n",
    "\n",
    "std::cout << \"choisir une valeur B en float : \"; std::cin >> b; \n",
    "std::cout << std::endl;\n",
    "    \n",
    "std::cout << \"Somme de a et b : \" << a+b << std::endl;"
   ]
  },
  {
   "cell_type": "markdown",
   "metadata": {},
   "source": [
    "Ecrire un code qui demande à l'utilisateur de rentrer 5 valeurs pour en calculer la moyenne"
   ]
  },
  {
   "cell_type": "code",
   "execution_count": 3,
   "metadata": {},
   "outputs": [
    {
     "name": "stdout",
     "output_type": "stream",
     "text": [
      "Entrez 5 valeurs :\n",
      "5\n",
      "5\n",
      "5\n",
      "5\n",
      "5\n",
      "Moyenne des 5 valeurs : 5\n"
     ]
    }
   ],
   "source": [
    "int c, d, e, f, g;\n",
    "std::cout << \"Entrez 5 valeurs :\" << std::endl;\n",
    "std::cin >> c;\n",
    "std::cin >> d;\n",
    "std::cin >> e;\n",
    "std::cin >> f;\n",
    "std::cin >> g;\n",
    "std::cout << \"Moyenne des 5 valeurs : \" << (c+d+e+f+g)/5. << std::endl;"
   ]
  },
  {
   "cell_type": "markdown",
   "metadata": {},
   "source": [
    "## Références et subtilités"
   ]
  },
  {
   "cell_type": "markdown",
   "metadata": {},
   "source": [
    "Ecrire une structure intVector contenant un tableau d'entier de taille variable."
   ]
  },
  {
   "cell_type": "code",
   "execution_count": 4,
   "metadata": {},
   "outputs": [],
   "source": [
    "struct intVector{\n",
    "    int tab[100];\n",
    "    int size;\n",
    "};"
   ]
  },
  {
   "cell_type": "markdown",
   "metadata": {},
   "source": [
    "Ecrire une fonction permettant d'ajouter un élément à cette liste. "
   ]
  },
  {
   "cell_type": "code",
   "execution_count": 5,
   "metadata": {},
   "outputs": [],
   "source": [
    "void addElem(struct intVector & vector, const int elem) {\n",
    "    if(vector.size<100)\n",
    "        vector.tab[vector.size++] = elem;\n",
    "}"
   ]
  },
  {
   "cell_type": "markdown",
   "metadata": {},
   "source": [
    "Ecrire une fonction permettant de supprimer le dernier élément de la liste."
   ]
  },
  {
   "cell_type": "code",
   "execution_count": 6,
   "metadata": {},
   "outputs": [],
   "source": [
    "void delElem(struct intVector& vector) {\n",
    "    if(vector.size!=0) {\n",
    "        vector.size--;\n",
    "    }\n",
    "}"
   ]
  },
  {
   "cell_type": "markdown",
   "metadata": {},
   "source": [
    "Ecrire une fonction permettant de ré-initialiser la liste"
   ]
  },
  {
   "cell_type": "code",
   "execution_count": 7,
   "metadata": {},
   "outputs": [],
   "source": [
    "void initVector(struct intVector & vector){\n",
    "    vector.size = 0;\n",
    "}"
   ]
  },
  {
   "cell_type": "markdown",
   "metadata": {},
   "source": [
    "Ecrire une fonction permettant de supprimer tous les éléments de cette structure ayant une certaine valeur."
   ]
  },
  {
   "cell_type": "code",
   "execution_count": 8,
   "metadata": {},
   "outputs": [],
   "source": [
    "void printVector(const struct intVector & vectorA) {\n",
    "    for(int counter=0; counter<vectorA.size; counter ++) {\n",
    "        std::cout << vectorA.tab[counter] << \"\\t\";\n",
    "    }\n",
    "    std::cout << std::endl;\n",
    "}"
   ]
  },
  {
   "cell_type": "code",
   "execution_count": 9,
   "metadata": {},
   "outputs": [],
   "source": [
    "struct intVector A;"
   ]
  },
  {
   "cell_type": "code",
   "execution_count": 10,
   "metadata": {},
   "outputs": [],
   "source": [
    "initVector(A);"
   ]
  },
  {
   "cell_type": "code",
   "execution_count": 11,
   "metadata": {},
   "outputs": [],
   "source": [
    "addElem(A, 1);addElem(A, 4);addElem(A, 2);addElem(A, 9);"
   ]
  },
  {
   "cell_type": "code",
   "execution_count": 12,
   "metadata": {},
   "outputs": [
    {
     "name": "stdout",
     "output_type": "stream",
     "text": [
      "1\t4\t2\t9\t\n"
     ]
    }
   ],
   "source": [
    "printVector(A);"
   ]
  },
  {
   "cell_type": "code",
   "execution_count": 13,
   "metadata": {},
   "outputs": [
    {
     "name": "stdout",
     "output_type": "stream",
     "text": [
      "1\t4\t2\t\n"
     ]
    }
   ],
   "source": [
    "delElem(A);\n",
    "printVector(A);"
   ]
  },
  {
   "cell_type": "markdown",
   "metadata": {},
   "source": [
    "Ecrire une fonction permettant de concaténer deux de ces structures. "
   ]
  },
  {
   "cell_type": "code",
   "execution_count": 14,
   "metadata": {},
   "outputs": [],
   "source": [
    "void concatVector(struct intVector & vectorA, const struct intVector & vectorB) {\n",
    "    if(vectorA.size + vectorB.size < 100) {\n",
    "        for(int counter=0; counter < vectorB.size; counter ++) {\n",
    "            addElem(vectorA, vectorB.tab[counter]);\n",
    "        }\n",
    "    }\n",
    "}"
   ]
  },
  {
   "cell_type": "code",
   "execution_count": null,
   "metadata": {},
   "outputs": [],
   "source": []
  }
 ],
 "metadata": {
  "kernelspec": {
   "display_name": "C++11",
   "language": "C++11",
   "name": "xcpp11"
  },
  "language_info": {
   "codemirror_mode": "text/x-c++src",
   "file_extension": ".cpp",
   "mimetype": "text/x-c++src",
   "name": "c++",
   "version": "-std=c++11"
  }
 },
 "nbformat": 4,
 "nbformat_minor": 2
}
