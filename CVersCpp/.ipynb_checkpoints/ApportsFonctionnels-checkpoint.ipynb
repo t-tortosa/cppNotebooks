{
 "cells": [
  {
   "cell_type": "markdown",
   "metadata": {},
   "source": [
    "# Les apports fonctionnels du langage C++"
   ]
  },
  {
   "cell_type": "markdown",
   "metadata": {},
   "source": [
    "##  Les limites du langage C\n",
    "- Le mode d'écriture est peu rigoureux\n",
    "- La dissociation trop importante des données et des méthodes de traitement associées\n",
    "- La faible maintenabilité et évolutivité des projets complexes"
   ]
  },
  {
   "cell_type": "markdown",
   "metadata": {},
   "source": [
    "Dans cette partie, nous allons voir quelques apport fonctionnels qui ont été apportés par le langage C. Nous ne nous préoccupons pas pour le moment de la notion de <b>programmation orientée objet</b>."
   ]
  },
  {
   "cell_type": "markdown",
   "metadata": {},
   "source": [
    "## Gestion des flux d'entrées et de sortie\n",
    "Une nouvelle gestion des flux d'entrée et de sortie : \n"
   ]
  },
  {
   "cell_type": "code",
   "execution_count": 1,
   "metadata": {},
   "outputs": [
    {
     "name": "stdout",
     "output_type": "stream",
     "text": [
      "hello world !\n"
     ]
    }
   ],
   "source": [
    "#include <iostream> \n",
    "\n",
    "std::cout << \"hello world !\" << std::endl;"
   ]
  },
  {
   "cell_type": "markdown",
   "metadata": {},
   "source": [
    "## Les constantes"
   ]
  },
  {
   "cell_type": "markdown",
   "metadata": {},
   "source": [
    "### Les constantes - déclaration"
   ]
  },
  {
   "cell_type": "markdown",
   "metadata": {},
   "source": [
    "Le langage C++ offre la possibilité de déclarer des variables <b>constantes</b>. Cela veut dire que ces variables ne seront plus modifiables après leur déclaration.\n",
    "\n",
    "La déclaration d'une constante se fait à l'aide du mot clé <b>const</b> à la déclaration de la variable"
   ]
  },
  {
   "cell_type": "code",
   "execution_count": 2,
   "metadata": {},
   "outputs": [],
   "source": [
    "const int dix = 10;"
   ]
  },
  {
   "cell_type": "markdown",
   "metadata": {},
   "source": [
    "Cette variable ne peut plus être modifiée par la suite : "
   ]
  },
  {
   "cell_type": "code",
   "execution_count": 3,
   "metadata": {},
   "outputs": [
    {
     "name": "stderr",
     "output_type": "stream",
     "text": [
      "\u001b[1minput_line_10:2:6: \u001b[0m\u001b[0;1;31merror: \u001b[0m\u001b[1mcannot assign to variable 'dix' with const-qualified type 'const int'\u001b[0m\n",
      " dix = 5;\n",
      "\u001b[0;1;32m ~~~ ^\n",
      "\u001b[0m\u001b[1minput_line_9:2:12: \u001b[0m\u001b[0;1;30mnote: \u001b[0mvariable 'dix' declared const here\u001b[0m\n",
      " const int dix = 10;\n",
      "\u001b[0;1;32m ~~~~~~~~~~^~~~~~~~\n",
      "\u001b[0m"
     ]
    },
    {
     "ename": "Interpreter Error",
     "evalue": "",
     "output_type": "error",
     "traceback": [
      "Interpreter Error: "
     ]
    }
   ],
   "source": [
    "dix = 5;"
   ]
  },
  {
   "cell_type": "markdown",
   "metadata": {},
   "source": [
    "Les constantes permettent de remplacer la plupart des instruction de précompilation <b>#define</b>."
   ]
  },
  {
   "cell_type": "markdown",
   "metadata": {},
   "source": [
    "### Les constantes - dans les fonctions"
   ]
  },
  {
   "cell_type": "markdown",
   "metadata": {},
   "source": [
    "Les constantes peuvent également être utilisées dans les fonctions pour vérifier que l'on ne modifie pas de variable d'entrée :\n"
   ]
  },
  {
   "cell_type": "code",
   "execution_count": 4,
   "metadata": {},
   "outputs": [],
   "source": [
    "int add(const int a, const int b) {\n",
    "    return a+b;\n",
    "}"
   ]
  },
  {
   "cell_type": "markdown",
   "metadata": {},
   "source": [
    "### Les constantes - les cas des pointeurs"
   ]
  },
  {
   "cell_type": "markdown",
   "metadata": {},
   "source": [
    "Le cas des pointeurs est un peu particulier :<br>\n",
    "<img title=\"Constantes et pointeurs\" src=\"../img/constptr.png\" width=\"512\">"
   ]
  },
  {
   "cell_type": "markdown",
   "metadata": {},
   "source": [
    "## Espaces de nom"
   ]
  },
  {
   "cell_type": "markdown",
   "metadata": {},
   "source": [
    "En C++, il est possible de diviser le code en plusieurs espaces de nom. Ils sont déclarés de la manière suivante : "
   ]
  },
  {
   "cell_type": "code",
   "execution_count": 5,
   "metadata": {},
   "outputs": [],
   "source": [
    "namespace my_namespace {\n",
    "    // Déclaration de fonctions ou de variables\n",
    "}"
   ]
  },
  {
   "cell_type": "markdown",
   "metadata": {},
   "source": [
    "Ceci permet de déclarer des fonctions et des variables ayant le même nom à plusieurs endroits dans le code, sans qu'il y ait d'ambiguité !"
   ]
  },
  {
   "cell_type": "code",
   "execution_count": 7,
   "metadata": {},
   "outputs": [],
   "source": [
    "#include <iostream>\n",
    "\n",
    "namespace A {\n",
    "    void print() {\n",
    "        std::cout << \"Hello from A\" << std::endl;\n",
    "    }\n",
    "}\n",
    "\n",
    "namespace B {\n",
    "    void print() {\n",
    "        std::cout << \"Hello from B\" << std::endl;\n",
    "    }\n",
    "}\n"
   ]
  },
  {
   "cell_type": "markdown",
   "metadata": {},
   "source": [
    "Afin d'accéder à un élément appartenant à un namespace, on utilise l'opérateur <b>::</b>."
   ]
  },
  {
   "cell_type": "code",
   "execution_count": 8,
   "metadata": {},
   "outputs": [
    {
     "name": "stdout",
     "output_type": "stream",
     "text": [
      "Hello from A\n",
      "Hello from B\n"
     ]
    }
   ],
   "source": [
    "A::print();\n",
    "B::print();"
   ]
  },
  {
   "cell_type": "markdown",
   "metadata": {},
   "source": [
    "Si on utilise un namespace très souvent, on peut utiliser la directive <b>using namespace</b> en début de programme."
   ]
  },
  {
   "cell_type": "code",
   "execution_count": 9,
   "metadata": {},
   "outputs": [
    {
     "name": "stdout",
     "output_type": "stream",
     "text": [
      "Hello from B\n"
     ]
    }
   ],
   "source": [
    "using namespace B;\n",
    "print();"
   ]
  },
  {
   "cell_type": "markdown",
   "metadata": {},
   "source": [
    "## Les références"
   ]
  },
  {
   "cell_type": "markdown",
   "metadata": {},
   "source": [
    "Une <b>référence</b> a une variable est "
   ]
  }
 ],
 "metadata": {
  "kernelspec": {
   "display_name": "C++11",
   "language": "C++11",
   "name": "xcpp11"
  },
  "language_info": {
   "codemirror_mode": "text/x-c++src",
   "file_extension": ".cpp",
   "mimetype": "text/x-c++src",
   "name": "c++",
   "version": "-std=c++11"
  }
 },
 "nbformat": 4,
 "nbformat_minor": 2
}
