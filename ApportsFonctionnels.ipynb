{
 "cells": [
  {
   "cell_type": "raw",
   "metadata": {},
   "source": [
    "# Les apports fonctionnels du langage C++"
   ]
  },
  {
   "cell_type": "markdown",
   "metadata": {},
   "source": [
    "##  Les limites du langage C\n",
    "- Le mode d'écriture est peu rigoureux\n",
    "- La dissociation trop importante des données et des méthodes de traitement associées\n",
    "- La faible maintenabilité et évolutivité des projets complexes"
   ]
  },
  {
   "cell_type": "markdown",
   "metadata": {},
   "source": [
    "## Gestion des flux d'entrées et de sortie\n",
    "Une nouvelle gestion des flux d'entrée et de sortie : \n"
   ]
  },
  {
   "cell_type": "code",
   "execution_count": 4,
   "metadata": {},
   "outputs": [
    {
     "name": "stdout",
     "output_type": "stream",
     "text": [
      "hello world !\n"
     ]
    }
   ],
   "source": [
    "#include <iostream> \n",
    "using namespace std;\n",
    "\n",
    "cout << \"hello world !\" << endl;\n"
   ]
  },
  {
   "cell_type": "code",
   "execution_count": null,
   "metadata": {},
   "outputs": [],
   "source": []
  }
 ],
 "metadata": {
  "kernelspec": {
   "display_name": "C++11",
   "language": "C++11",
   "name": "xcpp11"
  },
  "language_info": {
   "codemirror_mode": "text/x-c++src",
   "file_extension": ".cpp",
   "mimetype": "text/x-c++src",
   "name": "c++",
   "version": "-std=c++11"
  }
 },
 "nbformat": 4,
 "nbformat_minor": 2
}
