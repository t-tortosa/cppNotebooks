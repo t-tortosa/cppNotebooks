{
 "cells": [
  {
   "cell_type": "markdown",
   "metadata": {},
   "source": [
    "# Pointeurs - Exercices"
   ]
  },
  {
   "cell_type": "code",
   "execution_count": 1,
   "metadata": {},
   "outputs": [],
   "source": [
    "#include <stdio.h>"
   ]
  },
  {
   "cell_type": "markdown",
   "metadata": {},
   "source": [
    "## Exercice 1 - Compréhension"
   ]
  },
  {
   "cell_type": "markdown",
   "metadata": {},
   "source": [
    "On exécute le code suivant : "
   ]
  },
  {
   "cell_type": "code",
   "execution_count": 2,
   "metadata": {},
   "outputs": [],
   "source": [
    "int A[] = {12, 23, 34, 45, 56, 67, 78, 89, 90};\n",
    "int *P;\n",
    "P = A;"
   ]
  },
  {
   "cell_type": "markdown",
   "metadata": {},
   "source": [
    "<font color=\"green\">Compléter le tableau suivant :</font>"
   ]
  },
  {
   "cell_type": "markdown",
   "metadata": {},
   "source": [
    "<style type=\"text/css\">\n",
    ".tg  {border-collapse:collapse;border-spacing:0;}\n",
    ".tg td{font-family:Arial, sans-serif;font-size:14px;padding:10px 5px;border-style:solid;border-width:1px;overflow:hidden;word-break:normal;border-color:black;}\n",
    ".tg th{font-family:Arial, sans-serif;font-size:14px;font-weight:normal;padding:10px 5px;border-style:solid;border-width:1px;overflow:hidden;word-break:normal;border-color:black;}\n",
    ".tg .tg-mcqj{font-weight:bold;border-color:#000000;text-align:left;vertical-align:top}\n",
    ".tg .tg-0lax{text-align:left;vertical-align:top}\n",
    "</style>\n",
    "<table class=\"tg\" style=\"undefined;table-layout: fixed; width: 288px\">\n",
    "<colgroup>\n",
    "<col style=\"width: 117px\">\n",
    "<col style=\"width: 512px\">\n",
    "</colgroup>\n",
    "  <tr>\n",
    "    <th class=\"tg-mcqj\">Expression</th>\n",
    "    <th class=\"tg-mcqj\">Valeur<br> ou Description<br></th>\n",
    "  </tr>\n",
    "  <tr>\n",
    "    <td class=\"tg-mcqj\">*P+2</td>\n",
    "    <td class=\"tg-mcqj\"></td>\n",
    "  </tr>\n",
    "  <tr>\n",
    "    <td class=\"tg-mcqj\">*(P+2)</td>\n",
    "    <td class=\"tg-mcqj\"></td>\n",
    "  </tr>\n",
    "  <tr>\n",
    "    <td class=\"tg-mcqj\">&amp;A[4] - 3<br></td>\n",
    "    <td class=\"tg-mcqj\"></td>\n",
    "  </tr>\n",
    "  <tr>\n",
    "    <td class=\"tg-0lax\">A+3</td>\n",
    "    <td class=\"tg-0lax\"></td>\n",
    "  </tr>\n",
    "  <tr>\n",
    "    <td class=\"tg-0lax\">&amp;A[7] - P</td>\n",
    "    <td class=\"tg-0lax\"></td>\n",
    "  </tr>\n",
    "  <tr>\n",
    "    <td class=\"tg-0lax\">P + (*P - 10)<br></td>\n",
    "    <td class=\"tg-0lax\"></td>\n",
    "  </tr>\n",
    "  <tr>\n",
    "    <td class=\"tg-0lax\">*(P + *(P+8) - A[7])<br></td>\n",
    "    <td class=\"tg-0lax\"></td>\n",
    "  </tr>\n",
    "</table>"
   ]
  },
  {
   "cell_type": "markdown",
   "metadata": {},
   "source": [
    "## Exercice 2 - Utilisation simple"
   ]
  },
  {
   "cell_type": "markdown",
   "metadata": {},
   "source": [
    "Soit le tableau suivant : "
   ]
  },
  {
   "cell_type": "code",
   "execution_count": 4,
   "metadata": {},
   "outputs": [],
   "source": [
    "int serie[14] = {2, 4, 8, 15, 16, 23, 42, 2, 4, 8, 15, 16, 23, 42};"
   ]
  },
  {
   "cell_type": "markdown",
   "metadata": {},
   "source": [
    "<font color=\"green\">Ecrire une fonction <b>displayTab</b> permettant d'afficher un tableau d'entiers à <b>n</b> éléments à l'aide des pointeurs.</font>"
   ]
  },
  {
   "cell_type": "code",
   "execution_count": 5,
   "metadata": {},
   "outputs": [],
   "source": [
    "void displayTab(int * tab, int n) {\n",
    "    for(int counter = 0; counter < n; counter ++) {\n",
    "        std::cout << *tab++ << \"\\t\";\n",
    "    }\n",
    "            std::cout << std::endl;        \n",
    "\n",
    "}"
   ]
  },
  {
   "cell_type": "code",
   "execution_count": 6,
   "metadata": {},
   "outputs": [
    {
     "name": "stdout",
     "output_type": "stream",
     "text": [
      "2\t4\t8\t15\t16\t23\t42\t2\t4\t8\t15\t16\t23\t42\t\n"
     ]
    }
   ],
   "source": [
    "displayTab(serie, 14);"
   ]
  },
  {
   "cell_type": "markdown",
   "metadata": {},
   "source": [
    "<font color=\"green\">Ecrire une fonction <b>reverseDisplayTab</b> permettant d'afficher un tableau d'entiers à <b>n</b> éléments <b>à l'envers</b> à l'aide des pointeurs.</font>"
   ]
  },
  {
   "cell_type": "code",
   "execution_count": 7,
   "metadata": {},
   "outputs": [],
   "source": [
    "void reverseDisplayTab(int * tab, int n) {\n",
    "    tab += n-1;\n",
    "    for(int counter = 0; counter < n; counter ++) {\n",
    "        std::cout << *tab-- << \"\\t\";\n",
    "    }\n",
    "            std::cout << std::endl;        \n",
    "\n",
    "}"
   ]
  },
  {
   "cell_type": "code",
   "execution_count": 8,
   "metadata": {},
   "outputs": [
    {
     "name": "stdout",
     "output_type": "stream",
     "text": [
      "42\t23\t16\t15\t8\t4\t2\t42\t23\t16\t15\t8\t4\t2\t\n"
     ]
    }
   ],
   "source": [
    "reverseDisplayTab(serie, 14);"
   ]
  },
  {
   "cell_type": "markdown",
   "metadata": {},
   "source": [
    "<font color=\"green\">Ecrire une fonction <b>setElementToZero</b> permettant de mettre à <b>0</b> tous les éléments d'un tableau d'entier <b>tab</b> ayant la valeur <b>val</b>. La fonction retournera le nombre d'élément modifiés. Afficher ensuite le tableau modifié à l'aide de la fonction <b>displayTab</b>.</font>"
   ]
  },
  {
   "cell_type": "code",
   "execution_count": 9,
   "metadata": {},
   "outputs": [],
   "source": [
    "void setElementToZero(int * tab, int n, int elem) {\n",
    "    for(int counter = 0; counter < n; counter ++) {\n",
    "        if (*tab == elem) {\n",
    "            *tab = 0;\n",
    "        }\n",
    "        tab++;\n",
    "\n",
    "    }\n",
    "}"
   ]
  },
  {
   "cell_type": "code",
   "execution_count": 10,
   "metadata": {},
   "outputs": [
    {
     "name": "stdout",
     "output_type": "stream",
     "text": [
      "2\t4\t0\t15\t16\t23\t42\t2\t4\t0\t15\t16\t23\t42\t\n"
     ]
    }
   ],
   "source": [
    "setElementToZero(serie, 14, 8);\n",
    "displayTab(serie, 14);"
   ]
  },
  {
   "cell_type": "markdown",
   "metadata": {},
   "source": [
    "<font color=\"green\">Ecrire une fonction <b>sortTab</b> triant le tableau d'entrée <b>tabIn</b> par <b>ordre croissant</b> d'élément et stockant le résultat dans le tableau de sortie <b>tabOut</b>.</font>"
   ]
  },
  {
   "cell_type": "code",
   "execution_count": 11,
   "metadata": {},
   "outputs": [],
   "source": [
    "#define MAX 10000"
   ]
  },
  {
   "cell_type": "code",
   "execution_count": 12,
   "metadata": {},
   "outputs": [],
   "source": [
    "void sortTab(int * tabIn, int n, int * tabOut) {\n",
    "    for(int outCounter = 0; outCounter < n; outCounter++)  {\n",
    "        \n",
    "    int min = MAX;\n",
    "    int indexMin = 0;\n",
    "    for(int counter=0; counter<n; counter ++) {\n",
    "        if(tabIn[counter] < min) {\n",
    "            min = tabIn[counter];\n",
    "            indexMin = counter;\n",
    "        }\n",
    "    }\n",
    "    tabIn[indexMin] = MAX;\n",
    "    tabOut[outCounter] = min;\n",
    "    }\n",
    "}"
   ]
  },
  {
   "cell_type": "code",
   "execution_count": 13,
   "metadata": {},
   "outputs": [
    {
     "name": "stdout",
     "output_type": "stream",
     "text": [
      "0\t0\t2\t2\t4\t4\t15\t15\t16\t16\t23\t23\t42\t42\t\n"
     ]
    }
   ],
   "source": [
    "int serie2[14];\n",
    "sortTab(serie, 14, serie2);\n",
    "displayTab(serie2, 14);"
   ]
  },
  {
   "cell_type": "markdown",
   "metadata": {},
   "source": [
    "## Exercice 3 - Optimisation"
   ]
  },
  {
   "cell_type": "markdown",
   "metadata": {},
   "source": [
    "On considère la fonction suivante : "
   ]
  },
  {
   "cell_type": "code",
   "execution_count": 14,
   "metadata": {},
   "outputs": [],
   "source": [
    "void mirrorTab2d(int * inputTab, int * outputTab, int width, int height) {\n",
    "    for (int j=0; j<height; j++) {\n",
    "        for (int i=0; i<width; i++) {\n",
    "            outputTab[j*width + i] = inputTab[(j+1)*width-1-i];\n",
    "        }\n",
    "    }\n",
    "}"
   ]
  },
  {
   "cell_type": "markdown",
   "metadata": {},
   "source": [
    "La fonction suivante permet d'afficher un tableau 2d : "
   ]
  },
  {
   "cell_type": "code",
   "execution_count": 15,
   "metadata": {},
   "outputs": [],
   "source": [
    "void displayTab2d (int * tab, int width, int height) {\n",
    "    for (int j=0; j<height; j++) {\n",
    "        for (int i=0; i<width; i++) {\n",
    "            std::cout << tab[j*width + i] << \"\\t\";\n",
    "        }\n",
    "        std::cout << std::endl;\n",
    "    }\n",
    "}"
   ]
  },
  {
   "cell_type": "code",
   "execution_count": 16,
   "metadata": {},
   "outputs": [],
   "source": [
    "int tab2d[20] = {1, 2, 3, 4, 5, 6, 7, 8, 9, 10, 11, 12, 13, 14, 15, 16, 17, 18, 19, 20};\n",
    "int width = 4;\n",
    "int height = 5;"
   ]
  },
  {
   "cell_type": "markdown",
   "metadata": {},
   "source": [
    "Pour afficher le tableau, on écrit :"
   ]
  },
  {
   "cell_type": "code",
   "execution_count": 17,
   "metadata": {},
   "outputs": [
    {
     "name": "stdout",
     "output_type": "stream",
     "text": [
      "1\t2\t3\t4\t\n",
      "5\t6\t7\t8\t\n",
      "9\t10\t11\t12\t\n",
      "13\t14\t15\t16\t\n",
      "17\t18\t19\t20\t\n"
     ]
    }
   ],
   "source": [
    "displayTab2d(tab2d, width, height);"
   ]
  },
  {
   "cell_type": "markdown",
   "metadata": {},
   "source": [
    "Utilisons maintenant la fonction de mirror :\n"
   ]
  },
  {
   "cell_type": "code",
   "execution_count": 18,
   "metadata": {},
   "outputs": [],
   "source": [
    "int tab2dTest[20];"
   ]
  },
  {
   "cell_type": "code",
   "execution_count": 19,
   "metadata": {},
   "outputs": [
    {
     "name": "stdout",
     "output_type": "stream",
     "text": [
      "4\t3\t2\t1\t\n",
      "8\t7\t6\t5\t\n",
      "12\t11\t10\t9\t\n",
      "16\t15\t14\t13\t\n",
      "20\t19\t18\t17\t\n"
     ]
    }
   ],
   "source": [
    "mirrorTab2d(tab2d, tab2dTest, width, height);\n",
    "displayTab2d(tab2dTest, width, height);"
   ]
  },
  {
   "cell_type": "markdown",
   "metadata": {},
   "source": [
    "<font color=\"green\">Ecrire une fonction <b>mirrorTab2dOpt</b> optimisant la fonction <b>mirrorTab2d</b> à l'aide de pointeurs.</font>"
   ]
  }
 ],
 "metadata": {
  "kernelspec": {
   "display_name": "C++11",
   "language": "C++11",
   "name": "xcpp11"
  },
  "language_info": {
   "codemirror_mode": "text/x-c++src",
   "file_extension": ".cpp",
   "mimetype": "text/x-c++src",
   "name": "c++",
   "version": "11"
  }
 },
 "nbformat": 4,
 "nbformat_minor": 2
}
