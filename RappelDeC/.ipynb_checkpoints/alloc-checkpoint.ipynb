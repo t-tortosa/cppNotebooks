{
 "cells": [
  {
   "cell_type": "markdown",
   "metadata": {},
   "source": [
    "# Les allocations mémoires"
   ]
  },
  {
   "cell_type": "markdown",
   "metadata": {},
   "source": [
    "A chaque déclaration de variable, une adresse mémoire est affectée au programme afin de la stocker. On dit que l'adresse mémoire est <b>allouée</b>.\n",
    "Si un programme tente d'écrire sur une adresse mémoire qui ne lui est pas allouée, il sera alors arrêté par le système d'exploitation et sera forcé d'afficher la célèbre <b>Erreur de segmentation</b>\n",
    "Par exemple, l'adresse 0 n'est jamais allouée par le système :"
   ]
  },
  {
   "cell_type": "code",
   "execution_count": 1,
   "metadata": {},
   "outputs": [
    {
     "name": "stderr",
     "output_type": "stream",
     "text": [
      "\u001b[1minput_line_7:3:2: \u001b[0m\u001b[0;1;35mwarning: \u001b[0m\u001b[1mnull passed to a callee that requires a non-null argument [-Wnonnull]\u001b[0m\n",
      "*pointeur = 10; \n",
      "\u001b[0;1;32m ^~~~~~~~\n",
      "\u001b[0m"
     ]
    },
    {
     "ename": "Interpreter Exception",
     "evalue": "",
     "output_type": "error",
     "traceback": [
      "Interpreter Exception: "
     ]
    }
   ],
   "source": [
    "int * pointeur = NULL;\n",
    "*pointeur = 10; "
   ]
  },
  {
   "cell_type": "markdown",
   "metadata": {},
   "source": [
    "## Allocation statique"
   ]
  },
  {
   "cell_type": "markdown",
   "metadata": {},
   "source": [
    "L'allocation statique est celle utilisée systèmatiquement par le compilateur lorsqu'une variable est déclarée. \n",
    "Par exemple le code suivant alloue la taille d'un <b>int</b> en mémoire :"
   ]
  },
  {
   "cell_type": "code",
   "execution_count": 2,
   "metadata": {},
   "outputs": [],
   "source": [
    "int mon_int;"
   ]
  },
  {
   "cell_type": "markdown",
   "metadata": {},
   "source": [
    "Il est alors possible d'écrire à l'adresse de cette mémoire comme nous l'avons vu dans le chapitre précédent :"
   ]
  },
  {
   "cell_type": "code",
   "execution_count": 4,
   "metadata": {},
   "outputs": [],
   "source": [
    "pointeur = &mon_int;\n",
    "*pointeur = 10;"
   ]
  },
  {
   "cell_type": "markdown",
   "metadata": {},
   "source": [
    "C'est aussi le compilateur qui se charge de faire l'allocation statique lorsque vous déclarez un tableau :"
   ]
  },
  {
   "cell_type": "code",
   "execution_count": 5,
   "metadata": {},
   "outputs": [],
   "source": [
    "int tab[10];"
   ]
  },
  {
   "cell_type": "markdown",
   "metadata": {},
   "source": [
    "<font color=\"green\">Comment fait on pour déclarer un tableau dont on ne connait pas encore la taille ?</font> La seule solution à ce problème avec l'<b>allocation statique</b> est d'allouer un tableau trop grand. Heureusement, l'allocation dynamique permet d'allouer de la mémoire à la vollée !"
   ]
  },
  {
   "cell_type": "markdown",
   "metadata": {},
   "source": [
    "## Allocation dynamique"
   ]
  },
  {
   "cell_type": "markdown",
   "metadata": {},
   "source": [
    "En langage C, la fonction <a href=\"http://www.cplusplus.com/reference/cstdlib/malloc/\"><b>malloc</b></a> est disponible pour allouer de la mémoire. Le prototype de la fonction est le suivant : "
   ]
  },
  {
   "cell_type": "markdown",
   "metadata": {},
   "source": [
    "<img src=\"../img/malloc.png\">"
   ]
  },
  {
   "cell_type": "markdown",
   "metadata": {},
   "source": [
    "La fonction malloc alloue un espace mémoire de taille <b>size</b> et retourne un pointeur vers cet espace mémoire. La taille est exprimée en octet. On ne précise donc pas le nombre d'éléments dans "
   ]
  },
  {
   "cell_type": "code",
   "execution_count": null,
   "metadata": {},
   "outputs": [],
   "source": []
  }
 ],
 "metadata": {
  "kernelspec": {
   "display_name": "C++11",
   "language": "C++11",
   "name": "xcpp11"
  },
  "language_info": {
   "codemirror_mode": "text/x-c++src",
   "file_extension": ".cpp",
   "mimetype": "text/x-c++src",
   "name": "c++",
   "version": "-std=c++11"
  }
 },
 "nbformat": 4,
 "nbformat_minor": 2
}
