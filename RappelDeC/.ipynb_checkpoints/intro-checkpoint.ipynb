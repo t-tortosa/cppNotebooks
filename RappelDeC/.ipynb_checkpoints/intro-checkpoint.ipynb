{
 "cells": [
  {
   "cell_type": "markdown",
   "metadata": {},
   "source": [
    "# Rappel du langage C"
   ]
  },
  {
   "cell_type": "markdown",
   "metadata": {},
   "source": [
    "Le langace C++ est une extension du langage C, afin que celui-ci réponde à la notion de programmation orientée objet. Il est donc essentiel de maîtriser les bases du langages C avant de commencer l'apprentissage du C++. Ce cours intègre ici un chapitre de rappel sur le langage C."
   ]
  },
  {
   "cell_type": "markdown",
   "metadata": {},
   "source": [
    "## Les variables et types de données "
   ]
  },
  {
   "cell_type": "markdown",
   "metadata": {},
   "source": [
    "Les variables sont les outils permettant de stocker les données. Il existe plusieurs types de données que l'on souhaite stocker :<br><br>\n",
    "\n",
    "<dl>\n",
    "  <dt>Les nombres entier :</dt>\n",
    "  <dd>\n",
    "      Les types de données ci-après permettent de stocker des nombres entiers :\n",
    "      <ul>\n",
    "      <li><b>int</b> : stockés sur 16, 32 ou 64 bits en fonction des plate-formes</li>\n",
    "      <li><b>long</b> : stockés sur 32 ou 64 bits</li>\n",
    "      <li><b>short</b> : stockés sur 16 bits</li>\n",
    "      </ul>\n",
    "      Le mot clé <b>unsigned</b> peut être ajouté afin de définir le fait que la variable ne puisse pas être négative. Si le mot <b>unsigned</b> est utilisé seul, il définit une variable de type <b>unsigned int</b>\n",
    "      </dd><br>\n",
    "    <dt> Les nombres flottant :</dt>    \n",
    "  <dd>Les types de données ci après permettent de stocker des nombres flottant : \n",
    "      <ul>\n",
    "      <li><b>float</b></li>\n",
    "      <li><b>double</b></li>\n",
    "      <li><b>long double</b></li>\n",
    "      </ul>    \n",
    "      Utiliser un type <b>long double</b> permet d'avoir plus de précision qu'un type <b>float</b>.\n",
    "  </dd><br>\n",
    "  <dt>Les caractères</dt>\n",
    "    <dd>Le type de donnée utilisé pour stocker un caractère est le <b>char</b></dd>\n",
    "</dl>"
   ]
  },
  {
   "cell_type": "markdown",
   "metadata": {},
   "source": [
    "La déclaration d'une variable (de type int par exemple) se faire de la manière suivante : "
   ]
  },
  {
   "cell_type": "code",
   "execution_count": 1,
   "metadata": {},
   "outputs": [],
   "source": [
    "int ma_variable;"
   ]
  },
  {
   "cell_type": "markdown",
   "metadata": {},
   "source": [
    "<img href=\"../img/caution.png\"></img>\n",
    "<font color=\"green\">Pour l'instant, que contient ma variable ?</font>\n",
    "On ne le sait pas !\n",
    "\n",
    "Pour éviter d'avoir des problèmes, il est possible d'initialiser la variable à sa déclaration :"
   ]
  },
  {
   "cell_type": "code",
   "execution_count": 2,
   "metadata": {},
   "outputs": [],
   "source": [
    "int var = 0;"
   ]
  },
  {
   "cell_type": "markdown",
   "metadata": {},
   "source": [
    "## Les opérateurs"
   ]
  },
  {
   "cell_type": "markdown",
   "metadata": {},
   "source": [
    "Plusieurs opérateurs sont disponibles afin de permettre de réaliser des calculs à partir des variables : \n",
    "Les différents types d'opérateurs disponibles sont les suivants : <br><br>\n",
    "\n",
    "<dl>\n",
    "  <dt>Les opérateurs arithmétiques :</dt>\n",
    "  <dd>\n",
    "      <ul>\n",
    "      <li><b>+</b> : addition</li>\n",
    "      <li><b>-</b> : soustraction</li>\n",
    "      <li><b>*</b> : multiplication</li>\n",
    "      <li><b>/</b> : division</li>\n",
    "      </ul>\n",
    "      </dd><br>\n",
    "    <dt>Les opérateurs de comparaison</dt>\n",
    "    <ul>\n",
    "      <li><b><</b> : inférieur à</li>\n",
    "      <li><b>></b> : supérieur à</li>\n",
    "      <li><b><=</b> : inférieur ou égal à</li>\n",
    "      <li><b>>=</b> : supérieur ou égal à</li>\n",
    "      <li><b>==</b> : égal à</li>\n",
    "      <li><b>!=</b> : différent de</li>\n",
    "      </ul>    \n",
    "      Ces opérateurs ont la particularité de retourner systèmatiquement un entier à 1 dans le cas ou la condition est vraie, à 0 sinon.</dd> <br><br>\n",
    "  <dt>Les opérateurs logiques</dt>\n",
    "    <dd>\n",
    "    <ul>\n",
    "      <li><b>&&</b> : \"AND\" logique</li>\n",
    "      <li><b>||</b> : \"OR\" logique</li>\n",
    "    </ul>\n",
    "    Ces opérateurs permettent souvent de combiner les résultats des opérateurs de comparaison</dd><br>\n",
    "  <dt>Les opérateurs bits à bits</dt>\n",
    "    <dd>\n",
    "    <ul>\n",
    "      <li><b>&</b> : \"AND\" bit à bit</li>\n",
    "      <li><b>|</b> : \"OR\" bit à bit</li>\n",
    "    </ul>\n",
    "    Ces opérateurs permettent de réaliser des opération bits à bits entre les variables</dd><br>\n",
    "      <dt>Les opérateurs d'incréments</dt>\n",
    "    <dd>\n",
    "    <ul>\n",
    "      <li><b>++</b> : incrémente une variable de 1</li>\n",
    "      <li><b>--</b> : décrémente une variable de 1</li>\n",
    "    </ul>\n",
    "</dd>\n",
    "</dl>"
   ]
  },
  {
   "cell_type": "markdown",
   "metadata": {},
   "source": []
  }
 ],
 "metadata": {
  "kernelspec": {
   "display_name": "C++11",
   "language": "C++11",
   "name": "xcpp11"
  },
  "language_info": {
   "codemirror_mode": "text/x-c++src",
   "file_extension": ".cpp",
   "mimetype": "text/x-c++src",
   "name": "c++",
   "version": "-std=c++11"
  }
 },
 "nbformat": 4,
 "nbformat_minor": 2
}
