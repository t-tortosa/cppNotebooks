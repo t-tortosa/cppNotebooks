{
 "cells": [
  {
   "cell_type": "markdown",
   "metadata": {},
   "source": [
    "# Les allocations mémoires"
   ]
  },
  {
   "cell_type": "markdown",
   "metadata": {},
   "source": [
    "A chaque déclaration de variable, une adresse mémoire est affectée au programme afin de la stocker. On dit que l'adresse mémoire est <b>allouée</b>.\n",
    "Si un programme tente d'écrire sur une adresse mémoire qui ne lui est pas allouée, il sera alors arrêté par le système d'exploitation et sera forcé d'afficher la célèbre <b>Erreur de segmentation</b>\n",
    "Par exemple, l'adresse 0 n'est jamais allouée par le système :"
   ]
  },
  {
   "cell_type": "code",
   "execution_count": null,
   "metadata": {},
   "outputs": [],
   "source": [
    "int * pointeur = NULL;\n",
    "*pointeur = 10; "
   ]
  },
  {
   "cell_type": "markdown",
   "metadata": {},
   "source": [
    "## Allocation statique"
   ]
  },
  {
   "cell_type": "markdown",
   "metadata": {},
   "source": [
    "L'allocation statique est celle utilisée systèmatiquement par le compilateur lorsqu'une variable est déclarée. \n",
    "Par exemple le code suivant alloue la taille d'un <b>int</b> en mémoire :"
   ]
  },
  {
   "cell_type": "code",
   "execution_count": null,
   "metadata": {},
   "outputs": [],
   "source": [
    "int mon_int;"
   ]
  },
  {
   "cell_type": "markdown",
   "metadata": {},
   "source": [
    "Il est alors possible d'écrire à l'adresse de cette mémoire comme nous l'avons vu dans le chapitre précédent :"
   ]
  },
  {
   "cell_type": "code",
   "execution_count": null,
   "metadata": {},
   "outputs": [],
   "source": [
    "pointeur = &mon_int;\n",
    "*pointeur = 10;"
   ]
  },
  {
   "cell_type": "markdown",
   "metadata": {},
   "source": [
    "C'est aussi le compilateur qui se charge de faire l'allocation statique lorsque vous déclarez un tableau :"
   ]
  },
  {
   "cell_type": "code",
   "execution_count": null,
   "metadata": {},
   "outputs": [],
   "source": [
    "int tab[10];"
   ]
  },
  {
   "cell_type": "markdown",
   "metadata": {},
   "source": [
    "<font color=\"green\">Comment fait on pour déclarer un tableau dont on ne connait pas encore la taille ?</font> La seule solution à ce problème avec l'<b>allocation statique</b> est d'allouer un tableau trop grand. Heureusement, l'allocation dynamique permet d'allouer de la mémoire à la vollée !"
   ]
  },
  {
   "cell_type": "markdown",
   "metadata": {},
   "source": [
    "## Allocation dynamique"
   ]
  },
  {
   "cell_type": "markdown",
   "metadata": {},
   "source": [
    "En langage C, la fonction <a href=\"http://www.cplusplus.com/reference/cstdlib/malloc/\"><b>malloc</b></a> est disponible pour allouer de la mémoire. Le prototype de la fonction est le suivant : "
   ]
  },
  {
   "cell_type": "markdown",
   "metadata": {},
   "source": [
    "<img src=\"../img/malloc.png\">"
   ]
  },
  {
   "cell_type": "markdown",
   "metadata": {},
   "source": [
    "La fonction malloc alloue un espace mémoire de taille <b>size</b> et retourne un pointeur vers cet espace mémoire. La taille est exprimée en octet. \n",
    "Pour allouer un tableau en fonction du nombre d'élément <b>n</b>, on utilise la fonction <b>sizeof</b>.\n",
    "Par exemple pour allouer un tableau de int de 10 valeurs, on utilise la ligne suivante :"
   ]
  },
  {
   "cell_type": "code",
   "execution_count": null,
   "metadata": {},
   "outputs": [],
   "source": [
    "pointeur = (int *) malloc(sizeof(int)*10);"
   ]
  },
  {
   "cell_type": "code",
   "execution_count": null,
   "metadata": {},
   "outputs": [],
   "source": [
    "pointeur [0] = 10;"
   ]
  },
  {
   "cell_type": "markdown",
   "metadata": {},
   "source": [
    "<div style=\"float:left\"><a href=\"pointeurs.ipynb\">Précedent : Rappels du langage C - Les pointeurs</a></div>\n",
    "\n",
    "<div style=\"float:right\"><a href=\"struct.ipynb\">Suivant : Rappels du langage C - Les structures</a></div>"
   ]
  }
 ],
 "metadata": {
  "kernelspec": {
   "display_name": "C++11",
   "language": "C++11",
   "name": "xcpp11"
  },
  "language_info": {
   "codemirror_mode": "text/x-c++src",
   "file_extension": ".cpp",
   "mimetype": "text/x-c++src",
   "name": "c++",
   "version": "-std=c++11"
  }
 },
 "nbformat": 4,
 "nbformat_minor": 2
}
