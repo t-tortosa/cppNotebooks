{
 "cells": [
  {
   "cell_type": "markdown",
   "metadata": {},
   "source": [
    "# Les allocations mémoires"
   ]
  },
  {
   "cell_type": "markdown",
   "metadata": {},
   "source": [
    "A chaque déclaration de variable, une adresse mémoire est affectée au programme afin de la stocker. On dit que l'adresse mémoire est <b>allouée</b>.\n",
    "Si un programme tente d'écrire sur une adresse mémoire qui ne lui est pas allouée, il sera alors arrêté par le système d'exploitation et sera forcé d'afficher la célèbre <b>Erreur de segmentation</b>\n",
    "Par exemple, l'adresse 0 n'est jamais allouée par le système :"
   ]
  },
  {
   "cell_type": "code",
   "execution_count": 1,
   "metadata": {},
   "outputs": [
    {
     "name": "stderr",
     "output_type": "stream",
     "text": [
      "\u001b[1minput_line_7:3:2: \u001b[0m\u001b[0;1;35mwarning: \u001b[0m\u001b[1mnull passed to a callee that requires a non-null argument [-Wnonnull]\u001b[0m\n",
      "*pointeur = 10; \n",
      "\u001b[0;1;32m ^~~~~~~~\n",
      "\u001b[0m"
     ]
    },
    {
     "ename": "Interpreter Exception",
     "evalue": "",
     "output_type": "error",
     "traceback": [
      "Interpreter Exception: "
     ]
    }
   ],
   "source": [
    "int * pointeur = 0;\n",
    "*pointeur = 10; "
   ]
  }
 ],
 "metadata": {
  "kernelspec": {
   "display_name": "C++11",
   "language": "C++11",
   "name": "xcpp11"
  },
  "language_info": {
   "codemirror_mode": "text/x-c++src",
   "file_extension": ".cpp",
   "mimetype": "text/x-c++src",
   "name": "c++",
   "version": "-std=c++11"
  }
 },
 "nbformat": 4,
 "nbformat_minor": 2
}
