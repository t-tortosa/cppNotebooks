{
 "cells": [
  {
   "cell_type": "code",
   "execution_count": null,
   "metadata": {},
   "outputs": [],
   "source": [
    " #include <stdio.h>"
   ]
  },
  {
   "cell_type": "markdown",
   "metadata": {},
   "source": [
    "# Les pointeurs "
   ]
  },
  {
   "cell_type": "markdown",
   "metadata": {},
   "source": [
    "<font color=\"green\">Pourquoi le langage C et le langage C++ sont encore des langages populaires aujourd'hui ?</font> La possibilité d'utiliser des pointeurs est certainement une des réponses les plus courantes à cette question."
   ]
  },
  {
   "cell_type": "markdown",
   "metadata": {},
   "source": [
    "En langage C, il est possible d'utiliser des variables pour stocker des adresses mémoires. Ces variables sont appelées pointeurs.\n",
    "<b>Elles ne contiennent pas une données, mais une adresse mémoire, pointant sur une donnée</b>"
   ]
  },
  {
   "cell_type": "markdown",
   "metadata": {},
   "source": [
    "## Syntaxe et fonctionnement"
   ]
  },
  {
   "cell_type": "markdown",
   "metadata": {},
   "source": [
    "La déclaration d'un pointeur se fait en utilisant le signe <b>*</b>."
   ]
  },
  {
   "cell_type": "code",
   "execution_count": null,
   "metadata": {},
   "outputs": [],
   "source": [
    "// Déclaration d'un pointeur sur une adresse mémoire contenant un int\n",
    "int * pointeur;"
   ]
  },
  {
   "cell_type": "markdown",
   "metadata": {},
   "source": [
    "Il est aussi possible de connaître l'adresse mémoire de n'importe quelle variable à l'aide du signe <b>&</b>."
   ]
  },
  {
   "cell_type": "code",
   "execution_count": null,
   "metadata": {},
   "outputs": [],
   "source": [
    "#include <iostream> \n",
    "\n",
    "int variable_a = 100;\n",
    "\n",
    "printf(\"Valeur de variable_a : %d\\n\", variable_a);\n",
    "printf(\"Adresse de variable_a : %p\\n\", &variable_a);"
   ]
  },
  {
   "cell_type": "markdown",
   "metadata": {},
   "source": [
    "Il est aussi possible de stocker l'adresse de la variable <b>variable_a</b> dans un pointeur de int :"
   ]
  },
  {
   "cell_type": "code",
   "execution_count": null,
   "metadata": {},
   "outputs": [],
   "source": [
    "int * pointeur = &variable_a;\n",
    "printf(\"pointeur : %p\\n\", pointeur);"
   ]
  },
  {
   "cell_type": "markdown",
   "metadata": {},
   "source": [
    "On peut accéder à la valeur pointée par l'adresse contenu dans un pointeur à l'aide du signe <b>*</b> :"
   ]
  },
  {
   "cell_type": "code",
   "execution_count": null,
   "metadata": {},
   "outputs": [],
   "source": [
    "printf(\"Contenu de l'adresse mémoire %p : %d\\n\", pointeur, *pointeur);"
   ]
  },
  {
   "cell_type": "markdown",
   "metadata": {},
   "source": [
    "On retrouve bien la valeur de la variable <b>variable_a</b> !"
   ]
  },
  {
   "cell_type": "markdown",
   "metadata": {},
   "source": [
    "Maintenant, on exécute le code suivant : "
   ]
  },
  {
   "cell_type": "code",
   "execution_count": null,
   "metadata": {},
   "outputs": [],
   "source": [
    "variable_a = 50;\n",
    "printf(\"Contenu de l'adresse mémoire %p : %d\\n\", pointeur, *pointeur);"
   ]
  },
  {
   "cell_type": "markdown",
   "metadata": {},
   "source": [
    "Ce résultat est normal, puisque l'adresse mémoire de la variable <b>variable_a</b> n'a pas changé. <b>pointeur</b> pointe toujours sur <b>variable_a</b> et la valeur pointée restera le contenu de <b>variable_a</b>"
   ]
  },
  {
   "cell_type": "markdown",
   "metadata": {},
   "source": [
    "## Cas particulier des tableaux"
   ]
  },
  {
   "cell_type": "markdown",
   "metadata": {},
   "source": [
    "Un tableau est une variable permettant de stocker en mémoire plusieurs valeurs. La déclaration d'un tableau se fait de la manière suivante :"
   ]
  },
  {
   "cell_type": "code",
   "execution_count": null,
   "metadata": {},
   "outputs": [],
   "source": [
    "int tab[10];"
   ]
  },
  {
   "cell_type": "markdown",
   "metadata": {},
   "source": [
    "On vient d'allouer un tableau de 10 entier. Pour accéder à la valeur 3 du tableau, on utilise la syntaxe suivante : "
   ]
  },
  {
   "cell_type": "code",
   "execution_count": null,
   "metadata": {},
   "outputs": [],
   "source": [
    "tab[3] = 23;\n",
    "printf(\"%d\\n\", tab[3]);"
   ]
  },
  {
   "cell_type": "markdown",
   "metadata": {},
   "source": [
    "A l'aide d'une boucle, on va écrire un programme qui rempli le tableau d'entier allant de 9 à 0;"
   ]
  },
  {
   "cell_type": "code",
   "execution_count": null,
   "metadata": {},
   "outputs": [],
   "source": [
    "int counter;\n",
    "for(counter = 0; counter < 10; counter++)\n",
    "    tab[counter] = 9-counter;\n",
    "for(counter = 0; counter < 10; counter++)\n",
    "    printf(\"%d\\n\", tab[counter]);"
   ]
  },
  {
   "cell_type": "markdown",
   "metadata": {},
   "source": [
    "<font color=\"green\">Que se passe-t-il si on souhaite afficher la variable tab ?</font>"
   ]
  },
  {
   "cell_type": "code",
   "execution_count": null,
   "metadata": {},
   "outputs": [],
   "source": [
    "printf(\"%p\\n\", tab);"
   ]
  },
  {
   "cell_type": "markdown",
   "metadata": {},
   "source": [
    "<b>tab</b> est en fait un <b>pointeur</b> ! Il est alors possible de le stocker dans la variable <b>pointeur</b>, que l'on a défini précédemment :"
   ]
  },
  {
   "cell_type": "code",
   "execution_count": null,
   "metadata": {},
   "outputs": [],
   "source": [
    "pointeur = tab;\n",
    "printf(\"%p\\n\", tab);\n",
    "printf(\"%d\\n\", *tab);"
   ]
  },
  {
   "cell_type": "markdown",
   "metadata": {},
   "source": [
    "<b>*pointeur</b> donne la valeur de la première variable du tableau. On peut également parcourir le tableau comme précédemment : "
   ]
  },
  {
   "cell_type": "code",
   "execution_count": null,
   "metadata": {},
   "outputs": [],
   "source": [
    "for(counter = 0; counter < 10; counter++)\n",
    "    printf(\"%d\\n\", pointeur[counter]);"
   ]
  },
  {
   "cell_type": "markdown",
   "metadata": {},
   "source": [
    "Une autre syntaxe pourrait être la suivante :"
   ]
  },
  {
   "cell_type": "code",
   "execution_count": null,
   "metadata": {},
   "outputs": [],
   "source": [
    "for(counter = 0; counter < 10; counter++)\n",
    "    printf(\"%d\\n\", *(pointeur + counter));"
   ]
  },
  {
   "cell_type": "markdown",
   "metadata": {},
   "source": [
    "## Fonctions et retour par adresse "
   ]
  },
  {
   "cell_type": "markdown",
   "metadata": {},
   "source": [
    "On a vu précédemment que les fonctions ne peuvent retourner qu'un seul résultat. Les pointeurs permettent de corriger ce défaut. En effet, si l'un des paramètres de la fonction est un pointeur, il est alors possible de modifier son contenu :"
   ]
  },
  {
   "cell_type": "code",
   "execution_count": null,
   "metadata": {},
   "outputs": [],
   "source": [
    "void add(int * result, int a, int b) {\n",
    "    if(result != NULL)\n",
    "        *result = a + b;\n",
    "}"
   ]
  },
  {
   "cell_type": "code",
   "execution_count": null,
   "metadata": {},
   "outputs": [],
   "source": [
    "int var_a = 4;\n",
    "int var_b = 5;\n",
    "int result;"
   ]
  },
  {
   "cell_type": "code",
   "execution_count": null,
   "metadata": {},
   "outputs": [],
   "source": [
    "add(&result, var_a, var_b);\n",
    "printf(\"%d\\n\", result);"
   ]
  },
  {
   "cell_type": "markdown",
   "metadata": {},
   "source": [
    "Le résultat a donc bien été retourné.<br>\n",
    "<img src=\"../img/caution.png\" width=\"36\"> Attention, il faut toujours utiliser les pointeurs avec précaution. Ici il faut être bien conscient qu'une variable passée en paramètre par adresse peut être modifiée. La modification de la valeur est beaucoup moins visible que dans le cas d'une variable de retour classique. "
   ]
  },
  {
   "cell_type": "markdown",
   "metadata": {},
   "source": [
    "# Optimisation"
   ]
  },
  {
   "cell_type": "markdown",
   "metadata": {},
   "source": [
    "Il est possible d'utiliser les pointeurs pour optimiser son code. Prenons l'exemple de la fonction suivante :"
   ]
  },
  {
   "cell_type": "code",
   "execution_count": null,
   "metadata": {},
   "outputs": [],
   "source": [
    "int x, y;\n",
    "int width=100, height=100; //Largeur et hauteur du tableau\n",
    "int tab2d[10000];        "
   ]
  },
  {
   "cell_type": "code",
   "execution_count": null,
   "metadata": {},
   "outputs": [],
   "source": [
    "for(x=0; x<width; x++) {\n",
    "    for(y=0; y<height; y++) {\n",
    "        tab2d[x + y*width] = x + y;\n",
    "    }\n",
    "}"
   ]
  },
  {
   "cell_type": "markdown",
   "metadata": {},
   "source": [
    "Ici on exécute <b>10000</b> fois l'opération <b>x + y*width</b>. On pourrait alors imaginer l'optimisation suivante à l'aide de pointeurs : "
   ]
  },
  {
   "cell_type": "code",
   "execution_count": null,
   "metadata": {},
   "outputs": [],
   "source": [
    "// Copie de l'adresse du tableau dans un pointeur\n",
    "int * ptab2d = tab2d;\n",
    "for(x=0; x<width; x++) {\n",
    "    for(y=0; y<height; y++) {\n",
    "        *ptab2d = x + y;\n",
    "        ptab2d++;\n",
    "    }\n",
    "}"
   ]
  },
  {
   "cell_type": "markdown",
   "metadata": {},
   "source": [
    "Les deux codes donnent le même résultat. Par contre, dans ce cas, on a remplacé l'opération <b>x + y*width</b> par l'opération <b>ptab2d++</b> qui est beaucoup moins couteuse !"
   ]
  },
  {
   "cell_type": "markdown",
   "metadata": {},
   "source": [
    "<div style=\"float:center\"><a href=\"pointeurExercices.ipynb\">Exercices</a></div>\n",
    "<br><br>\n",
    "\n",
    "<div style=\"float:left\"><a href=\"preprocesseur.ipynb\">Précedent : Rappels du langage C - Le préprocesseur</a></div>\n",
    "\n",
    "<div style=\"float:right\"><a href=\"alloc.ipynb\">Suivant : Rappels du langage C - L'allocation mémoire</a></div>"
   ]
  }
 ],
 "metadata": {
  "kernelspec": {
   "display_name": "C++11",
   "language": "C++11",
   "name": "xcpp11"
  },
  "language_info": {
   "codemirror_mode": "text/x-c++src",
   "file_extension": ".cpp",
   "mimetype": "text/x-c++src",
   "name": "c++",
   "version": "11"
  }
 },
 "nbformat": 4,
 "nbformat_minor": 2
}
