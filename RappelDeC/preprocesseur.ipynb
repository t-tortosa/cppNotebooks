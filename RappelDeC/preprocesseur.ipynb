{
 "cells": [
  {
   "cell_type": "markdown",
   "metadata": {},
   "source": [
    "# Le préprocesseur"
   ]
  },
  {
   "cell_type": "markdown",
   "metadata": {},
   "source": [
    "Pour rappel, le compilateur permet de transformer un code C en langage interpretable par le processeur. \n",
    "L'étape de compilation elle même peut se diviser en plusieurs étapes : \n",
    "<img title=\"Processus de compilation\" src=\"../img/compiler.png\">"
   ]
  },
  {
   "cell_type": "markdown",
   "metadata": {},
   "source": [
    "Le précompilateur permet de transformer le code original afin de créer un code intermédiaire qui sera envoyé au compilateur"
   ]
  },
  {
   "cell_type": "markdown",
   "metadata": {},
   "source": [
    "Concrètement, afin d'adresser une directive au compilateur, dans le code il faut commencer une ligne par le caractère '#'. Le précompilateur viendra lire ces directives de manière <b>itérative</b>. Par exemple, le code suivant est une directive du précompilateur : "
   ]
  },
  {
   "cell_type": "code",
   "execution_count": null,
   "metadata": {},
   "outputs": [],
   "source": [
    "#include <stdio.h>"
   ]
  },
  {
   "cell_type": "markdown",
   "metadata": {},
   "source": [
    "<font color=\"green\">Que fait le précompilateur lorsqu'il traite cette commande ?</font> Il copie intégralement le contenu du fichier \"stdio.h\" à la place de la directive <b>include</b>."
   ]
  },
  {
   "cell_type": "markdown",
   "metadata": {},
   "source": [
    "Voyons maintenant les différentes directives du précompilateur"
   ]
  },
  {
   "cell_type": "markdown",
   "metadata": {},
   "source": [
    "## #include"
   ]
  },
  {
   "cell_type": "markdown",
   "metadata": {},
   "source": [
    "Comme précisé précédemment, la directive <b>#include</b> indique au précompilateur qu'il doit remplacer la directive par le contenu du fichier indiqué. \n",
    "L'exemple suivant permet d'illustrer ce passage : \n",
    "<img title=\"Illustration de la directive #include\" src=\"../img/includedirective.png\">"
   ]
  },
  {
   "cell_type": "markdown",
   "metadata": {},
   "source": [
    "## #define"
   ]
  },
  {
   "cell_type": "markdown",
   "metadata": {},
   "source": [
    "Prenons l'exemple suivant : "
   ]
  },
  {
   "cell_type": "code",
   "execution_count": null,
   "metadata": {},
   "outputs": [],
   "source": [
    "#define HELLO \"hello\" "
   ]
  },
  {
   "cell_type": "markdown",
   "metadata": {},
   "source": [
    "A partir du moment ou le précompilateur a lu cette directive, il remplacera toutes les occurences du mot <b>HELLO</b> dans le fichier par <b>\"hello\"</b>. Cette directive est souvent utilisée en C pour créer des constantes :"
   ]
  },
  {
   "cell_type": "code",
   "execution_count": null,
   "metadata": {},
   "outputs": [],
   "source": [
    "#define PI 3.14 "
   ]
  },
  {
   "cell_type": "markdown",
   "metadata": {},
   "source": [
    "Ici la valeur de PI ne peut pas être modifiée puisqu'écrire <b>PI = valeur</b> revient à écrire <b>3.14 = valeur</b>. Ce n'est pas compilable."
   ]
  },
  {
   "cell_type": "markdown",
   "metadata": {},
   "source": [
    "## Pour finir"
   ]
  },
  {
   "cell_type": "markdown",
   "metadata": {},
   "source": [
    "Il existe de nombreuses autres directives précompilateur que vous avez probablement déjà vu :\n",
    "<ul>\n",
    "    <li><b>#ifdef</b></li>\n",
    "    <li><b>#ifndef</b></li>\n",
    "    <li><b>#endif</b></li>\n",
    "    <li><b>#error</b></li>\n",
    "    <li><b>#warning</b></li>\n",
    "</ul>"
   ]
  },
  {
   "cell_type": "markdown",
   "metadata": {},
   "source": [
    "<div style=\"float:left\"><a href=\"intro.ipynb\">Précedent : Rappels du langage C - Introduction</a></div>\n",
    "\n",
    "<div style=\"float:right\"><a href=\"pointeurs.ipynb\">Suivant : Rappels du langage C - Les pointeurs</a></div>"
   ]
  }
 ],
 "metadata": {
  "kernelspec": {
   "display_name": "C++11",
   "language": "C++11",
   "name": "xcpp11"
  },
  "language_info": {
   "codemirror_mode": "text/x-c++src",
   "file_extension": ".cpp",
   "mimetype": "text/x-c++src",
   "name": "c++",
   "version": "11"
  }
 },
 "nbformat": 4,
 "nbformat_minor": 2
}
