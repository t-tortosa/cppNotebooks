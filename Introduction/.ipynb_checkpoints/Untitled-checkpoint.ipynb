{
 "cells": [
  {
   "cell_type": "markdown",
   "metadata": {},
   "source": [
    "<a title=\"Cameron Oelsen [BSD (http://opensource.org/licenses/bsd-license.php)], via Wikimedia Commons\" href=\"https://commons.wikimedia.org/wiki/File:Jupyter_logo.svg\"><img width=\"55\" alt=\"Jupyter logo\" src=\"https://upload.wikimedia.org/wikipedia/commons/thumb/3/38/Jupyter_logo.svg/207px-Jupyter_logo.svg.png\"></a>\n",
    "\n",
    "# Jupyter "
   ]
  },
  {
   "cell_type": "markdown",
   "metadata": {},
   "source": [
    "<b>Jupyter</b> est une application web permettant d'exécuter du code dans de nombreux langages informatiques. Dans ce cours, nous utiliserons cette application pour illustrer de nombreux concepts et pour réaliser de plusieurs exercices."
   ]
  },
  {
   "cell_type": "markdown",
   "metadata": {},
   "source": [
    "<img src=\"../img/caution.png\" width=\"20\"> <b>Attention : </b>Bien que l'utilisation de cette application pratique pour illustrer les concepts que nous allons étudier, il ne s'agit pas d'un compilateur classique. Les codes exécutés sont compilés et exécutés à la volée. Nous verrons également par la suite comment mettre en place un projet et développer sur une plate forme linux à l'aide d'un compilateur classique (<b>gcc</b>)."
   ]
  },
  {
   "cell_type": "markdown",
   "metadata": {},
   "source": [
    "## Comment ça marche ?"
   ]
  },
  {
   "cell_type": "markdown",
   "metadata": {},
   "source": []
  }
 ],
 "metadata": {
  "kernelspec": {
   "display_name": "C++11",
   "language": "C++11",
   "name": "xcpp11"
  },
  "language_info": {
   "codemirror_mode": "text/x-c++src",
   "file_extension": ".cpp",
   "mimetype": "text/x-c++src",
   "name": "c++",
   "version": "-std=c++11"
  }
 },
 "nbformat": 4,
 "nbformat_minor": 2
}
