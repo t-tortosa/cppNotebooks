{
 "cells": [
  {
   "cell_type": "markdown",
   "metadata": {},
   "source": [
    "Vous êtes actuellement sur une page affichée à l'aide de Jupyter ! "
   ]
  },
  {
   "cell_type": "markdown",
   "metadata": {},
   "source": [
    "<a title=\"Cameron Oelsen [BSD (http://opensource.org/licenses/bsd-license.php)], via Wikimedia Commons\" href=\"https://commons.wikimedia.org/wiki/File:Jupyter_logo.svg\"><img width=\"55\" alt=\"Jupyter logo\" src=\"https://upload.wikimedia.org/wikipedia/commons/thumb/3/38/Jupyter_logo.svg/207px-Jupyter_logo.svg.png\"></a>\n",
    "\n",
    "# Jupyter "
   ]
  },
  {
   "cell_type": "markdown",
   "metadata": {},
   "source": [
    "<b>Jupyter</b> est une application web permettant d'exécuter du code dans de nombreux langages informatiques. Dans ce cours, nous utiliserons cette application pour illustrer de nombreux concepts et pour réaliser de plusieurs exercices."
   ]
  },
  {
   "cell_type": "markdown",
   "metadata": {},
   "source": [
    "<img src=\"../img/caution.png\" width=\"20\"> <b>Attention : </b>Bien que l'utilisation de cette application pratique pour illustrer les concepts que nous allons étudier, il ne s'agit pas d'un compilateur classique. Les codes exécutés sont compilés et exécutés à la volée. Nous verrons également par la suite comment mettre en place un projet et développer sur une plate forme linux à l'aide d'un compilateur classique (<b>gcc</b>)."
   ]
  },
  {
   "cell_type": "markdown",
   "metadata": {},
   "source": [
    "## Comment ça marche ?"
   ]
  },
  {
   "cell_type": "markdown",
   "metadata": {},
   "source": [
    "Jupyter utilise un système de bloc. Il existe principalement deux types de bloc : \n",
    "<ul>\n",
    "    <li>Les blocs de type <b>texte</b></li>\n",
    "    <li>Les blocs de type <b>code</b></li>\n",
    "</ul>\n",
    "\n",
    "Les principales fonctions que vous aurez à utiliser durant ce cours seront les suivantes : \n",
    "<dl>\n",
    "  <dt>Creer un bloc en dessous du bloc courant :</dt>\n",
    "  <dd>- touche 'b'</dd>\n",
    "  <dt>Creer un bloc au dessus du bloc courant :</dt>\n",
    "  <dd>- touche 'a'</dd>\n",
    "  <dt>Transformer le bloc courant en type texte</dt>\n",
    "  <dd>- touche 'm'</dd>\n",
    "  <dt>Transformer le bloc courant en type code</dt>\n",
    "  <dd>- touche 'y'</dd>\n",
    "  <dt>Passer en mode édition sur le bloc actuel</dt>\n",
    "  <dd>- touche 'Entrée'</dd>\n",
    "  <dt>Quitter le mode édition sur le bloc actuel</dt>\n",
    "  <dd>- touche 'Echap'</dd>\n",
    "  <dt>Exécuter le bloc en cours d'édition :</dt>\n",
    "  <dd>- touche 'Crtl + Entrée'</dd>\n",
    "</dl>\n",
    "\n",
    "Un bloc de type texte est exécuté comme un code html, alors qu'un bloc de type code sera exécuté comme un code C++ (en tout cas dans ce cours)."
   ]
  },
  {
   "cell_type": "markdown",
   "metadata": {},
   "source": [
    "Un exemple avec l'exécution du célèbre \"Hello World\" en C++ :"
   ]
  },
  {
   "cell_type": "code",
   "execution_count": 2,
   "metadata": {},
   "outputs": [
    {
     "name": "stdout",
     "output_type": "stream",
     "text": [
      "Hello World\n"
     ]
    }
   ],
   "source": [
    "#include <iostream>\n",
    "\n",
    "std::cout << \"Hello World\" << std::endl;"
   ]
  },
  {
   "cell_type": "markdown",
   "metadata": {},
   "source": [
    "Bien entendu, nous commenterons le code précédent dans un autre chapitre."
   ]
  },
  {
   "cell_type": "markdown",
   "metadata": {},
   "source": [
    "<b>Attention</b>, le code est compilé de manière incrémentale. Par exemple, essayez d'exécuter deux fois le bloc ci-dessous : "
   ]
  },
  {
   "cell_type": "code",
   "execution_count": 4,
   "metadata": {},
   "outputs": [
    {
     "name": "stderr",
     "output_type": "stream",
     "text": [
      "\u001b[1minput_line_12:2:6: \u001b[0m\u001b[0;1;31merror: \u001b[0m\u001b[1mredefinition of 'number'\u001b[0m\n",
      " int number;\n",
      "\u001b[0;1;32m     ^\n",
      "\u001b[0m\u001b[1minput_line_11:2:6: \u001b[0m\u001b[0;1;30mnote: \u001b[0mprevious definition is here\u001b[0m\n",
      " int number;\n",
      "\u001b[0;1;32m     ^\n",
      "\u001b[0m"
     ]
    },
    {
     "ename": "Interpreter Error",
     "evalue": "",
     "output_type": "error",
     "traceback": [
      "Interpreter Error: "
     ]
    }
   ],
   "source": [
    "int number;"
   ]
  },
  {
   "cell_type": "markdown",
   "metadata": {},
   "source": [
    "Le compilateur considère avoir déjà défini une variable nommée \"number\". Il sera alors nécessaire de redémarrer le kernel de la page pour tester à nouveau. Pour cela, il suffit de cliquer sur Kernel --> \"Restart & Clear Output\". Vous pourrez alors à nouveau exécuter le code précédent sans erreur."
   ]
  },
  {
   "cell_type": "markdown",
   "metadata": {},
   "source": [
    "Vous êtes maintenant prêt à utiliser ce cours. "
   ]
  },
  {
   "cell_type": "markdown",
   "metadata": {},
   "source": [
    "<div style=\"float:left\"><a href=\"introduction.ipynb\">Précedent : Introduction</a></div>\n",
    "\n",
    "<div style=\"float:right\"><a href=\"../RappelDeC/intro.ipynb\">Suivant : Rappels du langage C - Introduction</a></div>"
   ]
  }
 ],
 "metadata": {
  "kernelspec": {
   "display_name": "C++11",
   "language": "C++11",
   "name": "xcpp11"
  },
  "language_info": {
   "codemirror_mode": "text/x-c++src",
   "file_extension": ".cpp",
   "mimetype": "text/x-c++src",
   "name": "c++",
   "version": "-std=c++11"
  }
 },
 "nbformat": 4,
 "nbformat_minor": 2
}
