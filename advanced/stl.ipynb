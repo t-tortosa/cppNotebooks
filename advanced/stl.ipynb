{
 "cells": [
  {
   "cell_type": "code",
   "execution_count": 1,
   "metadata": {},
   "outputs": [],
   "source": [
    "#include <iostream>"
   ]
  },
  {
   "cell_type": "markdown",
   "metadata": {},
   "source": [
    "# La librarie standard - STL"
   ]
  },
  {
   "cell_type": "markdown",
   "metadata": {},
   "source": [
    "En plus des fonctionnalités de base du C++ il existe une libraire disponible sur tout les systèmes implémentant de nombreux objets. Il s'agit de la <a href=\"https://fr.wikipedia.org/wiki/Standard_Template_Library\">STL</a>."
   ]
  },
  {
   "cell_type": "markdown",
   "metadata": {},
   "source": [
    "Nous avons déjà utilisé plusieurs de ces objets : \n",
    "<ul>\n",
    "    <li>Les <b>string</b></li>\n",
    "    <li>Les <b>stream</b> : à travers l'utilisation de std::cin et std::cout </li>\n",
    "</ul>"
   ]
  },
  {
   "cell_type": "markdown",
   "metadata": {},
   "source": [
    "Le site <a href=\"http://www.cplusplus.com/doc/\">cplusplus.com</a> réfère l'ensemble des fonctionnalités. Il est presque constamment ouvert lorsque vous codez !"
   ]
  },
  {
   "cell_type": "markdown",
   "metadata": {},
   "source": [
    "Ici nous allons aborder quelques classes de base utilisées qu'implémente la librairie. La plupart des fonctionnalités de la STL ne seront pas abordées dans ce chapitre, il s'agira de chercher par soi même."
   ]
  },
  {
   "cell_type": "markdown",
   "metadata": {},
   "source": [
    "## string"
   ]
  },
  {
   "cell_type": "markdown",
   "metadata": {},
   "source": [
    "Comme nous l'avons vu précédemment, la classe <a href=\"http://www.cplusplus.com/reference/string/string/?kw=string\">string</a> permet de représenter des chaines de caractères."
   ]
  },
  {
   "cell_type": "markdown",
   "metadata": {},
   "source": [
    "Tout d'abord, il faut importer le header de la classe <b>string</b> : "
   ]
  },
  {
   "cell_type": "code",
   "execution_count": 2,
   "metadata": {},
   "outputs": [],
   "source": [
    "#include <string>"
   ]
  },
  {
   "cell_type": "markdown",
   "metadata": {},
   "source": [
    "Pour déclarer et initialiser un <b>string</b>, on utilise la syntaxe suivante : "
   ]
  },
  {
   "cell_type": "code",
   "execution_count": 3,
   "metadata": {},
   "outputs": [],
   "source": [
    "std::string mot = std::string(\"Un mot\");"
   ]
  },
  {
   "cell_type": "markdown",
   "metadata": {},
   "source": [
    "L'affichage se fait simplement à l'aide de <i>std::cout</i>"
   ]
  },
  {
   "cell_type": "code",
   "execution_count": 4,
   "metadata": {},
   "outputs": [
    {
     "name": "stdout",
     "output_type": "stream",
     "text": [
      "Un mot\n"
     ]
    }
   ],
   "source": [
    "std::cout << mot << std::endl;"
   ]
  },
  {
   "cell_type": "markdown",
   "metadata": {},
   "source": [
    "On peut aussi initialiser un <b>string</b> de la manière suivante : "
   ]
  },
  {
   "cell_type": "code",
   "execution_count": 5,
   "metadata": {},
   "outputs": [],
   "source": [
    "mot = \"Un autre mot\";"
   ]
  },
  {
   "cell_type": "code",
   "execution_count": 6,
   "metadata": {},
   "outputs": [
    {
     "name": "stdout",
     "output_type": "stream",
     "text": [
      "Un autre mot\n"
     ]
    }
   ],
   "source": [
    "std::cout << mot << std::endl;"
   ]
  },
  {
   "cell_type": "markdown",
   "metadata": {},
   "source": [
    "La concaténation est implémentée à l'aide de l'opérateur <b>+</b> :"
   ]
  },
  {
   "cell_type": "code",
   "execution_count": 7,
   "metadata": {},
   "outputs": [],
   "source": [
    "std::string mot2 = std::string(\" et le mot 2\");"
   ]
  },
  {
   "cell_type": "code",
   "execution_count": 8,
   "metadata": {},
   "outputs": [
    {
     "name": "stdout",
     "output_type": "stream",
     "text": [
      "Un autre mot et le mot 2\n"
     ]
    }
   ],
   "source": [
    "std::cout << mot + mot2 << std::endl;"
   ]
  },
  {
   "cell_type": "markdown",
   "metadata": {},
   "source": [
    "Les caractères de la chaine sont accessibles individuellement à l'aide de l'opérateur <b>[]</b> ou de la méthode <b>at</b>."
   ]
  },
  {
   "cell_type": "code",
   "execution_count": 9,
   "metadata": {},
   "outputs": [
    {
     "name": "stdout",
     "output_type": "stream",
     "text": [
      "U\n",
      "n\n",
      " \n",
      "a\n",
      "u\n",
      "t\n",
      "r\n",
      "e\n",
      " \n",
      "m\n",
      "o\n",
      "t\n"
     ]
    }
   ],
   "source": [
    "for(int counter = 0; counter < mot.size(); counter ++) {\n",
    "    std::cout << mot[counter] << std::endl;\n",
    "}"
   ]
  },
  {
   "cell_type": "markdown",
   "metadata": {},
   "source": [
    "La méthode <a href=\"http://www.cplusplus.com/reference/string/string/substr/\"><b>substr</b></a> permet d'extraire un morceau de la chaine de caractère :\n"
   ]
  },
  {
   "cell_type": "code",
   "execution_count": 10,
   "metadata": {},
   "outputs": [
    {
     "name": "stdout",
     "output_type": "stream",
     "text": [
      "autre mot\n"
     ]
    }
   ],
   "source": [
    "std::cout << mot.substr(mot.find(\"autre\")) << std::endl;"
   ]
  },
  {
   "cell_type": "markdown",
   "metadata": {},
   "source": [
    "## Les conteneurs"
   ]
  },
  {
   "cell_type": "markdown",
   "metadata": {},
   "source": [
    "Les conteneurs sont des objets permettentant de stocker plusieurs d'objets."
   ]
  },
  {
   "cell_type": "markdown",
   "metadata": {},
   "source": [
    "Ci-après trois exemples de conteneurs en C++ : \n",
    "<ul>\n",
    "    <li><a href=\"http://www.cplusplus.com/reference/vector/vector/?kw=vector\"><b>vector</b></a> : Implémentation des FILO</li>\n",
    "    <li><a href=\"http://www.cplusplus.com/reference/queue/queue/?kw=queue\"><b>queue</b></a> : Implémentation des FIFO</li>\n",
    "    <li><a href=\"http://www.cplusplus.com/reference/list/list/?kw=list\"><b>list</b></a>  : Implémentation des listes chaînées</li>\n",
    "</ul>"
   ]
  },
  {
   "cell_type": "markdown",
   "metadata": {},
   "source": [
    "Pour des raisons d'optimisation, le choix du conteneur est important."
   ]
  },
  {
   "cell_type": "markdown",
   "metadata": {},
   "source": [
    "Nous allons ici détailler l'utilisation du vecteur. Il s'agit du conteneur le plus utilisé."
   ]
  },
  {
   "cell_type": "markdown",
   "metadata": {},
   "source": [
    "La classe vector est définie dans le header <b>vector</b>."
   ]
  },
  {
   "cell_type": "code",
   "execution_count": 11,
   "metadata": {},
   "outputs": [],
   "source": [
    "#include <vector>"
   ]
  },
  {
   "cell_type": "markdown",
   "metadata": {},
   "source": [
    "Reprenons dans un premier temps la classe <b>Point</b>"
   ]
  },
  {
   "cell_type": "code",
   "execution_count": 12,
   "metadata": {},
   "outputs": [],
   "source": [
    "class Point {\n",
    "    public:\n",
    "\n",
    "    Point(int x, int y) : x(x), y(y) {}\n",
    "    Point() : x(0), y(0) {}\n",
    "    \n",
    "    Point operator+(const Point & point) {\n",
    "        Point result;\n",
    "        result.x = point.x + x;\n",
    "        result.y = point.y + y;\n",
    "        return result;\n",
    "    }\n",
    "    \n",
    "    Point operator-(const Point & point) {\n",
    "        Point result;\n",
    "        result.x = x - point.x;\n",
    "        result.y = y - point.y;\n",
    "        return result;\n",
    "    }\n",
    "        \n",
    "    void operator+=(const Point & point) {\n",
    "        x += point.x;\n",
    "        y += point.y;\n",
    "    }\n",
    "    \n",
    "    void operator-=(const Point & point) {\n",
    "        x -= point.x;\n",
    "        y -= point.y;\n",
    "    }\n",
    "    \n",
    "    bool operator==(const Point & a){\n",
    "        return (x==a.x && y==a.y);\n",
    "    }\n",
    "    \n",
    "    void afficherPoint() {\n",
    "        std::cout << \"Point de coordonnées [\" << x << \", \" << y << \"]\" << std::endl;\n",
    "    }\n",
    "    \n",
    "    float x;\n",
    "    float y;\n",
    "}"
   ]
  },
  {
   "cell_type": "code",
   "execution_count": 13,
   "metadata": {},
   "outputs": [],
   "source": [
    "Point a(1, 2), b(3, 4), c(5, 6), d(7, 8);"
   ]
  },
  {
   "cell_type": "markdown",
   "metadata": {},
   "source": [
    "Nous allons maintenant créer un vecteur de points :"
   ]
  },
  {
   "cell_type": "code",
   "execution_count": 14,
   "metadata": {},
   "outputs": [],
   "source": [
    "std::vector<Point> pointList;"
   ]
  },
  {
   "cell_type": "markdown",
   "metadata": {},
   "source": [
    "Initialement, le vecteur est vide. Il existe plusieurs moyen de le vérifier :"
   ]
  },
  {
   "cell_type": "code",
   "execution_count": 15,
   "metadata": {},
   "outputs": [
    {
     "name": "stdout",
     "output_type": "stream",
     "text": [
      "Taille du vecteur : 0\n",
      "Le vecteur est-il vide ? oui\n"
     ]
    }
   ],
   "source": [
    "std::cout << \"Taille du vecteur : \" << pointList.size() << std::endl;\n",
    "std::cout << \"Le vecteur est-il vide ? \" << ((pointList.empty())?\"oui\":\"non\")<< std::endl;"
   ]
  },
  {
   "cell_type": "markdown",
   "metadata": {},
   "source": [
    "Pour ajouter un élément à la fin de la liste, on utilise la méthode <b>push_back</b>."
   ]
  },
  {
   "cell_type": "code",
   "execution_count": 16,
   "metadata": {},
   "outputs": [],
   "source": [
    "pointList.push_back(a);\n",
    "pointList.push_back(b);\n",
    "pointList.push_back(c);\n",
    "pointList.push_back(d);"
   ]
  },
  {
   "cell_type": "markdown",
   "metadata": {},
   "source": [
    "<b>pop_back</b> permet de supprimer un élément de la liste"
   ]
  },
  {
   "cell_type": "code",
   "execution_count": 17,
   "metadata": {},
   "outputs": [],
   "source": [
    "pointList.pop_back();"
   ]
  },
  {
   "cell_type": "markdown",
   "metadata": {},
   "source": [
    "On peut alors parcourir la liste à l'aide de l'opérateur <b>[]</b> ou de la méthode <b>at</b> :"
   ]
  },
  {
   "cell_type": "code",
   "execution_count": 18,
   "metadata": {},
   "outputs": [
    {
     "name": "stdout",
     "output_type": "stream",
     "text": [
      "Point de coordonnées [1, 2]\n",
      "Point de coordonnées [3, 4]\n",
      "Point de coordonnées [5, 6]\n"
     ]
    }
   ],
   "source": [
    "for(int counter=0; counter < pointList.size(); counter++) {\n",
    "    pointList.at(counter).afficherPoint();\n",
    "}"
   ]
  },
  {
   "cell_type": "markdown",
   "metadata": {},
   "source": [
    "Pour réinitialiser le vector, on utilise la méthode <b>clear</b> :"
   ]
  },
  {
   "cell_type": "code",
   "execution_count": 19,
   "metadata": {},
   "outputs": [
    {
     "name": "stdout",
     "output_type": "stream",
     "text": [
      "Le vecteur est-il vide ? oui\n"
     ]
    }
   ],
   "source": [
    "pointList.clear();\n",
    "std::cout << \"Le vecteur est-il vide ? \" << ((pointList.empty())?\"oui\":\"non\")<< std::endl;"
   ]
  },
  {
   "cell_type": "markdown",
   "metadata": {},
   "source": [
    "Il existe aussi un objet appelé itérateur permettant de parcourir un conteneur à la manière des pointeurs. Il s'agit de l'<b>itérateur</b>."
   ]
  },
  {
   "cell_type": "code",
   "execution_count": 20,
   "metadata": {},
   "outputs": [
    {
     "name": "stdout",
     "output_type": "stream",
     "text": [
      "Point de coordonnées [1, 2]\n",
      "Point de coordonnées [3, 4]\n",
      "Point de coordonnées [5, 6]\n",
      "Point de coordonnées [7, 8]\n"
     ]
    }
   ],
   "source": [
    "pointList.push_back(a);\n",
    "pointList.push_back(b);\n",
    "pointList.push_back(c);\n",
    "pointList.push_back(d);\n",
    "\n",
    "std::vector<Point>::iterator it;\n",
    "for(it = pointList.begin(); it != pointList.end(); it++) {\n",
    "    it->afficherPoint();\n",
    "}"
   ]
  },
  {
   "cell_type": "markdown",
   "metadata": {},
   "source": [
    "Il s'agit plus ou moins d'un pointeur sur un vecteur de point, qu'on incrémente à chaque tour de boucle."
   ]
  }
 ],
 "metadata": {
  "kernelspec": {
   "display_name": "C++11",
   "language": "C++11",
   "name": "xcpp11"
  },
  "language_info": {
   "codemirror_mode": "text/x-c++src",
   "file_extension": ".cpp",
   "mimetype": "text/x-c++src",
   "name": "c++",
   "version": "-std=c++11"
  }
 },
 "nbformat": 4,
 "nbformat_minor": 2
}
