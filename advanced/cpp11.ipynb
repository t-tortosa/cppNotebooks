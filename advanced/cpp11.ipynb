{
 "cells": [
  {
   "cell_type": "markdown",
   "metadata": {},
   "source": [
    "# Quelques spécificités du C++11"
   ]
  },
  {
   "cell_type": "markdown",
   "metadata": {},
   "source": [
    "Tout ce que nous avons vu maintenant est utilisable dans toutes les versions du C++ à partir de la version c++98. C'est à dire dans toutes les versions utilisées. "
   ]
  },
  {
   "cell_type": "markdown",
   "metadata": {},
   "source": [
    "Depuis le débuts des années 2010, plusieurs versions ont été développées : \n",
    "<ul>\n",
    "    <li>C++11</li>\n",
    "    <li>C++14</li>\n",
    "    <li>C++17</li>\n",
    "    <li>C++20 à venir</li>\n",
    "</ul>"
   ]
  },
  {
   "cell_type": "markdown",
   "metadata": {},
   "source": [
    "On se propose ici de voir quelques apports du C++11"
   ]
  },
  {
   "cell_type": "markdown",
   "metadata": {},
   "source": [
    "## Possibilité d'initialiser les variables membres lors de la déclaration"
   ]
  },
  {
   "cell_type": "markdown",
   "metadata": {},
   "source": [
    "Il est maintenant possible d'initialiser les variables membres lors de l'initialisation de la classe : "
   ]
  },
  {
   "cell_type": "code",
   "execution_count": null,
   "metadata": {},
   "outputs": [],
   "source": [
    "struct A {\n",
    "    int a = 0;\n",
    "    float b = 32.f;\n",
    "};"
   ]
  },
  {
   "cell_type": "markdown",
   "metadata": {},
   "source": [
    "## Constructeurs délégués"
   ]
  },
  {
   "cell_type": "markdown",
   "metadata": {},
   "source": [
    "A partir d'un constructeur, il est possible d'utiliser un autre constructeur :"
   ]
  },
  {
   "cell_type": "code",
   "execution_count": null,
   "metadata": {},
   "outputs": [],
   "source": [
    "class B {\n",
    "    // Initialisation de val\n",
    "    B(int value) : val(value) {}\n",
    "    \n",
    "    //Utilisation d'une valeur par défaut\n",
    "    B() : B(22) {}\n",
    "    \n",
    "    // Attribut val à initialiser\n",
    "    int val;\n",
    "};"
   ]
  },
  {
   "cell_type": "markdown",
   "metadata": {},
   "source": [
    "## Mots clés <i>final</i> et <i>override</i>"
   ]
  },
  {
   "cell_type": "markdown",
   "metadata": {},
   "source": [
    "Il est possible de préciser au compilateur qu'une méthode n'est pas dérivable à l'aide du mot clé <b>final</b>"
   ]
  },
  {
   "cell_type": "markdown",
   "metadata": {},
   "source": [
    "Il est possible de préciser au compilateur qu'une méthode est dérivée d'une méthode d'une classe mère à l'aide du mot clé <b>override</b>"
   ]
  },
  {
   "cell_type": "code",
   "execution_count": null,
   "metadata": {},
   "outputs": [],
   "source": [
    "class C {\n",
    "    void afficherNonVirtuelle();\n",
    "    virtual void afficherFinal() final;\n",
    "    virtual void afficherDerivable();\n",
    "};"
   ]
  },
  {
   "cell_type": "markdown",
   "metadata": {},
   "source": [
    "Essayons alors de dériver la méthode non virtuelle avec le mot clé <b>override</b>"
   ]
  },
  {
   "cell_type": "code",
   "execution_count": null,
   "metadata": {},
   "outputs": [],
   "source": [
    "class D: public C {\n",
    "    void afficherNonVirtuelle() override;\n",
    "};"
   ]
  },
  {
   "cell_type": "markdown",
   "metadata": {},
   "source": [
    "Maintenant la dérivation de la méthode finale avec le mot clé <b>override</b> :"
   ]
  },
  {
   "cell_type": "code",
   "execution_count": null,
   "metadata": {},
   "outputs": [],
   "source": [
    "class D: public C {\n",
    "    void afficherFinal() override;\n",
    "};"
   ]
  },
  {
   "cell_type": "markdown",
   "metadata": {},
   "source": [
    "Enfin la méthode dérivable ne pose pas de problème :"
   ]
  },
  {
   "cell_type": "code",
   "execution_count": null,
   "metadata": {},
   "outputs": [],
   "source": [
    "class D: public C {\n",
    "    void afficherDerivable() override;\n",
    "};"
   ]
  },
  {
   "cell_type": "markdown",
   "metadata": {},
   "source": [
    "## Le <i>initializer-list</i> et <i>range-based for</i>"
   ]
  },
  {
   "cell_type": "markdown",
   "metadata": {},
   "source": [
    "Il est possible d'initialiser et de parcourir un conteneur de la manière suivante : "
   ]
  },
  {
   "cell_type": "code",
   "execution_count": null,
   "metadata": {},
   "outputs": [],
   "source": [
    "#include <iostream>\n",
    "#include <vector>"
   ]
  },
  {
   "cell_type": "code",
   "execution_count": null,
   "metadata": {},
   "outputs": [],
   "source": [
    "std::vector<float> vecFloat = {2.1, 6.6, 4., 897};\n",
    "for (auto fl : vecFloat) {\n",
    "    std::cout << fl << \"\\t\";\n",
    "}\n",
    "std::cout << std::endl;"
   ]
  },
  {
   "cell_type": "markdown",
   "metadata": {},
   "source": [
    "<div style=\"float:left\"><a href=\"stl.ipynb\">Précedent : Notions avancées - <br>La STL</a></div>"
   ]
  }
 ],
 "metadata": {
  "kernelspec": {
   "display_name": "C++11",
   "language": "C++11",
   "name": "xcpp11"
  },
  "language_info": {
   "codemirror_mode": "text/x-c++src",
   "file_extension": ".cpp",
   "mimetype": "text/x-c++src",
   "name": "c++",
   "version": "11"
  }
 },
 "nbformat": 4,
 "nbformat_minor": 2
}
