{
 "cells": [
  {
   "cell_type": "markdown",
   "metadata": {},
   "source": [
    "# Compatibilités entre classes"
   ]
  },
  {
   "cell_type": "markdown",
   "metadata": {},
   "source": [
    "## Objet et héritage en mémoire"
   ]
  },
  {
   "cell_type": "markdown",
   "metadata": {},
   "source": [
    "<font color=\"green\">Que se passe-t-il en mémoire lorsqu'on instancie une classe qui a un parent ?</font> L'espace mémoire allouée pour les membres de la classe fille est directement allouée à la suite de la mémoire allouée pour la classe mère :\n",
    "<img src=\"../img/heritmem.png\"></img>"
   ]
  },
  {
   "cell_type": "markdown",
   "metadata": {},
   "source": [
    "Ceci veut dire que l'ordre de la mémoire alloué n'est pas changé que l'on instancie la classe mère ou la classe fille. Ceci rend possible le code suivant :"
   ]
  },
  {
   "cell_type": "code",
   "execution_count": 1,
   "metadata": {},
   "outputs": [],
   "source": [
    "#include <iostream>\n",
    "#include <string>"
   ]
  },
  {
   "cell_type": "code",
   "execution_count": 2,
   "metadata": {},
   "outputs": [],
   "source": [
    "class A {\n",
    "public:\n",
    "  A(){}\n",
    "  void print(){std::cout << \"Je suis une classe A\" << std::endl;}\n",
    "};"
   ]
  },
  {
   "cell_type": "code",
   "execution_count": 3,
   "metadata": {},
   "outputs": [],
   "source": [
    "class B : public A{\n",
    "    public:\n",
    "    B(){}\n",
    "    void print(){std::cout << \"Je suis une classe B, héritant de A\" << std::endl;}\n",
    "};"
   ]
  },
  {
   "cell_type": "code",
   "execution_count": 4,
   "metadata": {},
   "outputs": [],
   "source": [
    "A * unObjet = new B();"
   ]
  },
  {
   "cell_type": "markdown",
   "metadata": {},
   "source": [
    "Un pointeur vers un objet de type A peut être instancié avec une classe de type B. Par la suite, l'utilisateur n'est pas conscient du type d'objet qu'il utilise. "
   ]
  },
  {
   "cell_type": "markdown",
   "metadata": {},
   "source": [
    "Cela rend également possible de le code suivant :"
   ]
  },
  {
   "cell_type": "code",
   "execution_count": 5,
   "metadata": {},
   "outputs": [],
   "source": [
    "void functionNeSertARien(A monObjet) {\n",
    "    std::cout << \"Je suis entré dans la fonction\" << std::endl;\n",
    "}"
   ]
  },
  {
   "cell_type": "code",
   "execution_count": 6,
   "metadata": {},
   "outputs": [
    {
     "name": "stdout",
     "output_type": "stream",
     "text": [
      "Je suis entré dans la fonction\n"
     ]
    }
   ],
   "source": [
    "B obj;\n",
    "functionNeSertARien(obj);"
   ]
  },
  {
   "cell_type": "markdown",
   "metadata": {},
   "source": [
    "Il est donc possible de convertir automatiquement la classe fille vers la classe mère. "
   ]
  },
  {
   "cell_type": "markdown",
   "metadata": {},
   "source": [
    "<img src=\"../img/caution.png\" width=\"50\"></img>L'inverse n'est jamais possible !"
   ]
  },
  {
   "cell_type": "markdown",
   "metadata": {},
   "source": [
    "## Mot clé <i>virtual</i>"
   ]
  },
  {
   "cell_type": "markdown",
   "metadata": {},
   "source": [
    "<font color=\"green\">Que se passe-t-il alors si on utilise la méthode print ?</font>"
   ]
  },
  {
   "cell_type": "code",
   "execution_count": 7,
   "metadata": {},
   "outputs": [
    {
     "name": "stdout",
     "output_type": "stream",
     "text": [
      "Je suis une classe A\n"
     ]
    }
   ],
   "source": [
    "unObjet->print();"
   ]
  },
  {
   "cell_type": "markdown",
   "metadata": {},
   "source": [
    "Afin de préciser qu'il est possible que la fonction ait été réimplémentée par une classe fille, on peut utiliser le mot clé <font color=\"green\" style=\"font-weight:bold;\">virtual</font>. A l'utilisation, le programme ira chercher en priorité s'il existe une autre implémentation de cette méthode dans l'objet instancié."
   ]
  },
  {
   "cell_type": "code",
   "execution_count": 8,
   "metadata": {},
   "outputs": [],
   "source": [
    "class C {\n",
    "public:\n",
    "  C(){}\n",
    "  virtual void print(){std::cout << \"Je suis une classe A\" << std::endl;}\n",
    "};"
   ]
  },
  {
   "cell_type": "code",
   "execution_count": 9,
   "metadata": {},
   "outputs": [],
   "source": [
    "class D : public C{\n",
    "    public:\n",
    "    D(){}\n",
    "    void print(){std::cout << \"Je suis une classe B, héritant de A\" << std::endl;}\n",
    "};"
   ]
  },
  {
   "cell_type": "code",
   "execution_count": 10,
   "metadata": {},
   "outputs": [
    {
     "name": "stdout",
     "output_type": "stream",
     "text": [
      "Je suis une classe B, héritant de A\n"
     ]
    }
   ],
   "source": [
    "C * dInstance = new D;\n",
    "dInstance->print();"
   ]
  },
  {
   "cell_type": "markdown",
   "metadata": {},
   "source": [
    "La méthode de la classe mère est bien appelée. "
   ]
  },
  {
   "cell_type": "markdown",
   "metadata": {},
   "source": [
    "## Classe abstraite"
   ]
  },
  {
   "cell_type": "markdown",
   "metadata": {},
   "source": [
    "Ce concept découle directement du concept précédent. Une classe <b>abstraite</b> est une classe définissant une <b>méthode virtuelle pure</b>. C'est à dire qu'elle déclare une méthode <b>virtuelle</b> mais ne défini pas son implémentation. La syntaxe est la suivante: "
   ]
  },
  {
   "cell_type": "code",
   "execution_count": 11,
   "metadata": {},
   "outputs": [],
   "source": [
    "class Animal {\n",
    "    public:\n",
    "    Animal(){};\n",
    "    \n",
    "    virtual void sePresenter() = 0; \n",
    "};"
   ]
  },
  {
   "cell_type": "markdown",
   "metadata": {},
   "source": [
    "Si on essaie d'instancier une classe abstraite, on obtient le message suivant :"
   ]
  },
  {
   "cell_type": "code",
   "execution_count": 12,
   "metadata": {},
   "outputs": [
    {
     "name": "stderr",
     "output_type": "stream",
     "text": [
      "\u001b[1minput_line_18:2:9: \u001b[0m\u001b[0;1;31merror: \u001b[0m\u001b[1mvariable type 'Animal' is an abstract class\u001b[0m\n",
      " Animal rex;\n",
      "\u001b[0;1;32m        ^\n",
      "\u001b[0m\u001b[1minput_line_17:5:18: \u001b[0m\u001b[0;1;30mnote: \u001b[0munimplemented pure virtual method 'sePresenter' in 'Animal'\u001b[0m\n",
      "    virtual void sePresenter() = 0; \n",
      "\u001b[0;1;32m                 ^\n",
      "\u001b[0m"
     ]
    },
    {
     "ename": "Interpreter Error",
     "evalue": "",
     "output_type": "error",
     "traceback": [
      "Interpreter Error: "
     ]
    }
   ],
   "source": [
    "Animal rex;"
   ]
  },
  {
   "cell_type": "markdown",
   "metadata": {},
   "source": [
    "On ne peut donc instancier que les <b>classes filles</b> implémentant la méthode <b>sePresenter</b>"
   ]
  },
  {
   "cell_type": "code",
   "execution_count": 13,
   "metadata": {},
   "outputs": [],
   "source": [
    "class Chien : public Animal {\n",
    "    public:\n",
    "    Chien(){};\n",
    "    void sePresenter(){\n",
    "        std::cout << \"Bonjour, je suis un chien\" << std::endl;\n",
    "    }\n",
    "};"
   ]
  },
  {
   "cell_type": "code",
   "execution_count": 14,
   "metadata": {},
   "outputs": [],
   "source": [
    "class Chat : public Animal {\n",
    "    public:\n",
    "    Chat(){};\n",
    "    void sePresenter(){\n",
    "        std::cout << \"Bonjour, je suis un chat\" << std::endl;\n",
    "    }\n",
    "};"
   ]
  },
  {
   "cell_type": "code",
   "execution_count": 15,
   "metadata": {},
   "outputs": [],
   "source": [
    "class Oiseau : public Animal {\n",
    "    public:\n",
    "    Oiseau(){};\n",
    "    void sePresenter(){\n",
    "        std::cout << \"pew pew\" << std::endl;\n",
    "    }\n",
    "};"
   ]
  },
  {
   "cell_type": "markdown",
   "metadata": {},
   "source": [
    "Il est alors possible d'avoir un tableau d'objets de type <b>Animal</b> et d'utiliser les méthodes réimplémentées de chaque classe fille de manière transparente."
   ]
  },
  {
   "cell_type": "code",
   "execution_count": 16,
   "metadata": {},
   "outputs": [
    {
     "name": "stdout",
     "output_type": "stream",
     "text": [
      "Bonjour, je suis un chien\n",
      "Bonjour, je suis un chat\n",
      "pew pew\n"
     ]
    }
   ],
   "source": [
    "Animal * listeAnimaux[3];\n",
    "listeAnimaux[0] = new Chien;\n",
    "listeAnimaux[1] = new Chat;\n",
    "listeAnimaux[2] = new Oiseau;\n",
    "\n",
    "for (int counter = 0; counter < 3; counter++) {\n",
    "    listeAnimaux[counter]->sePresenter();\n",
    "}"
   ]
  }
 ],
 "metadata": {
  "kernelspec": {
   "display_name": "C++11",
   "language": "C++11",
   "name": "xcpp11"
  },
  "language_info": {
   "codemirror_mode": "text/x-c++src",
   "file_extension": ".cpp",
   "mimetype": "text/x-c++src",
   "name": "c++",
   "version": "-std=c++11"
  }
 },
 "nbformat": 4,
 "nbformat_minor": 2
}
