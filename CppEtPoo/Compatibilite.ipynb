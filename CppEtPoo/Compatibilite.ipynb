{
 "cells": [
  {
   "cell_type": "markdown",
   "metadata": {},
   "source": [
    "# Compatibilités entre classes"
   ]
  },
  {
   "cell_type": "markdown",
   "metadata": {},
   "source": [
    "## Objet et héritage en mémoire"
   ]
  },
  {
   "cell_type": "markdown",
   "metadata": {},
   "source": [
    "<font color=\"green\">Que se passe-t-il en mémoire lorsqu'on instancie une classe qui a un parent ?</font> L'espace mémoire allouée pour les membres de la classe fille est directement allouée à la suite de la mémoire allouée pour la classe mère :\n",
    "<img src=\"../img/heritmem.png\"></img>"
   ]
  },
  {
   "cell_type": "markdown",
   "metadata": {},
   "source": [
    "Ceci veut dire que l'ordre de la mémoire alloué n'est pas changé que l'on instancie la classe mère ou la classe fille. Ceci rend possible le code suivant :"
   ]
  },
  {
   "cell_type": "code",
   "execution_count": null,
   "metadata": {},
   "outputs": [],
   "source": [
    "#include <iostream>\n",
    "#include <string>"
   ]
  },
  {
   "cell_type": "code",
   "execution_count": null,
   "metadata": {},
   "outputs": [],
   "source": [
    "class A {\n",
    "public:\n",
    "  A(){}\n",
    "  void print(){std::cout << \"Je suis une classe A\" << std::endl;}\n",
    "};"
   ]
  },
  {
   "cell_type": "code",
   "execution_count": null,
   "metadata": {},
   "outputs": [],
   "source": [
    "class B : public A{\n",
    "    public:\n",
    "    B(){}\n",
    "    void print(){std::cout << \"Je suis une classe B, héritant de A\" << std::endl;}\n",
    "};"
   ]
  },
  {
   "cell_type": "code",
   "execution_count": null,
   "metadata": {},
   "outputs": [],
   "source": [
    "A * unObjet = new B();"
   ]
  },
  {
   "cell_type": "markdown",
   "metadata": {},
   "source": [
    "Un pointeur vers un objet de type A peut être instancié avec une classe de type B. Par la suite, l'utilisateur n'est pas conscient du type d'objet qu'il utilise. "
   ]
  },
  {
   "cell_type": "markdown",
   "metadata": {},
   "source": [
    "Cela rend également possible de le code suivant :"
   ]
  },
  {
   "cell_type": "code",
   "execution_count": null,
   "metadata": {},
   "outputs": [],
   "source": [
    "void functionNeSertARien(A monObjet) {\n",
    "    std::cout << \"Je suis entré dans la fonction\" << std::endl;\n",
    "}"
   ]
  },
  {
   "cell_type": "code",
   "execution_count": null,
   "metadata": {},
   "outputs": [],
   "source": [
    "B obj;\n",
    "functionNeSertARien(obj);"
   ]
  },
  {
   "cell_type": "markdown",
   "metadata": {},
   "source": [
    "Il est donc possible de convertir automatiquement la classe fille vers la classe mère. "
   ]
  },
  {
   "cell_type": "markdown",
   "metadata": {},
   "source": [
    "<img src=\"../img/caution.png\" width=\"50\"></img>L'inverse n'est jamais possible !"
   ]
  },
  {
   "cell_type": "markdown",
   "metadata": {},
   "source": [
    "## Mot clé <i>virtual</i>"
   ]
  },
  {
   "cell_type": "markdown",
   "metadata": {},
   "source": [
    "<font color=\"green\">Que se passe-t-il alors si on utilise la méthode print ?</font>"
   ]
  },
  {
   "cell_type": "code",
   "execution_count": null,
   "metadata": {},
   "outputs": [],
   "source": [
    "unObjet->print();"
   ]
  },
  {
   "cell_type": "markdown",
   "metadata": {},
   "source": [
    "Afin de préciser qu'il est possible que la fonction ait été réimplémentée par une classe fille, on peut utiliser le mot clé <font color=\"green\" style=\"font-weight:bold;\">virtual</font>. A l'utilisation, le programme ira chercher en priorité s'il existe une autre implémentation de cette méthode dans l'objet instancié."
   ]
  },
  {
   "cell_type": "code",
   "execution_count": null,
   "metadata": {},
   "outputs": [],
   "source": [
    "class C {\n",
    "public:\n",
    "  C(){}\n",
    "  virtual void print(){std::cout << \"Je suis une classe A\" << std::endl;}\n",
    "};"
   ]
  },
  {
   "cell_type": "code",
   "execution_count": null,
   "metadata": {},
   "outputs": [],
   "source": [
    "class D : public C{\n",
    "    public:\n",
    "    D(){}\n",
    "    void print(){std::cout << \"Je suis une classe B, héritant de A\" << std::endl;}\n",
    "};"
   ]
  },
  {
   "cell_type": "code",
   "execution_count": null,
   "metadata": {},
   "outputs": [],
   "source": [
    "C * dInstance = new D;\n",
    "dInstance->print();"
   ]
  },
  {
   "cell_type": "markdown",
   "metadata": {},
   "source": [
    "La méthode de la classe mère est bien appelée. "
   ]
  },
  {
   "cell_type": "markdown",
   "metadata": {},
   "source": [
    "## Classe abstraite"
   ]
  },
  {
   "cell_type": "markdown",
   "metadata": {},
   "source": [
    "Ce concept découle directement du concept précédent. Une classe <b>abstraite</b> est une classe définissant une <b>méthode virtuelle pure</b>. C'est à dire qu'elle déclare une méthode <b>virtuelle</b> mais ne défini pas son implémentation. La syntaxe est la suivante: "
   ]
  },
  {
   "cell_type": "code",
   "execution_count": null,
   "metadata": {},
   "outputs": [],
   "source": [
    "class Animal {\n",
    "    public:\n",
    "    Animal(){};\n",
    "    \n",
    "    virtual void sePresenter() = 0; \n",
    "};"
   ]
  },
  {
   "cell_type": "markdown",
   "metadata": {},
   "source": [
    "Si on essaie d'instancier une classe abstraite, on obtient le message suivant :"
   ]
  },
  {
   "cell_type": "code",
   "execution_count": null,
   "metadata": {},
   "outputs": [],
   "source": [
    "Animal rex;"
   ]
  },
  {
   "cell_type": "markdown",
   "metadata": {},
   "source": [
    "On ne peut donc instancier que les <b>classes filles</b> implémentant la méthode <b>sePresenter</b>"
   ]
  },
  {
   "cell_type": "code",
   "execution_count": null,
   "metadata": {},
   "outputs": [],
   "source": [
    "class Chien : public Animal {\n",
    "    public:\n",
    "    Chien(){};\n",
    "    void sePresenter(){\n",
    "        std::cout << \"Bonjour, je suis un chien\" << std::endl;\n",
    "    }\n",
    "};"
   ]
  },
  {
   "cell_type": "code",
   "execution_count": null,
   "metadata": {},
   "outputs": [],
   "source": [
    "class Chat : public Animal {\n",
    "    public:\n",
    "    Chat(){};\n",
    "    void sePresenter(){\n",
    "        std::cout << \"Bonjour, je suis un chat\" << std::endl;\n",
    "    }\n",
    "};"
   ]
  },
  {
   "cell_type": "code",
   "execution_count": null,
   "metadata": {},
   "outputs": [],
   "source": [
    "class Oiseau : public Animal {\n",
    "    public:\n",
    "    Oiseau(){};\n",
    "    void sePresenter(){\n",
    "        std::cout << \"pew pew\" << std::endl;\n",
    "    }\n",
    "};"
   ]
  },
  {
   "cell_type": "markdown",
   "metadata": {},
   "source": [
    "Il est alors possible d'avoir un tableau d'objets de type <b>Animal</b> et d'utiliser les méthodes réimplémentées de chaque classe fille de manière transparente."
   ]
  },
  {
   "cell_type": "code",
   "execution_count": null,
   "metadata": {},
   "outputs": [],
   "source": [
    "Animal * listeAnimaux[3];\n",
    "listeAnimaux[0] = new Chien;\n",
    "listeAnimaux[1] = new Chat;\n",
    "listeAnimaux[2] = new Oiseau;\n",
    "\n",
    "for (int counter = 0; counter < 3; counter++) {\n",
    "    listeAnimaux[counter]->sePresenter();\n",
    "}"
   ]
  },
  {
   "cell_type": "markdown",
   "metadata": {},
   "source": [
    "<a href=\"exercices_compat.ipynb\">Exercices</a>"
   ]
  },
  {
   "cell_type": "markdown",
   "metadata": {},
   "source": [
    "<div style=\"float:left\"><a href=\"heritage.ipynb\">Précedent : La POO avec le C++ - <br>Héritage et Polymorphisme</a></div>\n",
    "\n",
    "<div style=\"float:right\"><a href=\"genericite.ipynb\">Suivant : La POO avec le C++ - <br>La généricité</a></div>"
   ]
  }
 ],
 "metadata": {
  "kernelspec": {
   "display_name": "C++11",
   "language": "C++11",
   "name": "xcpp11"
  },
  "language_info": {
   "codemirror_mode": "text/x-c++src",
   "file_extension": ".cpp",
   "mimetype": "text/x-c++src",
   "name": "c++",
   "version": "-std=c++11"
  }
 },
 "nbformat": 4,
 "nbformat_minor": 2
}
