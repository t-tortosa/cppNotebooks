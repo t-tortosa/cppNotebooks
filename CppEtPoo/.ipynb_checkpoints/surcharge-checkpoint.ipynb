{
 "cells": [
  {
   "cell_type": "markdown",
   "metadata": {},
   "source": [
    "# Surcharge"
   ]
  },
  {
   "cell_type": "markdown",
   "metadata": {},
   "source": [
    "## Surcharge de fonction"
   ]
  },
  {
   "cell_type": "markdown",
   "metadata": {},
   "source": [
    "Une fonction est définie par trois éléments :\n",
    "<ul>\n",
    "    <li>Le nom</li>\n",
    "    <li>Le type des arguments</li>\n",
    "    <li>Le type de la valeur de retour</li> \n",
    "</ul>"
   ]
  },
  {
   "cell_type": "markdown",
   "metadata": {},
   "source": [
    "En C++ il est possible de donner le même nom à deux fonctions différentes. La différentiation se fait alors à l'aide de la liste des arguments. <br>\n",
    "A l'appel de la fonction, le compilateur trouvera quelle fonction appeler à l'aide des arguments utilisés."
   ]
  },
  {
   "cell_type": "code",
   "execution_count": 1,
   "metadata": {},
   "outputs": [],
   "source": [
    "#include <iostream>"
   ]
  },
  {
   "cell_type": "code",
   "execution_count": 2,
   "metadata": {},
   "outputs": [],
   "source": [
    "void add(const int & A, const int & B, int & result) {\n",
    "    std::cout << \"Addition de deux entiers\" << std::endl;\n",
    "    result = A + B;\n",
    "}"
   ]
  },
  {
   "cell_type": "code",
   "execution_count": 3,
   "metadata": {},
   "outputs": [],
   "source": [
    "void add(const float & A, const float & B, float & result) {\n",
    "    std::cout << \"Addition de deux flottants\" << std::endl;\n",
    "    result = A + B;\n",
    "}"
   ]
  },
  {
   "cell_type": "code",
   "execution_count": 4,
   "metadata": {},
   "outputs": [],
   "source": [
    "int resultInt;\n",
    "float resultFloat;"
   ]
  },
  {
   "cell_type": "code",
   "execution_count": 5,
   "metadata": {},
   "outputs": [
    {
     "name": "stdout",
     "output_type": "stream",
     "text": [
      "Addition de deux entiers\n",
      "Addition de deux flottants\n",
      "Résultat de la somme entière : 7\n",
      "Résultat de la somme flottante : 6.2\n"
     ]
    }
   ],
   "source": [
    "add(2, 5, resultInt);\n",
    "add(2.2, 4, resultFloat);\n",
    "std::cout << \"Résultat de la somme entière : \" << resultInt << std::endl;\n",
    "std::cout << \"Résultat de la somme flottante : \" << resultFloat << std::endl;"
   ]
  },
  {
   "cell_type": "markdown",
   "metadata": {},
   "source": [
    "<b>NB : </b>Dans le cas de la somme flottante, le compilateur a lui même converti 4 en flottant. "
   ]
  },
  {
   "cell_type": "markdown",
   "metadata": {},
   "source": [
    "## Surcharge d'opérateur"
   ]
  },
  {
   "cell_type": "markdown",
   "metadata": {},
   "source": [
    "Pour n'importe quelle classe, il est également possible de redéfinir des opérateurs."
   ]
  },
  {
   "cell_type": "markdown",
   "metadata": {},
   "source": [
    "Prenons l'exemple d'une classe Point contenant des coordonnées en x et y. On pourrait alors définir la fonction des opérateurs d'<b>addition</b> de la manière suivante :"
   ]
  },
  {
   "cell_type": "code",
   "execution_count": 6,
   "metadata": {},
   "outputs": [],
   "source": [
    "class Point {\n",
    "    public:\n",
    "\n",
    "    Point operator+(const Point & pointToAdd) {\n",
    "        Point result;\n",
    "        result.x = pointToAdd.x + x;\n",
    "        result.y = pointToAdd.y + y;\n",
    "        return result;\n",
    "    }\n",
    "    \n",
    "    void afficherPoint() {\n",
    "        std::cout << \"Point de coordonnées [\" << x << \", \" << y << \"]\" << std::endl;\n",
    "    }\n",
    "    \n",
    "    float x;\n",
    "    float y;\n",
    "}"
   ]
  },
  {
   "cell_type": "markdown",
   "metadata": {},
   "source": [
    "On peut alors utiliser l'opérateur naturellement"
   ]
  },
  {
   "cell_type": "code",
   "execution_count": 7,
   "metadata": {},
   "outputs": [],
   "source": [
    "Point p1, p2;\n",
    "p1.x = 4; p1.y = 8;\n",
    "p2.x = 2; p2.y = 16;\n",
    "Point p3 = p1 + p2;"
   ]
  },
  {
   "cell_type": "code",
   "execution_count": 8,
   "metadata": {},
   "outputs": [
    {
     "name": "stdout",
     "output_type": "stream",
     "text": [
      "Point de coordonnées [6, 24]\n"
     ]
    }
   ],
   "source": [
    "p3.afficherPoint();"
   ]
  },
  {
   "cell_type": "markdown",
   "metadata": {},
   "source": [
    "### Exercice"
   ]
  },
  {
   "cell_type": "markdown",
   "metadata": {},
   "source": [
    "Implémentez une classe <b>PointOpt</b> en vous basant sur la classe <b>Point</b>, qui surcharge aussi les opérateurs suivants : \n",
    "<ul>\n",
    "    <li><b>-</b></li>\n",
    "    <li><b>+=</b></li>\n",
    "    <li><b>-=</b></li>\n",
    "    <li><b>==</b></li>\n",
    "</ul>"
   ]
  },
  {
   "cell_type": "code",
   "execution_count": 9,
   "metadata": {},
   "outputs": [],
   "source": [
    "class PointOpt {\n",
    "    public:\n",
    "\n",
    "    PointOpt operator+(const PointOpt & point) {\n",
    "        Point result;\n",
    "        result.x = point.x + x;\n",
    "        result.y = point.y + y;\n",
    "        return result;\n",
    "    }\n",
    "    \n",
    "    PointOpt operator-(const PointOpt & point) {\n",
    "        Point result;\n",
    "        result.x = x - point.x;\n",
    "        result.y = y - point.y;\n",
    "        return result;\n",
    "    }\n",
    "        \n",
    "    void operator+=(const PointOpt & point) {\n",
    "        x += point.x;\n",
    "        y += point.y;\n",
    "    }\n",
    "    \n",
    "    void operator-=(const PointOpt & point) {\n",
    "        x -= point.x;\n",
    "        y -= point.y;\n",
    "    }\n",
    "    \n",
    "    bool operator==(const PointOpt & a){\n",
    "        return (x==a.x && y==a.y);\n",
    "    }\n",
    "    \n",
    "    void afficherPoint() {\n",
    "        std::cout << \"Point de coordonnées [\" << x << \", \" << y << \"]\" << std::endl;\n",
    "    }\n",
    "    \n",
    "    float x;\n",
    "    float y;\n",
    "}"
   ]
  },
  {
   "cell_type": "code",
   "execution_count": 10,
   "metadata": {},
   "outputs": [
    {
     "name": "stdout",
     "output_type": "stream",
     "text": [
      "Point de coordonnées [6, 11]\n"
     ]
    }
   ],
   "source": [
    "PointOpt po1, po2;\n",
    "po1.x = 5; po1.y = 9;\n",
    "po2.x = 1; po2.y = 2;\n",
    "\n",
    "po1 += po2;\n",
    "po1.afficherPoint();"
   ]
  },
  {
   "cell_type": "code",
   "execution_count": 12,
   "metadata": {},
   "outputs": [
    {
     "name": "stdout",
     "output_type": "stream",
     "text": [
      "po1 = po2 ? 0\n"
     ]
    }
   ],
   "source": [
    "std::cout << \"po1 = po2 ? \" << (po1 == po2) << std::endl;"
   ]
  },
  {
   "cell_type": "markdown",
   "metadata": {},
   "source": [
    "<div style=\"float:left\"><a href=\"portee.ipynb\">Précedent : La POO avec le C++ - Portée des variables</a></div>\n",
    "\n",
    "<div style=\"float:right\"><a href=\"construct.ipynb\">Suivant : La POO avec le C++ - Constructeur et Destructeurs</a></div>"
   ]
  }
 ],
 "metadata": {
  "kernelspec": {
   "display_name": "C++11",
   "language": "C++11",
   "name": "xcpp11"
  },
  "language_info": {
   "codemirror_mode": "text/x-c++src",
   "file_extension": ".cpp",
   "mimetype": "text/x-c++src",
   "name": "c++",
   "version": "-std=c++11"
  }
 },
 "nbformat": 4,
 "nbformat_minor": 2
}
