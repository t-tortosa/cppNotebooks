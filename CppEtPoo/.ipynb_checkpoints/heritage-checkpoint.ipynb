{
 "cells": [
  {
   "cell_type": "code",
   "execution_count": null,
   "metadata": {},
   "outputs": [],
   "source": [
    "#include <iostream>\n"
   ]
  },
  {
   "cell_type": "markdown",
   "metadata": {},
   "source": [
    "# Héritage"
   ]
  },
  {
   "cell_type": "markdown",
   "metadata": {},
   "source": [
    "Le concept d'héritage permet de catégoriser les différentes classes que l'on crée. Prenons l'exemple suivant :"
   ]
  },
  {
   "cell_type": "markdown",
   "metadata": {},
   "source": [
    "<img src=\"../img/herit.png\"></img>"
   ]
  },
  {
   "cell_type": "markdown",
   "metadata": {},
   "source": [
    "<ul>\n",
    "<li>La classe <b>Animal</b> est la <b>classe de base</b>.</li>\n",
    "<li>Les classes <b>Oiseau</b>, <b>Chat</b> et <b>Chien</b> sont les classes dérivées. On dit qu'elle <b>héritent</b> de la <b>classe de base</b>.</li>\n",
    "</ul>"
   ]
  },
  {
   "cell_type": "markdown",
   "metadata": {},
   "source": [
    "Concrètement, cela veut dire que les <b>classes dérivées</b> héritent de l'ensemble des membres de la classe mère. "
   ]
  },
  {
   "cell_type": "markdown",
   "metadata": {},
   "source": [
    "## Syntaxe par l'exemple"
   ]
  },
  {
   "cell_type": "markdown",
   "metadata": {},
   "source": [
    "Ici un exemple simple de dérivation :"
   ]
  },
  {
   "cell_type": "code",
   "execution_count": null,
   "metadata": {},
   "outputs": [],
   "source": [
    "#include <string>\n",
    "\n",
    "class Animal {\n",
    "    public:\n",
    "    Animal(std::string nom) : nom(nom), nombreDePatte(0) {\n",
    "        std::cout << \"Mon nom est \" << nom << std::endl;\n",
    "    }\n",
    "    ~Animal(){}\n",
    "    \n",
    "    void afficherNombrePatte(){\n",
    "        std::cout << \"Nombre de patte :\" << nombreDePatte << std::endl;\n",
    "    }\n",
    "    \n",
    "    private:\n",
    "    std::string nom;\n",
    "    \n",
    "    // Protected défini les membres qui sont accessible uniquement par la classe de base et ses classes dérivées\n",
    "    protected:\n",
    "    int nombreDePatte;\n",
    "};\n",
    "\n",
    "// Lorsqu'on déclare une classe dérivée, on utilise la syntaxe suivante : \n",
    "class Chien : public Animal {\n",
    "    public:\n",
    "    Chien(std::string nom) : Animal(nom) {\n",
    "        nombreDePatte = 4;\n",
    "        std::cout << \"Je suis un chien\" << std::endl;\n",
    "        afficherNombrePatte();\n",
    "    }\n",
    "};"
   ]
  },
  {
   "cell_type": "code",
   "execution_count": null,
   "metadata": {},
   "outputs": [],
   "source": [
    "Chien rex(\"rex\");"
   ]
  },
  {
   "cell_type": "markdown",
   "metadata": {},
   "source": [
    "Analysons maintenant le code :"
   ]
  },
  {
   "cell_type": "markdown",
   "metadata": {},
   "source": [
    "### Déclaration d'une classe dérivée"
   ]
  },
  {
   "cell_type": "markdown",
   "metadata": {},
   "source": [
    "Pour déclarer une classe dérivée d'une autre classe on utilise la syntaxe suivante : <font color=\"green\" style=\"font-weight:bold;\">class</font> <font color=\"blue\">ClasseFille</font> : <font color=\"green\" style=\"font-weight:bold;\">public</font> ClasseMère. La classe fille <font color=\"blue\">ClasseFille</font> a alors accès à tous les membres public et protégés de la classe mère."
   ]
  },
  {
   "cell_type": "markdown",
   "metadata": {},
   "source": [
    "### Portée des données"
   ]
  },
  {
   "cell_type": "markdown",
   "metadata": {},
   "source": [
    "Le mot clé <font color=\"green\" style=\"font-weight:bold;\">protected</font> permet de définir les membres qui seront accessible par les classes dérivées."
   ]
  },
  {
   "cell_type": "code",
   "execution_count": null,
   "metadata": {},
   "outputs": [],
   "source": [
    "class TestPortee {\n",
    "    public:\n",
    "    void displayPublic() {\n",
    "        std::cout << \"Display public\" << std::endl;\n",
    "    }\n",
    "    \n",
    "    protected: \n",
    "    void displayProtected() {\n",
    "        std::cout << \"Display protected\" << std::endl;\n",
    "    }\n",
    "    \n",
    "    private:\n",
    "    void displayPrivate() {\n",
    "        std::cout << \"Display private\" << std::endl;\n",
    "    }\n",
    "}"
   ]
  },
  {
   "cell_type": "code",
   "execution_count": null,
   "metadata": {},
   "outputs": [],
   "source": [
    "class TestPorteeFille : public TestPortee {\n",
    "    public:\n",
    "    void display() {\n",
    "        displayPublic();\n",
    "        displayProtected();\n",
    "    }\n",
    "}"
   ]
  },
  {
   "cell_type": "code",
   "execution_count": null,
   "metadata": {},
   "outputs": [],
   "source": [
    "TestPorteeFille testPortee;\n",
    "testPortee.display();"
   ]
  },
  {
   "cell_type": "markdown",
   "metadata": {},
   "source": [
    "Par contre, les membres <font color=\"green\" style=\"font-weight:bold;\">protected</font> ne sont pas accessibles depuis l'extérieur."
   ]
  },
  {
   "cell_type": "code",
   "execution_count": null,
   "metadata": {},
   "outputs": [],
   "source": [
    "testPortee.displayProtected();"
   ]
  },
  {
   "cell_type": "markdown",
   "metadata": {},
   "source": [
    "Par ailleurs, les membres <font color=\"green\" style=\"font-weight:bold;\">private</font> ne sont pas non plus accessibles par une classe fille."
   ]
  },
  {
   "cell_type": "code",
   "execution_count": null,
   "metadata": {},
   "outputs": [],
   "source": [
    "class TestPorteeFilleFail : public TestPortee {\n",
    "    public:\n",
    "    void display() {\n",
    "        displayPublic();\n",
    "        displayProtected();\n",
    "        displayPrivate();\n",
    "    }\n",
    "}"
   ]
  },
  {
   "cell_type": "markdown",
   "metadata": {},
   "source": [
    "### Constructeur et destructeur"
   ]
  },
  {
   "cell_type": "markdown",
   "metadata": {},
   "source": [
    "Lorsqu'une classe dérivée est instanciées, le constructeur d'une <b>classe de base</b> est automatiquement appelé <u>avant</u> le construsteur d'une <b>classe dérivée</b>. "
   ]
  },
  {
   "cell_type": "markdown",
   "metadata": {},
   "source": [
    "Lorsque l'objet est alors supprimé, destructeur de la <b>classe de base</b> est automatiquement appelé <u>après</u> le destructeur de la <b>classe dérivée</b>."
   ]
  },
  {
   "cell_type": "code",
   "execution_count": null,
   "metadata": {},
   "outputs": [],
   "source": [
    "class ObjA {\n",
    "    public:\n",
    "    ObjA() {\n",
    "        std::cout << \"Création d'un objet de type A\" << std::endl;\n",
    "    }\n",
    "    ~ObjA() {\n",
    "        std::cout << \"Destruction de l'objet de type A\" << std::endl;\n",
    "    }\n",
    "};"
   ]
  },
  {
   "cell_type": "code",
   "execution_count": null,
   "metadata": {},
   "outputs": [],
   "source": [
    "class ObjB : public ObjA{\n",
    "    public:\n",
    "    ObjB() {\n",
    "        std::cout << \"Création d'un objet de type B\" << std::endl;\n",
    "    }\n",
    "    \n",
    "    ~ObjB() {\n",
    "        std::cout << \"Destruction de l'objet de type B\" << std::endl;\n",
    "    }\n",
    "};"
   ]
  },
  {
   "cell_type": "code",
   "execution_count": null,
   "metadata": {},
   "outputs": [],
   "source": [
    "ObjB * objet;\n",
    "objet = new ObjB;\n",
    "delete objet;"
   ]
  },
  {
   "cell_type": "markdown",
   "metadata": {},
   "source": [
    "Dans l'exemple de tout à l'heure on a bien constaté que le message affiché par le constructeur de la classe <b>Animal</b> a bien été affiché avant celui affiché par le constructeur de la classe <b>Chien</b>."
   ]
  },
  {
   "cell_type": "code",
   "execution_count": null,
   "metadata": {},
   "outputs": [],
   "source": [
    "class ObjC {\n",
    "    public:\n",
    "    ObjC(std::string name) : name(name) {}\n",
    "\n",
    "    std::string name;\n",
    "}"
   ]
  },
  {
   "cell_type": "code",
   "execution_count": null,
   "metadata": {},
   "outputs": [],
   "source": [
    "class ObjD : public ObjC {\n",
    "    public:\n",
    "    ObjD(std::string name) : ObjC(name){}    \n",
    "}"
   ]
  },
  {
   "cell_type": "code",
   "execution_count": null,
   "metadata": {},
   "outputs": [],
   "source": [
    "ObjD objetD(\"hello world\");\n",
    "std::cout << objetD.name << std::endl;"
   ]
  },
  {
   "cell_type": "markdown",
   "metadata": {},
   "source": [
    "Il est possible de passer des arguments au constructeur de la classe mère à l'aide de la syntaxe suivante: <br>\n",
    "ConstructeurClasseFille(<font color=\"green\">type</font> arg) : ConstructeurClasseMère(args) { ... }"
   ]
  },
  {
   "cell_type": "markdown",
   "metadata": {},
   "source": [
    "## Héritage multiple"
   ]
  },
  {
   "cell_type": "markdown",
   "metadata": {},
   "source": [
    "Il est tout à fait possible qu'une classe hérite de plusieurs classes :"
   ]
  },
  {
   "cell_type": "code",
   "execution_count": null,
   "metadata": {},
   "outputs": [],
   "source": [
    "class Telephone {\n",
    "    public:\n",
    "    Telephone(const std::string numero) : numero(numero){}\n",
    "    \n",
    "    protected:\n",
    "    std::string numero;\n",
    "};"
   ]
  },
  {
   "cell_type": "code",
   "execution_count": null,
   "metadata": {},
   "outputs": [],
   "source": [
    "class Ordinateur {\n",
    "    public: \n",
    "    Ordinateur(const std::string ip) : ip(ip){}\n",
    "    \n",
    "    protected:\n",
    "    std::string ip;\n",
    "};\n"
   ]
  },
  {
   "cell_type": "code",
   "execution_count": null,
   "metadata": {},
   "outputs": [],
   "source": [
    "class Smartphone : public Telephone, public Ordinateur {\n",
    "    public:\n",
    "    Smartphone(const std::string numero, const std::string ip) : Telephone(numero), Ordinateur(ip) {\n",
    "        std::cout << \"Je suis un smartphone : \" << std::endl;\n",
    "        std::cout << \"\\tnumero : \" << numero << std::endl;\n",
    "        std::cout << \"\\tip     : \" << ip << std::endl;\n",
    "    }\n",
    "};\n"
   ]
  },
  {
   "cell_type": "code",
   "execution_count": null,
   "metadata": {},
   "outputs": [],
   "source": [
    "Smartphone phone(std::string(\"0612345678\"), std::string(\"192.168.1.56\"));"
   ]
  },
  {
   "cell_type": "markdown",
   "metadata": {},
   "source": [
    "## Polymorphisme"
   ]
  },
  {
   "cell_type": "markdown",
   "metadata": {},
   "source": [
    "Le polymorphisme défini le fait qu'une classe <b>fille</b> peut redéfinir une méthode d'une classe <b>fille</b>. "
   ]
  },
  {
   "cell_type": "code",
   "execution_count": null,
   "metadata": {},
   "outputs": [],
   "source": [
    "class mere {\n",
    "    public:\n",
    "    mere(){}\n",
    "    void sePresenter() {\n",
    "        std::cout << \"Je suis la mère\" << std::endl;\n",
    "    }\n",
    "};"
   ]
  },
  {
   "cell_type": "code",
   "execution_count": null,
   "metadata": {},
   "outputs": [],
   "source": [
    "class fille : public mere {\n",
    "    public:\n",
    "    fille(){}\n",
    "    void sePresenter() {\n",
    "        std::cout << \"Je suis la fille\" << std::endl;\n",
    "    }\n",
    "};\n"
   ]
  },
  {
   "cell_type": "code",
   "execution_count": null,
   "metadata": {},
   "outputs": [],
   "source": [
    "mere mama;\n",
    "fille mafille;\n",
    "mama.sePresenter();\n",
    "mafille.sePresenter();"
   ]
  },
  {
   "cell_type": "markdown",
   "metadata": {},
   "source": [
    "Pour la classe <b>fille</b>, il sera toujours possible d'appeler la méthode de la classe <b>mère</b>. Il suffira d'utiliser la syntaxe suivante : <b>classeMère::méthode()</b>"
   ]
  },
  {
   "cell_type": "code",
   "execution_count": null,
   "metadata": {},
   "outputs": [],
   "source": [
    "class fille2 : public mere {\n",
    "    public:\n",
    "    fille2(){}\n",
    "    void sePresenter() {\n",
    "        std::cout << \"Je suis la fille\" << std::endl;\n",
    "    }\n",
    "    void presenterMere() {\n",
    "        mere::sePresenter();\n",
    "    }\n",
    "};\n"
   ]
  },
  {
   "cell_type": "code",
   "execution_count": null,
   "metadata": {},
   "outputs": [],
   "source": [
    "fille2 f;\n",
    "f.presenterMere();"
   ]
  },
  {
   "cell_type": "markdown",
   "metadata": {},
   "source": [
    "<a href=\"exercices_heritage.ipynb\">Exercices</a>"
   ]
  },
  {
   "cell_type": "markdown",
   "metadata": {},
   "source": [
    "<div style=\"float:left\"><a href=\"construct.ipynb\">Précedent : La POO avec le C++ - <br>Constructeur et Destructeurs</a></div>\n",
    "\n",
    "<div style=\"float:right\"><a href=\"Compatibilite.ipynb\">Suivant : La POO avec le C++ - Compatibilités entre classes</a></div>"
   ]
  }
 ],
 "metadata": {
  "kernelspec": {
   "display_name": "C++11",
   "language": "C++11",
   "name": "xcpp11"
  },
  "language_info": {
   "codemirror_mode": "text/x-c++src",
   "file_extension": ".cpp",
   "mimetype": "text/x-c++src",
   "name": "c++",
   "version": "-std=c++11"
  }
 },
 "nbformat": 4,
 "nbformat_minor": 2
}
