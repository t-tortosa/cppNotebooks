{
 "cells": [
  {
   "cell_type": "markdown",
   "metadata": {},
   "source": [
    "# Exercices - Héritage"
   ]
  },
  {
   "cell_type": "markdown",
   "metadata": {},
   "source": [
    "## Exercice 1"
   ]
  },
  {
   "cell_type": "markdown",
   "metadata": {},
   "source": [
    "Reprendre la classe Point de la dernière série d'exercices.<br>\n",
    "<ul>\n",
    "<li>Créer un classe PointB, dérivée de Point, comportant simplement une nouvelle fonction membre nommée rho, fournissant la valeur du rayon vecteur (première coordonnée polaire) d’un point.</li>\n",
    "<li>Même question, en supposant que les membres x et y ont été déclarés protégés (protected) dans point, et non plus privés.</li>\n",
    "<li>Introduire un constructeur dans la classe PointB</li>\n",
    "<li>Quelles sont les fonctions membres utilisables pour un objet de type PointB ?</li>\n",
    "</ul>"
   ]
  },
  {
   "cell_type": "code",
   "execution_count": null,
   "metadata": {},
   "outputs": [],
   "source": []
  }
 ],
 "metadata": {
  "kernelspec": {
   "display_name": "C++11",
   "language": "C++11",
   "name": "xcpp11"
  },
  "language_info": {
   "codemirror_mode": "text/x-c++src",
   "file_extension": ".cpp",
   "mimetype": "text/x-c++src",
   "name": "c++",
   "version": "-std=c++11"
  }
 },
 "nbformat": 4,
 "nbformat_minor": 2
}
