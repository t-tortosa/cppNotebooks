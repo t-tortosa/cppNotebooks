{
 "cells": [
  {
   "cell_type": "markdown",
   "metadata": {},
   "source": [
    "# Constructeur et destructeur"
   ]
  },
  {
   "cell_type": "markdown",
   "metadata": {},
   "source": [
    "Il est souvent nécessaire de réaliser des opérations sur les membres d'un objet au moment de sa création, ou au moment de sa libération."
   ]
  },
  {
   "cell_type": "markdown",
   "metadata": {},
   "source": [
    "Il existe deux méthodes spéciales permettant de réaliser ces opérations : \n",
    "<ul>\n",
    "    <li><b>Le constructeur :</b> Méthode appelée à la création de l'objet. Le nom de cette méthode est <b>NomDeLaClasse</b></li>\n",
    "    <li><b>Le destructeur  :</b> Méthode appelée à la libération de l'objet. Le nom de cette méthode est <b>~NomDeLaClasse</b></li>\n",
    "</ul>"
   ]
  },
  {
   "cell_type": "markdown",
   "metadata": {},
   "source": [
    "Ces méthodes peuvent prendre le nombre d'argument que l'on veut. Par exemple, si on veut forcer la classe <b>Personne</b> à initialiser ses données à sa création, on pourra adapter le code précédent de la manière suivante :"
   ]
  },
  {
   "cell_type": "code",
   "execution_count": 1,
   "metadata": {},
   "outputs": [],
   "source": [
    "#include <iostream>\n",
    "#include <string>\n",
    "\n",
    "// Dans le .h\n",
    "class Personne {    \n",
    "  public:\n",
    "    std::string nom;\n",
    "    std::string prenom;\n",
    "    \n",
    "  private:\n",
    "    int age;\n",
    "    \n",
    "  public:\n",
    "    Personne(const std::string & familyName, const std::string & firstName, const int firstAge)\n",
    "        : nom(familyName), prenom(firstName) {\n",
    "        setAge(firstAge);\n",
    "    }\n",
    "    ~Personne(){\n",
    "        //Bon endroit pour libérer de la mémoire allouée par la classe\n",
    "        std::cout << \"Deleting Person \" << prenom << \" \" << nom << std::endl;\n",
    "    }\n",
    "    \n",
    "    void direBonjour(){\n",
    "        std::cout << \"Hello world\" << std::endl;\n",
    "    }\n",
    "    \n",
    "    void sePresenter(){\n",
    "        std::cout << \"I am \" << prenom << \" \" << nom << \" and i am \" << age << std::endl;\n",
    "    }\n",
    "    \n",
    "    bool setAge(const int newAge){\n",
    "        if (!ageValid(newAge)) {\n",
    "            return false;\n",
    "        } else {\n",
    "            age = newAge;\n",
    "            return true;\n",
    "        }\n",
    "    }\n",
    "    \n",
    "    int getAge(){\n",
    "        return age;\n",
    "    }\n",
    "    \n",
    "  private:\n",
    "    bool ageValid(const int age){\n",
    "        if(age < 0 || age > 150) {\n",
    "            return false;\n",
    "        } else {\n",
    "            return true;\n",
    "        }\n",
    "    }\n",
    "};"
   ]
  },
  {
   "cell_type": "markdown",
   "metadata": {},
   "source": [
    "On initialise alors l'objet de la manière suivante : "
   ]
  },
  {
   "cell_type": "code",
   "execution_count": 2,
   "metadata": {},
   "outputs": [
    {
     "name": "stdout",
     "output_type": "stream",
     "text": [
      "I am Michael Smith and i am 54\n",
      "Deleting Person Michael Smith\n",
      "I am John Doe and i am 24\n"
     ]
    }
   ],
   "source": [
    "// Cas d'une instantiation statique\n",
    "Personne john(std::string(\"Doe\"), std::string(\"John\"), 24);\n",
    "// Cas d'une instantiation dynamique\n",
    "Personne * michael = new Personne(std::string(\"Smith\"), std::string(\"Michael\"), 54);\n",
    "\n",
    "michael->sePresenter();\n",
    "\n",
    "delete michael;\n",
    "\n",
    "john.sePresenter();"
   ]
  },
  {
   "cell_type": "code",
   "execution_count": 3,
   "metadata": {},
   "outputs": [
    {
     "name": "stderr",
     "output_type": "stream",
     "text": [
      "\u001b[1minput_line_10:2:16: \u001b[0m\u001b[0;1;31merror: \u001b[0m\u001b[1mno matching constructor for initialization of 'Personne'\u001b[0m\n",
      " michael = new Personne;\n",
      "\u001b[0;1;32m               ^\n",
      "\u001b[0m\u001b[1minput_line_8:2:7: \u001b[0m\u001b[0;1;30mnote: \u001b[0mcandidate constructor (the implicit copy constructor) not viable: requires 1 argument,\n",
      "      but 0 were provided\u001b[0m\n",
      "class Personne {    \n",
      "\u001b[0;1;32m      ^\n",
      "\u001b[0m\u001b[1minput_line_8:11:5: \u001b[0m\u001b[0;1;30mnote: \u001b[0mcandidate constructor not viable: requires 3 arguments, but 0 were provided\u001b[0m\n",
      "    Personne(const std::string & familyName, const std::string & firstName, cons...\n",
      "\u001b[0;1;32m    ^\n",
      "\u001b[0m"
     ]
    },
    {
     "ename": "Interpreter Error",
     "evalue": "",
     "output_type": "error",
     "traceback": [
      "Interpreter Error: "
     ]
    }
   ],
   "source": [
    "michael = new Personne;"
   ]
  },
  {
   "cell_type": "markdown",
   "metadata": {},
   "source": [
    "Tous les attributs sont bien initialisés par le constructeur et le destructeur de l'objet <b>michael</b> est bien appelé au moment du <b>delete</b>"
   ]
  },
  {
   "cell_type": "markdown",
   "metadata": {},
   "source": [
    "## Constructeurs multiples"
   ]
  },
  {
   "cell_type": "markdown",
   "metadata": {},
   "source": [
    "Il est également possible de définir plusieurs constructeurs. En prenant l'exemple d'une classe Point :"
   ]
  },
  {
   "cell_type": "code",
   "execution_count": 4,
   "metadata": {},
   "outputs": [],
   "source": [
    "class Point {\n",
    "public:\n",
    "    Point(int x, int y) : x(x), y(y) {}\n",
    "    Point() : x(0), y(0) {}\n",
    "    void afficherPoint() {\n",
    "        std::cout << \"Point coords : [\" << x << \", \" << y << \"]\" << std::endl;\n",
    "    }\n",
    "    \n",
    "private:\n",
    "    int x;\n",
    "    int y;\n",
    "};"
   ]
  },
  {
   "cell_type": "code",
   "execution_count": 5,
   "metadata": {},
   "outputs": [
    {
     "name": "stdout",
     "output_type": "stream",
     "text": [
      "Point coords : [15, 10]\n",
      "Point coords : [0, 0]\n"
     ]
    }
   ],
   "source": [
    "Point point1(15, 10);\n",
    "Point point2;\n",
    "point1.afficherPoint();\n",
    "point2.afficherPoint();"
   ]
  },
  {
   "cell_type": "markdown",
   "metadata": {},
   "source": [
    "En fait, en C++ toutes les fonctions sont définies par \n",
    "<ul>\n",
    "    <li>Leur nom</li>\n",
    "    <li>Leur liste d'argument</li>\n",
    "</ul>\n",
    "\n",
    "Les arguments utilisés à l'appel de la fonction permettent donc de déterminer quelle est la fonction appelée."
   ]
  },
  {
   "cell_type": "markdown",
   "metadata": {},
   "source": [
    "## Surcharge du constructeur"
   ]
  },
  {
   "cell_type": "markdown",
   "metadata": {},
   "source": [
    "Comme toute fonction, le constructeur est surchargeable."
   ]
  },
  {
   "cell_type": "code",
   "execution_count": null,
   "metadata": {},
   "outputs": [],
   "source": [
    "class PointOpt {\n",
    "public:\n",
    "    PointOpt(int x, int y) : x(x), y(y) {}\n",
    "    PointOpt() : x(0), y(0) {}\n",
    "    void afficherPoint() {\n",
    "        std::cout << \"Point coords : [\" << x << \", \" << y << \"]\" << std::endl;\n",
    "    }\n",
    "    \n",
    "    PointOpt operator+(const PointOpt& otherPoint){\n",
    "        PointOpt outputPoint;\n",
    "        outputPoint.x = x + otherPoint.x;\n",
    "        outputPoint.y = y + otherPoint.y;\n",
    "        return outputPoint;\n",
    "    }\n",
    "    \n",
    "public:\n",
    "    int x;\n",
    "    int y;\n",
    "};"
   ]
  },
  {
   "cell_type": "code",
   "execution_count": null,
   "metadata": {},
   "outputs": [],
   "source": [
    "PointOpt pointA(5, 4);\n",
    "PointOpt pointB(7, 2);\n",
    "PointOpt pointC = pointA + pointB;\n",
    "pointC.afficherPoint();"
   ]
  },
  {
   "cell_type": "markdown",
   "metadata": {},
   "source": [
    "## Affectation "
   ]
  },
  {
   "cell_type": "markdown",
   "metadata": {},
   "source": [
    "Le constructeur permet donc d'initialiser les attributs de la classe. Il reste à savoir comment initialiser les constantes d'une classes. "
   ]
  },
  {
   "cell_type": "markdown",
   "metadata": {},
   "source": [
    "En règle générale, une constante est déclarée de la manière suivante : "
   ]
  },
  {
   "cell_type": "code",
   "execution_count": null,
   "metadata": {},
   "outputs": [],
   "source": [
    "const int constante = 4;"
   ]
  },
  {
   "cell_type": "markdown",
   "metadata": {},
   "source": [
    "Cette opération s'appelle l'affectation. Une fois la déclaration terminée, la constante n'est plus modifiable."
   ]
  },
  {
   "cell_type": "markdown",
   "metadata": {},
   "source": [
    "Dans le cas d'une classe, la constante peut être affectée dans le constructeur à l'aide de la syntaxe que nous avons survolé précédemment : <br>\n",
    "<b>Constructeur(...) : var1(valeur1), var2(valeur2) {...}</b>"
   ]
  },
  {
   "cell_type": "markdown",
   "metadata": {},
   "source": [
    "## Constructeur par défaut"
   ]
  },
  {
   "cell_type": "markdown",
   "metadata": {},
   "source": [
    "Toute classe possède au moins un constructeur par défaut qui ne prend pas d'argument. Il peut tout de même être réimplémenté si on le souhaite. "
   ]
  },
  {
   "cell_type": "markdown",
   "metadata": {},
   "source": [
    "## Constructeur par recopie"
   ]
  },
  {
   "cell_type": "markdown",
   "metadata": {},
   "source": [
    "On appelle constructeur par recopie, le constructeur qui prend en argument une instance de sa classe."
   ]
  },
  {
   "cell_type": "code",
   "execution_count": 6,
   "metadata": {},
   "outputs": [],
   "source": [
    "class A {\n",
    "    public:\n",
    "    A() {\n",
    "        name = std::string(\"\");\n",
    "    }\n",
    "    A(const A & a) {\n",
    "        name = a.name;\n",
    "    }\n",
    "    std::string name;\n",
    "};"
   ]
  },
  {
   "cell_type": "code",
   "execution_count": 7,
   "metadata": {},
   "outputs": [
    {
     "name": "stdout",
     "output_type": "stream",
     "text": [
      "Je suis la classe A\n"
     ]
    }
   ],
   "source": [
    "A a;\n",
    "a.name = std::string(\"Je suis la classe A\");\n",
    "A b(a);\n",
    "\n",
    "std::cout << b.name << std::endl;\n"
   ]
  },
  {
   "cell_type": "markdown",
   "metadata": {},
   "source": [
    "Cela dit, on pourrait également utiliser le constructeur par défaut : "
   ]
  },
  {
   "cell_type": "code",
   "execution_count": 8,
   "metadata": {},
   "outputs": [],
   "source": [
    "A c = a;"
   ]
  },
  {
   "cell_type": "code",
   "execution_count": 9,
   "metadata": {},
   "outputs": [
    {
     "name": "stdout",
     "output_type": "stream",
     "text": [
      "Je suis la classe A\n"
     ]
    }
   ],
   "source": [
    "std::cout << c.name << std::endl;"
   ]
  },
  {
   "cell_type": "markdown",
   "metadata": {},
   "source": [
    "Seulement, la classe d'exemple que nous avons vu ici n'utilise que des attributs statiques. Imaginons une classe utilisant un pointeur : "
   ]
  },
  {
   "cell_type": "code",
   "execution_count": 10,
   "metadata": {},
   "outputs": [],
   "source": [
    "class Buffer {\n",
    "    public:\n",
    "    Buffer() {\n",
    "        liste = nullptr;\n",
    "    }\n",
    "    Buffer(const Buffer & buf) {\n",
    "        allouer(buf.size);\n",
    "        for(int counter=0; counter<size; counter++){\n",
    "            liste[counter] = buf.liste[counter];\n",
    "        }\n",
    "    }\n",
    "    \n",
    "    void allouer(int s) {\n",
    "        size = s;\n",
    "        if (liste!=nullptr)\n",
    "            delete liste;\n",
    "        liste = new int[size];\n",
    "    }\n",
    "    \n",
    "    void afficher() {\n",
    "        std::cout << \"Affichage de la liste :\" << std::endl; \n",
    "        for(int counter = 0; counter < size; counter++) {\n",
    "            std::cout << liste[counter] << \"\\t\";\n",
    "        }\n",
    "        std::cout << std::endl;\n",
    "    }\n",
    "    \n",
    "    int * liste;\n",
    "    int size;\n",
    "};"
   ]
  },
  {
   "cell_type": "code",
   "execution_count": 11,
   "metadata": {},
   "outputs": [
    {
     "name": "stdout",
     "output_type": "stream",
     "text": [
      "Affichage de la liste :\n",
      "0\t1\t2\t3\t4\t\n"
     ]
    }
   ],
   "source": [
    "Buffer b1;\n",
    "b1.allouer(5);\n",
    "for(int counter=0; counter<b1.size; counter++) {\n",
    "    b1.liste[counter] = counter;\n",
    "}\n",
    "b1.afficher();"
   ]
  },
  {
   "cell_type": "code",
   "execution_count": 12,
   "metadata": {},
   "outputs": [
    {
     "name": "stdout",
     "output_type": "stream",
     "text": [
      "Affichage de la liste :\n",
      "0\t1\t2\t3\t4\t\n"
     ]
    }
   ],
   "source": [
    "Buffer b2(b1);\n",
    "b2.afficher();"
   ]
  },
  {
   "cell_type": "markdown",
   "metadata": {},
   "source": [
    "<a href='exercices_classes.ipynb'>Exercices</a>"
   ]
  },
  {
   "cell_type": "markdown",
   "metadata": {},
   "source": [
    "<div style=\"float:left\"><a href=\"surcharge.ipynb\">Précedent : La POO avec le C++ - La surcharge</a></div>\n",
    "\n",
    "<div style=\"float:right\"><a href=\"heritage.ipynb\">Suivant : La POO avec le C++ - L'héritage et le polymorphisme</a></div>"
   ]
  }
 ],
 "metadata": {
  "kernelspec": {
   "display_name": "C++11",
   "language": "C++11",
   "name": "xcpp11"
  },
  "language_info": {
   "codemirror_mode": "text/x-c++src",
   "file_extension": ".cpp",
   "mimetype": "text/x-c++src",
   "name": "c++",
   "version": "-std=c++11"
  }
 },
 "nbformat": 4,
 "nbformat_minor": 2
}
