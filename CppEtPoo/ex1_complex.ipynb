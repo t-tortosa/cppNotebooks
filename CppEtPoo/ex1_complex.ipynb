{
 "cells": [
  {
   "cell_type": "code",
   "execution_count": 1,
   "metadata": {},
   "outputs": [
    {
     "name": "stderr",
     "output_type": "stream",
     "text": [
      "\u001b[1minput_line_8:11:34: \u001b[0m\u001b[0;1;31merror: \u001b[0m\u001b[1mfunction definition is not allowed here\u001b[0m\n",
      " void Complexe::afficher() const {\n",
      "\u001b[0;1;32m                                 ^\n",
      "\u001b[0m\u001b[1minput_line_8:14:45: \u001b[0m\u001b[0;1;31merror: \u001b[0m\u001b[1mfunction definition is not allowed here\u001b[0m\n",
      "void Complexe::ajouter(const Complexe &cx2) {\n",
      "\u001b[0;1;32m                                            ^\n",
      "\u001b[0m"
     ]
    },
    {
     "ename": "Interpreter Error",
     "evalue": "",
     "output_type": "error",
     "traceback": [
      "Interpreter Error: "
     ]
    }
   ],
   "source": [
    "#include <iostream>\n",
    "\n",
    "class Complexe {\n",
    "public:\n",
    "  Complexe(float r, float i) : re(r), im(i) {}\n",
    "  Complexe(float r) : re(r), im(0) {}\n",
    "\n",
    "  void afficher() const;\n",
    "  void ajouter(const Complexe &cx2);\n",
    "\n",
    "private:\n",
    "  float re, im;\n",
    "};\n",
    "\n",
    "void Complexe::afficher() const {\n",
    "  std::cout << re << \" + \" << im << \"i\" << std::endl;\n",
    "}\n",
    "\n",
    "void Complexe::ajouter(const Complexe &cx2) {\n",
    "  re += cx2.re;\n",
    "  im += cx2.im;\n",
    "}\n",
    "\n",
    "float a, b;\n",
    "std::cout << \"Saisir un complexe : \";\n",
    "std::cin >> a >> b;\n",
    "\n",
    "Complexe c1(a, b);\n",
    "Complexe c2(3.1);\n",
    "Complexe c3(2, 5);\n",
    "\n",
    "c1.ajouter(c2);\n",
    "c1.ajouter(c3);\n",
    "std::cout << \"Apres ajout de 3.1 et 2+5i : \";\n",
    "c1.afficher();\n",
    "\n",
    "return 0;\n"
   ]
  },
  {
   "cell_type": "code",
   "execution_count": null,
   "metadata": {},
   "outputs": [],
   "source": []
  }
 ],
 "metadata": {
  "kernelspec": {
   "display_name": "C++11",
   "language": "C++11",
   "name": "xcpp11"
  },
  "language_info": {
   "codemirror_mode": "text/x-c++src",
   "file_extension": ".cpp",
   "mimetype": "text/x-c++src",
   "name": "c++",
   "version": "-std=c++11"
  }
 },
 "nbformat": 4,
 "nbformat_minor": 2
}
