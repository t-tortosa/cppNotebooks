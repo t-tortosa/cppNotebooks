{
 "cells": [
  {
   "cell_type": "markdown",
   "metadata": {},
   "source": [
    "# Portée des variables"
   ]
  },
  {
   "cell_type": "markdown",
   "metadata": {},
   "source": [
    "## Portée des variables dans une classe"
   ]
  },
  {
   "cell_type": "markdown",
   "metadata": {},
   "source": [
    "Dans une classe, il est possible que l'on souhaite ne pas laisser l'accès à un membre à tout le monde. Par exemple, si un attribut ne doit être modifiable que par la classe elle même. "
   ]
  },
  {
   "cell_type": "markdown",
   "metadata": {},
   "source": [
    "Il existe plusieurs mots clés permettant de configurer la portée des variables d'une classe : \n",
    "<ul>\n",
    "    <li><b>public :</b>  Les membres de la classe déclarés après ce mot clé seront accessibles par tout le monde</li>\n",
    "    <li><b>private :</b> Les membres de la classe déclarés après ce mot clé ne seront accessibles que par les méthodes de la classe</li>\n",
    "</ul>"
   ]
  },
  {
   "cell_type": "markdown",
   "metadata": {},
   "source": [
    "Si on prend l'exemple de la personne, on souhaite vérifier que l'age de l'individu est valide. On empeche alors à l'utilisateur de modifier directement l'attribut et on utilise une méthode permettant de modifier l'attribut en vérifiant la validité."
   ]
  },
  {
   "cell_type": "code",
   "execution_count": null,
   "metadata": {},
   "outputs": [],
   "source": [
    "#include <iostream>\n",
    "#include <string>\n",
    "\n",
    "// Dans le .h\n",
    "class Personne {\n",
    "  public:\n",
    "    std::string nom;\n",
    "    std::string prenom;\n",
    "    \n",
    "  private:\n",
    "    int age;\n",
    "    \n",
    "  public:\n",
    "    void direBonjour();\n",
    "    void sePresenter();\n",
    "    bool setAge(int newAge);\n",
    "    int getAge();\n",
    "    \n",
    "  private:\n",
    "    bool ageValid(int age);\n",
    "};"
   ]
  },
  {
   "cell_type": "code",
   "execution_count": null,
   "metadata": {},
   "outputs": [],
   "source": [
    "// Dans le .cpp\n",
    "void Personne::direBonjour() {\n",
    "    std::cout << \"Hello world\" << std::endl;\n",
    "}"
   ]
  },
  {
   "cell_type": "code",
   "execution_count": null,
   "metadata": {},
   "outputs": [],
   "source": [
    "void Personne::sePresenter() {\n",
    "    std::cout << \"I am \" << prenom << \" \" << nom << \" and i am \" << age << std::endl;\n",
    "}"
   ]
  },
  {
   "cell_type": "code",
   "execution_count": null,
   "metadata": {},
   "outputs": [],
   "source": [
    "bool Personne::ageValid(int age) {\n",
    "    if(age < 0 || age > 150) {\n",
    "        return false;\n",
    "    } else {\n",
    "        return true;\n",
    "    }\n",
    "}"
   ]
  },
  {
   "cell_type": "code",
   "execution_count": null,
   "metadata": {},
   "outputs": [],
   "source": [
    "bool Personne::setAge(int newAge) {\n",
    "    if (!ageValid(newAge)) {\n",
    "        return false;\n",
    "    } else {\n",
    "        age = newAge;\n",
    "        return true;\n",
    "    }\n",
    "}"
   ]
  },
  {
   "cell_type": "code",
   "execution_count": null,
   "metadata": {},
   "outputs": [],
   "source": [
    "int Personne::getAge() {\n",
    "    return age;\n",
    "}"
   ]
  },
  {
   "cell_type": "markdown",
   "metadata": {},
   "source": [
    "Les méthodes <b>setAge</b> et <b>getAge</b> sont appelé <b>setter</b> et <b>getter</b> de age.<br>\n",
    "Le code suivant permet alors de valider la fonctionnalité souhaitée."
   ]
  },
  {
   "cell_type": "code",
   "execution_count": null,
   "metadata": {},
   "outputs": [],
   "source": [
    "Personne john;\n",
    "john.setAge(40);\n",
    "john.setAge(240);\n",
    "john.sePresenter();"
   ]
  },
  {
   "cell_type": "markdown",
   "metadata": {},
   "source": [
    "Par ailleur, si on essaie d'accéder à l'attribut <b>age</b> depuis l'extérieur de la classe :"
   ]
  },
  {
   "cell_type": "code",
   "execution_count": null,
   "metadata": {},
   "outputs": [],
   "source": [
    "john.age = 10;"
   ]
  },
  {
   "cell_type": "markdown",
   "metadata": {},
   "source": [
    "<div style=\"float:left\"><a href=\"notionObjet.ipynb\">Précedent : La POO avec le C++ - Objet et classe</a></div>\n",
    "\n",
    "<div style=\"float:right\"><a href=\"construct.ipynb\">Suivant : La POO avec le C++ - Constructeur et Destructeurs</a></div>"
   ]
  }
 ],
 "metadata": {
  "kernelspec": {
   "display_name": "C++11",
   "language": "C++11",
   "name": "xcpp11"
  },
  "language_info": {
   "codemirror_mode": "text/x-c++src",
   "file_extension": ".cpp",
   "mimetype": "text/x-c++src",
   "name": "c++",
   "version": "-std=c++11"
  }
 },
 "nbformat": 4,
 "nbformat_minor": 2
}
