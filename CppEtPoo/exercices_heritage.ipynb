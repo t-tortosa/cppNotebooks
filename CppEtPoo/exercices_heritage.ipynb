{
 "cells": [
  {
   "cell_type": "markdown",
   "metadata": {},
   "source": [
    "# Exercices - Héritage"
   ]
  },
  {
   "cell_type": "markdown",
   "metadata": {},
   "source": [
    "## Exercice 1"
   ]
  },
  {
   "cell_type": "markdown",
   "metadata": {},
   "source": [
    "Soit la classe figure suivante : "
   ]
  },
  {
   "cell_type": "code",
   "execution_count": 1,
   "metadata": {},
   "outputs": [],
   "source": [
    "#include <iostream>"
   ]
  },
  {
   "cell_type": "code",
   "execution_count": 2,
   "metadata": {},
   "outputs": [],
   "source": [
    "class Figure {\n",
    "    public:\n",
    "    Figure(const int width, const int height) : width(width), height(height) {\n",
    "        buffer = new int[width*height];\n",
    "        clearBuffer();\n",
    "    }\n",
    "    \n",
    "    ~Figure() {\n",
    "        if(buffer != nullptr) {\n",
    "            delete buffer;\n",
    "        }\n",
    "    }\n",
    "    \n",
    "    void clearBuffer() {\n",
    "        for(int line=0; line<height; line++) {\n",
    "            for(int col=0; col<width; col++) {\n",
    "                buffer[line * width + col] = 0;\n",
    "            }\n",
    "        }\n",
    "    }\n",
    "    \n",
    "    void draw() {\n",
    "        for(int line=0; line<height; line++) {\n",
    "            for(int col=0; col<width; col++) {\n",
    "                std::cout << buffer[line * width + col] << \" \";\n",
    "            }\n",
    "            std::cout << std::endl;\n",
    "        }\n",
    "        std::cout << std::endl;\n",
    "    }\n",
    "    \n",
    "    bool setPoint(const int col, const int line) {\n",
    "        if(col<0 || col>=width || line<0 || line>=height) {\n",
    "            return false;\n",
    "        } \n",
    "        buffer[line * width + col] = 1;\n",
    "        return true;\n",
    "    }\n",
    "        \n",
    "    bool clearPoint(const int col, const int line) {\n",
    "        if(col<0 || col>=width || line<0 || line>=height) {\n",
    "            return false;\n",
    "        }\n",
    "        buffer[line * width + col] = 0;\n",
    "        return true;\n",
    "    }\n",
    "          \n",
    "    protected:\n",
    "    int *buffer;\n",
    "    \n",
    "    int width;\n",
    "    int height;\n",
    "}"
   ]
  },
  {
   "cell_type": "markdown",
   "metadata": {},
   "source": [
    "Cette classe gère un tableau permettant de dessiner une figure. L'utilisation de l'objet se fait de la manière suivante :"
   ]
  },
  {
   "cell_type": "code",
   "execution_count": 3,
   "metadata": {},
   "outputs": [],
   "source": [
    "// Déclaration d'une figure dessinée dans un tableau 2d de taille 5, 5\n",
    "Figure figure(5, 5);"
   ]
  },
  {
   "cell_type": "code",
   "execution_count": 4,
   "metadata": {},
   "outputs": [],
   "source": [
    "// Remplissage du tableau\n",
    "// On rempli la colonne centrale du tableau 2d\n",
    "for(int counter=0; counter < 5; counter++) {\n",
    "    figure.setPoint(counter, 2);\n",
    "}\n",
    "\n",
    "// On rempli la ligne centrale du tableau 2d\n",
    "for(int counter=0; counter < 5; counter++) {\n",
    "    figure.setPoint(2, counter);\n",
    "}"
   ]
  },
  {
   "cell_type": "code",
   "execution_count": 5,
   "metadata": {},
   "outputs": [
    {
     "name": "stdout",
     "output_type": "stream",
     "text": [
      "0 0 1 0 0 \n",
      "0 0 1 0 0 \n",
      "1 1 1 1 1 \n",
      "0 0 1 0 0 \n",
      "0 0 1 0 0 \n",
      "\n"
     ]
    }
   ],
   "source": [
    "figure.draw();"
   ]
  },
  {
   "cell_type": "markdown",
   "metadata": {},
   "source": [
    "Réaliser la modification nécessaire à la classe <b>Figure</b> pour que les méthodes de modification du buffer ne soient accessibles plus que par ses classes dérivées."
   ]
  },
  {
   "cell_type": "markdown",
   "metadata": {},
   "source": [
    "Ajouter une méthode à la classe <b>Figure</b> permettant de dessiner une ligne verticale dans le buffer."
   ]
  },
  {
   "cell_type": "markdown",
   "metadata": {},
   "source": [
    "Même chose pour dessiner une ligne horizontale"
   ]
  },
  {
   "cell_type": "markdown",
   "metadata": {},
   "source": [
    "Ecrire maintenant une classe <b>Croix</b>, héritant de <b>Figure</b>, permettant de dessiner une croix.\n",
    "Le constructeur de la classe <b>Croix</b> doit prendre en paramètre une largeur et une hauteur. Il doit ensuite utiliser les méthodes de la classe Figure pour remplir le tableau."
   ]
  },
  {
   "cell_type": "markdown",
   "metadata": {},
   "source": [
    "Ecrire une classe <b>Rectangle</b>, héritant de <b>Figure</b>, permettant de dessiner un rectangle."
   ]
  },
  {
   "cell_type": "markdown",
   "metadata": {},
   "source": [
    "Ecrire une classe <b>Carre</b>, permettant de dessiner un carré."
   ]
  },
  {
   "cell_type": "markdown",
   "metadata": {},
   "source": [
    "Pour chacune des classes précédentes, réimplémentez la méthode <i>draw</i> afin d'afficher le nom de la classe avant d'afficher la figure."
   ]
  },
  {
   "cell_type": "markdown",
   "metadata": {},
   "source": [
    "Utiliser la classe <b>Point</b> et la classe <b>Segment</b> de <a href=\"exercuces_classe_corr4.cpp\">l'exercice 4 précédent</a> pour réaliser les méthodes suivantes dans la classe <b>Figure</b> :\n",
    "<ul>\n",
    "    <li><b><i>drawPoint</i></b> : prenant en paramètre un <b>Point</b> et une épaisseur de point. On pourra au choix dessiner un point rectangulaire, ou un point en forme de disque.\n",
    "    <li><b><i>drawLine</i></b>  : prenant en paramètre un <b>Segment</b> et une épaisseur de segment. On pourra utiliser cet <a href=\"https://fr.wikipedia.org/wiki/Algorithme_de_trac%C3%A9_de_segment\">algorithme simple</a>\n",
    "</ul>"
   ]
  }
 ],
 "metadata": {
  "kernelspec": {
   "display_name": "C++11",
   "language": "C++11",
   "name": "xcpp11"
  },
  "language_info": {
   "codemirror_mode": "text/x-c++src",
   "file_extension": ".cpp",
   "mimetype": "text/x-c++src",
   "name": "c++",
   "version": "-std=c++11"
  }
 },
 "nbformat": 4,
 "nbformat_minor": 2
}
