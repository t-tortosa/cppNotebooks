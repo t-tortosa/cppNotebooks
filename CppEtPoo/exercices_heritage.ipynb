{
 "cells": [
  {
   "cell_type": "markdown",
   "metadata": {},
   "source": [
    "# Exercices - Héritage"
   ]
  },
  {
   "cell_type": "markdown",
   "metadata": {},
   "source": [
    "## Exercice 1"
   ]
  },
  {
   "cell_type": "markdown",
   "metadata": {},
   "source": [
    "Reprendre la classe Point de la dernière série d'exercices.<br>\n",
    "<ul>\n",
    "<li>Créer un classe PointB, dérivée de Point, comportant simplement une nouvelle fonction membre nommée rho, fournissant la valeur du rayon vecteur (première coordonnée polaire) d’un point.</li>\n",
    "<li>Même question, en supposant que les membres x et y ont été déclarés protégés (protected) dans point, et non plus privés.</li>\n",
    "<li>Introduire un constructeur dans la classe PointB</li>\n",
    "<li>Quelles sont les fonctions membres utilisables pour un objet de type PointB ?</li>\n",
    "</ul>"
   ]
  },
  {
   "cell_type": "code",
   "execution_count": null,
   "metadata": {},
   "outputs": [],
   "source": []
  },
  {
   "cell_type": "markdown",
   "metadata": {},
   "source": [
    "## Exercice 2"
   ]
  },
  {
   "cell_type": "markdown",
   "metadata": {},
   "source": [
    "Soit la classe Pt :"
   ]
  },
  {
   "cell_type": "code",
   "execution_count": 1,
   "metadata": {},
   "outputs": [],
   "source": [
    "#include <iostream>\n",
    "\n",
    "class Pt {\n",
    "  float x, y;\n",
    "\n",
    "public:\n",
    "  Pt(float abs = 0.0, float ord = 0.0) { x = abs, y = ord; }\n",
    "  void affiche() {\n",
    "    std::cout << \"Coordonnées : \" << x << \" \" << y << std::endl;\n",
    "  }\n",
    "  void deplace(float dx, float dy) {\n",
    "    x += dx;\n",
    "    y += dy;\n",
    "  }\n",
    "};"
   ]
  },
  {
   "cell_type": "markdown",
   "metadata": {},
   "source": [
    "Créer une classe PointCol, dérivée de Point, comporant :<br>\n",
    "\n",
    "<ul>\n",
    "<li>Une donnée membre supplémentaire cl, de type int, contenant la « couleur » d’un point</li>\n",
    "<li>Les fonctions membres suivantes :</li>\n",
    "<ul>\n",
    "<li>affiche (redéfinie), qui affiche les coordonnées et la couleur d'un objet de type PointCol</li>\n",
    "<li>colore (int couleur), qui permet de définir la couleur d'un objet de type PointCol</li>\n",
    "</ul>\n",
    "<li>Un constructeur permettant de définir la couleur et les coordonées.</li>\n",
    "</ul>\n",
    "\n",
    "<br>Que fera alors précisément l’instruction :\n",
    "PointCol(2.3, 3.34, 6);"
   ]
  }
 ],
 "metadata": {
  "kernelspec": {
   "display_name": "C++11",
   "language": "C++11",
   "name": "xcpp11"
  },
  "language_info": {
   "codemirror_mode": "text/x-c++src",
   "file_extension": ".cpp",
   "mimetype": "text/x-c++src",
   "name": "c++",
   "version": "-std=c++11"
  }
 },
 "nbformat": 4,
 "nbformat_minor": 2
}
