{
 "cells": [
  {
   "cell_type": "markdown",
   "metadata": {},
   "source": [
    "# Exercices - Compatibilités entre classes"
   ]
  },
  {
   "cell_type": "markdown",
   "metadata": {},
   "source": [
    "## Exercice 1"
   ]
  },
  {
   "cell_type": "markdown",
   "metadata": {},
   "source": [
    "Ecrire une classe Forme contenant une méthode virtuelle void description affichant la\n",
    "description et une méthode virtuelle double aire calculant l’aire de la forme.\n",
    "\n",
    "\n",
    "Ecrire les classes Cercle et Triangle héritant de Forme et appliquant le polymorphisme pour\n",
    "les méthodes description et aire.\n",
    "\n",
    "\n",
    "Ecrire une fonction void affichageDesc(const Forme& f), hors de la classe, qui affiche la\n",
    "description et l’aide d’une forme.\n",
    "\n",
    "\n",
    "Ecrire une fonction main qui :\n",
    "<ul>\n",
    "<li>Crée un cercle</li>\n",
    "<li>Appelle la fonction afficheDesc</li>\n",
    "<li>Crée un triangle</li>\n",
    "<li>Appelle la fonction afficheDesc</li>\n",
    "</ul>"
   ]
  },
  {
   "cell_type": "code",
   "execution_count": null,
   "metadata": {},
   "outputs": [],
   "source": []
  }
 ],
 "metadata": {
  "kernelspec": {
   "display_name": "C++11",
   "language": "C++11",
   "name": "xcpp11"
  },
  "language_info": {
   "codemirror_mode": "text/x-c++src",
   "file_extension": ".cpp",
   "mimetype": "text/x-c++src",
   "name": "c++",
   "version": "-std=c++11"
  }
 },
 "nbformat": 4,
 "nbformat_minor": 2
}
