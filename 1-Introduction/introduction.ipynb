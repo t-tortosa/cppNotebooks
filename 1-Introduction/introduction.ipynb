{
 "cells": [
  {
   "cell_type": "markdown",
   "metadata": {},
   "source": [
    "<a title=\"Jeremy Kratz [Copyrighted free use], via Wikimedia Commons\" href=\"https://commons.wikimedia.org/wiki/File:ISO_C%2B%2B_Logo.svg\"><img width=\"256\" alt=\"ISO C++ Logo\" src=\"https://upload.wikimedia.org/wikipedia/commons/thumb/1/18/ISO_C%2B%2B_Logo.svg/256px-ISO_C%2B%2B_Logo.svg.png\"></a>"
   ]
  },
  {
   "cell_type": "markdown",
   "metadata": {},
   "source": [
    "# Introduction"
   ]
  },
  {
   "cell_type": "markdown",
   "metadata": {},
   "source": [
    "## Génération de langages informatiques"
   ]
  },
  {
   "cell_type": "markdown",
   "metadata": {},
   "source": [
    "On peut distinguer plusieurs générations de langages informatiques : <br><br>\n",
    "\n",
    "<dl>\n",
    "    <dt> Langage machine (assembleur) :</dt>\n",
    "        <dd> Un nom symbolique est associé à chaque instruction processeur. Il s'agit du langage le plus proche du matériel. <br>\n",
    "            Voici un exemple de code en assembleur :<br> \n",
    "            <img width=\"312\" title=\"Exemple de somme en langage assembleur\" src=\"../img/asm.png\"></img>\n",
    "    Il s'agit ici d'un code permettant de sommer plusieurs éléments. <br><br>\n",
    "            Bilan du langage machine : \n",
    "            <ul>\n",
    "            <li> <b>Avantages :</b> il est possible de décrire tout ce qu'il est possible de faire avec un processeur </li>\n",
    "    <li> <b>Inconvénients :</b> L'approche du langage machine est décorrélée des fonctionnalitées que l'on souhaite développer dans un programme. L'écriture de programme complexe est longue et fastidieuse, tout autant que la relecture de code. </li>\n",
    "            </ul><br><br>\n",
    "    </dd>\n",
    "    <dt> Langages indépendant du matériel (C, ...) ou aussi <i>langage procéduraux</i>:</dt>\n",
    "    <dd> Le développement de système complexe en langage machine est très long et répétitif. L'idée est alors de créer des langages permettant de décrire des fonctions simples. Un \"traducteur\" permettra ensuite de transformer cette description en code compris par le compilateur. \n",
    "    Si on reprend l'exemple de la somme présenté plus haut, on obtient le code suivant en langage C :<br>\n",
    "                <img width=\"312\" title=\"Exemple de somme en langage C\" src=\"../img/cvsasm.png\"></img>\n",
    "    La complexité du code est alors largement réduite. Il est également bien plus lisible.<br> \n",
    "    Les compilateurs permettent aujourd'hui de transformer le code de manière optimale. Un code écrit en assembleur est souvent moins performant qu'un code écrit en C et transformé par le compilateur. Il est néanmoins courant de trouver du code assembleur dans du code C pour résoudre des problèmes de performance.<br><br><br>\n",
    "    </dd>\n",
    "    <dt> Langages orientés objet (python, C++, ...) </dt>\n",
    "    <dd>\n",
    "        Les performances des processeurs ont explosés depuis les débuts de l'informatique. Ceci a permit de développer des applications de plus en plus complexes, comme par exemple des <b>Interfaces Homme Machine (IHM)</b> :<br>\n",
    "    <img width=\"512\" title=\"IHM du Gestionnaire de paquet Ubuntu\" src=\"../img/ihm.png\"></img>\n",
    "        Les langages orientés objet permettent de découper le code en plusieurs objets, qui ont chacun leurs caractéristiques et leurs fonctionnalités. Par exemple, dans le cas d'une interface, une fenêtre, ou un menu seront un objet. Ceci permet de décrire d'une manière \"plus humaine\" (ou moins machine) les programmes que l'on souhaite développer. <br>\n",
    "        Pour le cas du C++ ou du Java, un compilateur permet ensuite de traduire le code directement en langage machine. \n",
    "    </dd>\n",
    "</dl><br>\n",
    "Il est à noter qu'actuellement, la grande majorité des langages les plus utilisé sont des langages orientés objet"
   ]
  },
  {
   "cell_type": "markdown",
   "metadata": {},
   "source": [
    "## Objectifs du cours "
   ]
  },
  {
   "cell_type": "markdown",
   "metadata": {},
   "source": [
    "Les objectifs de ce cours sont les suivants : \n",
    "<ul>\n",
    "    <li>S'initier aux concepts et principes de base de la programmation orientée objet</li>\n",
    "    <li>Découvrir les spécificités du langage C++</li>\n",
    "    <li>Maîtriser les bonnes pratiques du langage, afin d'améliorer la fiabilité et la réutilisation des logiciels</li>\n",
    "    </ul>"
   ]
  },
  {
   "cell_type": "markdown",
   "metadata": {},
   "source": [
    "## Bibliographie "
   ]
  },
  {
   "cell_type": "markdown",
   "metadata": {},
   "source": [
    "Une petite liste non exhaustive de livres sur le sujet :"
   ]
  },
  {
   "cell_type": "markdown",
   "metadata": {},
   "source": [
    "<style type=\"text/css\">\n",
    ".tg  {border-collapse:collapse;border-spacing:0;}\n",
    ".tg td{font-family:Arial, sans-serif;font-size:14px;padding:10px 5px;border-style:solid;border-width:1px;overflow:hidden;word-break:normal;border-color:black;}\n",
    ".tg th{font-family:Arial, sans-serif;font-size:14px;font-weight:normal;padding:10px 5px;border-style:solid;border-width:1px;overflow:hidden;word-break:normal;border-color:black;}\n",
    ".tg .tg-1wig{font-weight:bold;text-align:left;vertical-align:top}\n",
    ".tg .tg-0lax{text-align:left;vertical-align:top}\n",
    "</style>\n",
    "<table class=\"tg\">\n",
    "  <tr>\n",
    "    <th class=\"tg-1wig\">Auteur</th>\n",
    "    <th class=\"tg-1wig\">Titre<br></th>\n",
    "    <th class=\"tg-1wig\">Edition</th>\n",
    "  </tr>\n",
    "  <tr>\n",
    "    <td class=\"tg-1wig\">Claude Delannoy</td>\n",
    "    <td class=\"tg-1wig\">Programmer en langage C++</td>\n",
    "    <td class=\"tg-1wig\">Edition Eyrolles</td>\n",
    "  </tr>\n",
    "  <tr>\n",
    "    <td class=\"tg-1wig\">Jean-Michel Réveillac</td>\n",
    "    <td class=\"tg-1wig\">Mini Manuel de C++</td>\n",
    "    <td class=\"tg-0lax\"></td>\n",
    "  </tr>\n",
    "  <tr>\n",
    "    <td class=\"tg-1wig\">Bjarne Stroustup</td>\n",
    "    <td class=\"tg-1wig\">The C++ Programming Language 3rd Edition</td>\n",
    "    <td class=\"tg-0lax\"></td>\n",
    "  </tr>\n",
    "</table>"
   ]
  },
  {
   "cell_type": "markdown",
   "metadata": {},
   "source": [
    "Des références pour le langages C++ et pour sa librairie standard :\n",
    "<ul>\n",
    "    <li><a href=\"http://www.cppreference.com\">www.cppreference.com</a></li>\n",
    "    <li><a href=\"http://www.cplusplus.com\">www.cplusplus.com</a></li>\n",
    "</ul></br>\n",
    "\n",
    "Une liste de cours sur internet : \n",
    "<ul>\n",
    "    <li><a href=\"https://cpp.developpez.com/cours/cpp/\">developpez.com</a></li>\n",
    "    <li><a href=\"https://openclassrooms.com/fr/courses/1894236-programmez-avec-le-langage-c\">openclassroom</a></li>\n",
    "</ul>"
   ]
  },
  {
   "cell_type": "markdown",
   "metadata": {},
   "source": [
    "<div align=\"right\">\n",
    "    <a href=\"Jupyter.ipynb\">Suivant : Introduction à Jupyter</a>\n",
    "</div>"
   ]
  }
 ],
 "metadata": {
  "kernelspec": {
   "display_name": "C++11",
   "language": "C++11",
   "name": "xcpp11"
  },
  "language_info": {
   "codemirror_mode": "text/x-c++src",
   "file_extension": ".cpp",
   "mimetype": "text/x-c++src",
   "name": "c++",
   "version": "11"
  }
 },
 "nbformat": 4,
 "nbformat_minor": 2
}
