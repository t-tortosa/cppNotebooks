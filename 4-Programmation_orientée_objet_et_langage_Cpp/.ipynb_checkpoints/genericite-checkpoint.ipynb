{
 "cells": [
  {
   "cell_type": "code",
   "execution_count": null,
   "metadata": {},
   "outputs": [],
   "source": [
    "#include <iostream>"
   ]
  },
  {
   "cell_type": "markdown",
   "metadata": {},
   "source": [
    "# La généricité"
   ]
  },
  {
   "cell_type": "markdown",
   "metadata": {},
   "source": [
    "## Illustration du problème"
   ]
  },
  {
   "cell_type": "markdown",
   "metadata": {},
   "source": [
    "On souhaite ici réaliser une fonction permettant de calculer le maximum entre deux nombres.\n",
    "Instinctivement, on écrit le code suivant : "
   ]
  },
  {
   "cell_type": "code",
   "execution_count": null,
   "metadata": {},
   "outputs": [],
   "source": [
    "int max(int a, int b) {\n",
    "    return (a>b)?a:b;\n",
    "    // Equivalent de : \n",
    "    // if (a>b) return a; else return b;\n",
    "}"
   ]
  },
  {
   "cell_type": "markdown",
   "metadata": {},
   "source": [
    "On peut alors retourner le maximum de deux entiers."
   ]
  },
  {
   "cell_type": "code",
   "execution_count": null,
   "metadata": {},
   "outputs": [],
   "source": [
    "int intA = 4, intB = 5;\n",
    "std::cout << max(intA, intB) << std::endl;"
   ]
  },
  {
   "cell_type": "markdown",
   "metadata": {},
   "source": [
    "<font color=\"green\">Peut on utiliser cette fonction pour comparer deux float ?</font>"
   ]
  },
  {
   "cell_type": "code",
   "execution_count": null,
   "metadata": {},
   "outputs": [],
   "source": [
    "float floatA = 4.f, floatB = 5.3f;"
   ]
  },
  {
   "cell_type": "code",
   "execution_count": null,
   "metadata": {},
   "outputs": [],
   "source": [
    "std::cout << max(floatA, floatB) << std::endl;"
   ]
  },
  {
   "cell_type": "markdown",
   "metadata": {},
   "source": [
    "Ici, <i>floatA</i> et <i>floatB</i> sont convertis en entier avant d'être passés à la fonction <i>maxInt</i>. Pour faire une fonction permettant de comparer deux float, il faudrait écrire la fonction suivante : "
   ]
  },
  {
   "cell_type": "code",
   "execution_count": null,
   "metadata": {},
   "outputs": [],
   "source": [
    "float max(float a, float b) {\n",
    "    return (a>b)?a:b;\n",
    "}"
   ]
  },
  {
   "cell_type": "code",
   "execution_count": null,
   "metadata": {},
   "outputs": [],
   "source": [
    "std::cout << max(floatA, floatB) << std::endl;"
   ]
  },
  {
   "cell_type": "markdown",
   "metadata": {},
   "source": [
    "Afin que la fonction qu'on vient de créer soit générique, il faudrait alors réimplémenter la méthode pour chaque type de comparaison possible. Il existe une solution en C++ pour résoudre ce problème."
   ]
  },
  {
   "cell_type": "markdown",
   "metadata": {},
   "source": [
    "## Le mot clé <i>template</i>"
   ]
  },
  {
   "cell_type": "markdown",
   "metadata": {},
   "source": [
    "En C++, il est possible de ne pas définir à l'avance un type utilisé dans une fonction. On utilise un <i>template</i> dont le type sera défini plus tard, par l'utilisateur."
   ]
  },
  {
   "cell_type": "markdown",
   "metadata": {},
   "source": [
    "L'exemple précédent s'écrirait avec la syntaxe suivante : "
   ]
  },
  {
   "cell_type": "code",
   "execution_count": null,
   "metadata": {},
   "outputs": [],
   "source": [
    "template <typename T>\n",
    "T maxTemp(T a, T b) {\n",
    "    return (a>b)?a:b;\n",
    "}"
   ]
  },
  {
   "cell_type": "markdown",
   "metadata": {},
   "source": [
    "Ici le mot clé <i>template</i> permet de dire que le Type <b>T</b> sera défini par l'utilisateur."
   ]
  },
  {
   "cell_type": "markdown",
   "metadata": {},
   "source": [
    "Pour utiliser la fonction, on utilise alors la syntaxe suivante : "
   ]
  },
  {
   "cell_type": "code",
   "execution_count": null,
   "metadata": {},
   "outputs": [],
   "source": [
    "std::cout << max<int>(intA, intB) << std::endl;\n",
    "std::cout << max<float>(floatA, floatB) << std::endl;"
   ]
  },
  {
   "cell_type": "markdown",
   "metadata": {},
   "source": [
    "Entre <b><</b> et <b>></b> on défini le type de <b>T</b>. "
   ]
  },
  {
   "cell_type": "markdown",
   "metadata": {},
   "source": [
    "On prend maintenant une classe décrivant un rectangle :"
   ]
  },
  {
   "cell_type": "code",
   "execution_count": null,
   "metadata": {},
   "outputs": [],
   "source": [
    "class Rectangle {\n",
    "    public:\n",
    "    Rectangle(float w=0, float h=0) : width(w), height(h) {}\n",
    "    \n",
    "    private:\n",
    "    float width;\n",
    "    float height;\n",
    "};"
   ]
  },
  {
   "cell_type": "markdown",
   "metadata": {},
   "source": [
    "On essaie alors de comparer deux rectangles :"
   ]
  },
  {
   "cell_type": "code",
   "execution_count": null,
   "metadata": {},
   "outputs": [],
   "source": [
    "Rectangle recA(2, 2), recB(2, 3), recC;"
   ]
  },
  {
   "cell_type": "code",
   "execution_count": null,
   "metadata": {},
   "outputs": [],
   "source": [
    "recC = max<Rectangle>(recA, recB)"
   ]
  },
  {
   "cell_type": "markdown",
   "metadata": {},
   "source": [
    "L'utilisation du template n'est pas possible car l'operateur <b>></b> n'est pas défini pour la classe <b>Rectangle</b>."
   ]
  },
  {
   "cell_type": "markdown",
   "metadata": {},
   "source": [
    "On redéfinie alors une classe rectangle optimisée qui implémente cet opérateur :"
   ]
  },
  {
   "cell_type": "code",
   "execution_count": null,
   "metadata": {},
   "outputs": [],
   "source": [
    "class RectangleOpt {\n",
    "    public:\n",
    "    RectangleOpt(float w=0, float h=0) : width(w), height(h) {}\n",
    "    \n",
    "    float getArea() const {\n",
    "        return width*height;\n",
    "    }\n",
    "    \n",
    "    bool operator>(const RectangleOpt & rec) {\n",
    "        return getArea() > rec.getArea();\n",
    "    }\n",
    "    \n",
    "    private:\n",
    "    float width;\n",
    "    float height;\n",
    "};"
   ]
  },
  {
   "cell_type": "markdown",
   "metadata": {},
   "source": [
    "On peut alors comparer notre nouvelle classe avec la même fonction : "
   ]
  },
  {
   "cell_type": "code",
   "execution_count": null,
   "metadata": {},
   "outputs": [],
   "source": [
    "RectangleOpt rA(2, 2), rB(2, 3), rC;"
   ]
  },
  {
   "cell_type": "code",
   "execution_count": null,
   "metadata": {},
   "outputs": [],
   "source": [
    "rC = max<RectangleOpt>(rA, rB);\n",
    "std::cout << \"Aire du plus grand rectangle : \" << rC.getArea() << std::endl;"
   ]
  },
  {
   "cell_type": "markdown",
   "metadata": {},
   "source": [
    "## Template dans les classes"
   ]
  },
  {
   "cell_type": "markdown",
   "metadata": {},
   "source": [
    "Il est également possible de définir un template valable pour tout une classe :"
   ]
  },
  {
   "cell_type": "code",
   "execution_count": null,
   "metadata": {},
   "outputs": [],
   "source": [
    "template <typename Tp>\n",
    "class Point {\n",
    "    public:\n",
    "    \n",
    "    Point(Tp x, Tp y) : x(x), y(y) {}\n",
    "    void display() {\n",
    "        std::cout << \"Coordinates : [\" << x << \"; \" << y << \"]\" << std::endl;\n",
    "    }\n",
    "    \n",
    "    Tp x;\n",
    "    Tp y;\n",
    "};"
   ]
  },
  {
   "cell_type": "markdown",
   "metadata": {},
   "source": [
    "L'utilisation se fait de la manière suivante : "
   ]
  },
  {
   "cell_type": "code",
   "execution_count": null,
   "metadata": {},
   "outputs": [],
   "source": [
    "Point<double> pointA(5.4, 9.7);\n",
    "pointA.display();\n",
    "Point<int> pointB(5, 9);\n",
    "pointB.display();"
   ]
  },
  {
   "cell_type": "markdown",
   "metadata": {},
   "source": [
    "<div style=\"float:left\"><a href=\"Compatibilite.ipynb\">Précedent : La POO avec le C++ - <br>Compatibilité entre classes</a></div>\n",
    "\n",
    "<div style=\"float:right\"><a href=\"../5-Librairies_et_evolution_du_langage/stl.ipynb\">Suivant : Notions avancées - <br>La librairie standard</a></div>"
   ]
  }
 ],
 "metadata": {
  "kernelspec": {
   "display_name": "C++11",
   "language": "C++11",
   "name": "xcpp11"
  },
  "language_info": {
   "codemirror_mode": "text/x-c++src",
   "file_extension": ".cpp",
   "mimetype": "text/x-c++src",
   "name": "c++",
   "version": "11"
  }
 },
 "nbformat": 4,
 "nbformat_minor": 2
}
