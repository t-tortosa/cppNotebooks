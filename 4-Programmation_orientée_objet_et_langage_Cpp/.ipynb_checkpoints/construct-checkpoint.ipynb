{
 "cells": [
  {
   "cell_type": "markdown",
   "metadata": {},
   "source": [
    "# Constructeur et destructeur"
   ]
  },
  {
   "cell_type": "markdown",
   "metadata": {},
   "source": [
    "Il est souvent nécessaire de réaliser des opérations sur les membres d'un objet au moment de sa création, ou au moment de sa libération."
   ]
  },
  {
   "cell_type": "markdown",
   "metadata": {},
   "source": [
    "Il existe deux méthodes spéciales permettant de réaliser ces opérations : \n",
    "<ul>\n",
    "    <li><b>Le constructeur :</b> Méthode appelée à la création de l'objet. Le nom de cette méthode est <b>NomDeLaClasse</b></li>\n",
    "    <li><b>Le destructeur  :</b> Méthode appelée à la libération de l'objet. Le nom de cette méthode est <b>~NomDeLaClasse</b></li>\n",
    "</ul>"
   ]
  },
  {
   "cell_type": "markdown",
   "metadata": {},
   "source": [
    "Ces méthodes peuvent prendre le nombre d'argument que l'on veut. Par exemple, si on veut forcer la classe <b>Personne</b> à initialiser ses données à sa création, on pourra adapter le code précédent de la manière suivante :"
   ]
  },
  {
   "cell_type": "code",
   "execution_count": 1,
   "metadata": {},
   "outputs": [],
   "source": [
    "#include <iostream>\n",
    "#include <string>\n",
    "\n",
    "// Dans le .h\n",
    "class Personne {    \n",
    "  public:\n",
    "    std::string nom;\n",
    "    std::string prenom;\n",
    "    \n",
    "  private:\n",
    "    int age;\n",
    "    \n",
    "  public:\n",
    "    Personne(const std::string & familyName, const std::string & firstName, const int firstAge)\n",
    "        : nom(familyName), prenom(firstName) {\n",
    "        setAge(firstAge);\n",
    "    }\n",
    "    ~Personne(){\n",
    "        //Bon endroit pour libérer de la mémoire allouée par la classe\n",
    "        std::cout << \"Deleting Person \" << prenom << \" \" << nom << std::endl;\n",
    "    }\n",
    "    \n",
    "    void direBonjour(){\n",
    "        std::cout << \"Hello world\" << std::endl;\n",
    "    }\n",
    "    \n",
    "    void sePresenter(){\n",
    "        std::cout << \"I am \" << prenom << \" \" << nom << \" and i am \" << age << std::endl;\n",
    "    }\n",
    "    \n",
    "    bool setAge(const int newAge){\n",
    "        if (!ageValid(newAge)) {\n",
    "            return false;\n",
    "        } else {\n",
    "            age = newAge;\n",
    "            return true;\n",
    "        }\n",
    "    }\n",
    "    \n",
    "    int getAge(){\n",
    "        return age;\n",
    "    }\n",
    "    \n",
    "  private:\n",
    "    bool ageValid(const int age){\n",
    "        if(age < 0 || age > 150) {\n",
    "            return false;\n",
    "        } else {\n",
    "            return true;\n",
    "        }\n",
    "    }\n",
    "};"
   ]
  },
  {
   "cell_type": "markdown",
   "metadata": {},
   "source": [
    "On initialise alors l'objet de la manière suivante : "
   ]
  },
  {
   "cell_type": "code",
   "execution_count": 2,
   "metadata": {},
   "outputs": [
    {
     "name": "stdout",
     "output_type": "stream",
     "text": [
      "I am Michael Smith and i am 54\n",
      "Deleting Person Michael Smith\n",
      "I am John Doe and i am 24\n"
     ]
    }
   ],
   "source": [
    "// Cas d'une instantiation statique\n",
    "Personne john(std::string(\"Doe\"), std::string(\"John\"), 24);\n",
    "// Cas d'une instantiation dynamique\n",
    "Personne * michael = new Personne(std::string(\"Smith\"), std::string(\"Michael\"), 54);\n",
    "\n",
    "michael->sePresenter();\n",
    "\n",
    "delete michael;\n",
    "\n",
    "john.sePresenter();"
   ]
  },
  {
   "cell_type": "markdown",
   "metadata": {},
   "source": [
    "Tous les attributs sont bien initialisés par le constructeur et le destructeur de l'objet <b>michael</b> est bien appelé au moment du <b>delete</b>"
   ]
  },
  {
   "cell_type": "markdown",
   "metadata": {},
   "source": [
    "## Constructeurs multiples"
   ]
  },
  {
   "cell_type": "markdown",
   "metadata": {},
   "source": [
    "Il est également possible de définir plusieurs constructeurs. En prenant l'exemple d'une classe Point :"
   ]
  },
  {
   "cell_type": "code",
   "execution_count": 3,
   "metadata": {},
   "outputs": [],
   "source": [
    "class Point {\n",
    "public:\n",
    "    Point(int x_val, int y_val) {\n",
    "        x = x_val;\n",
    "        y = y_val;\n",
    "    }\n",
    "    \n",
    "    Point() {\n",
    "        x = 0;\n",
    "        y = 0;\n",
    "    }\n",
    "    \n",
    "    void afficherPoint() {\n",
    "        std::cout << \"Point coords : [\" << x << \", \" << y << \"]\" << std::endl;\n",
    "    }\n",
    "    \n",
    "private:\n",
    "    int x;\n",
    "    int y;\n",
    "};"
   ]
  },
  {
   "cell_type": "code",
   "execution_count": 4,
   "metadata": {},
   "outputs": [
    {
     "name": "stdout",
     "output_type": "stream",
     "text": [
      "Point coords : [15, 10]\n",
      "Point coords : [0, 0]\n"
     ]
    }
   ],
   "source": [
    "Point point1(15, 10);\n",
    "Point point2;\n",
    "point1.afficherPoint();\n",
    "point2.afficherPoint();"
   ]
  },
  {
   "cell_type": "markdown",
   "metadata": {},
   "source": [
    "En fait, en C++ toutes les fonctions sont définies par \n",
    "<ul>\n",
    "    <li>Leur nom</li>\n",
    "    <li>Leur liste d'argument</li>\n",
    "</ul>\n",
    "\n",
    "Les arguments utilisés à l'appel de la fonction permettent donc de déterminer quelle est la fonction appelée."
   ]
  },
  {
   "cell_type": "markdown",
   "metadata": {},
   "source": [
    "## Affectation "
   ]
  },
  {
   "cell_type": "markdown",
   "metadata": {},
   "source": [
    "Le constructeur permet donc d'initialiser les attributs de la classe. Il reste à savoir comment initialiser les constantes d'une classes. "
   ]
  },
  {
   "cell_type": "markdown",
   "metadata": {},
   "source": [
    "En règle générale, une constante est déclarée de la manière suivante : "
   ]
  },
  {
   "cell_type": "code",
   "execution_count": 5,
   "metadata": {},
   "outputs": [],
   "source": [
    "const int constante = 4;"
   ]
  },
  {
   "cell_type": "markdown",
   "metadata": {},
   "source": [
    "Cette opération s'appelle l'affectation. Une fois la déclaration terminée, la constante n'est plus modifiable."
   ]
  },
  {
   "cell_type": "markdown",
   "metadata": {},
   "source": [
    "Reprenons l'exemple de la classe point, mais cette fois ci, nous souhaitons avoir x et y constants : "
   ]
  },
  {
   "cell_type": "code",
   "execution_count": 6,
   "metadata": {},
   "outputs": [
    {
     "name": "stderr",
     "output_type": "stream",
     "text": [
      "\u001b[1minput_line_13:3:5: \u001b[0m\u001b[0;1;31merror: \u001b[0m\u001b[1mconstructor for 'PointConst' must explicitly initialize the const member 'x'\u001b[0m\n",
      "    PointConst(int x_val, int y_val) {\n",
      "\u001b[0;1;32m    ^\n",
      "\u001b[0m\u001b[1minput_line_13:18:15: \u001b[0m\u001b[0;1;30mnote: \u001b[0mdeclared here\u001b[0m\n",
      "    const int x;\n",
      "\u001b[0;1;32m              ^\n",
      "\u001b[0m\u001b[1minput_line_13:3:5: \u001b[0m\u001b[0;1;31merror: \u001b[0m\u001b[1mconstructor for 'PointConst' must explicitly initialize the const member 'y'\u001b[0m\n",
      "    PointConst(int x_val, int y_val) {\n",
      "\u001b[0;1;32m    ^\n",
      "\u001b[0m\u001b[1minput_line_13:19:15: \u001b[0m\u001b[0;1;30mnote: \u001b[0mdeclared here\u001b[0m\n",
      "    const int y;\n",
      "\u001b[0;1;32m              ^\n",
      "\u001b[0m\u001b[1minput_line_13:4:11: \u001b[0m\u001b[0;1;31merror: \u001b[0m\u001b[1mcannot assign to non-static data member 'x' with const-qualified type 'const int'\u001b[0m\n",
      "        x = x_val;\n",
      "\u001b[0;1;32m        ~ ^\n",
      "\u001b[0m\u001b[1minput_line_13:18:15: \u001b[0m\u001b[0;1;30mnote: \u001b[0mnon-static data member 'x' declared const here\u001b[0m\n",
      "    const int x;\n",
      "\u001b[0;1;32m    ~~~~~~~~~~^\n",
      "\u001b[0m\u001b[1minput_line_13:5:11: \u001b[0m\u001b[0;1;31merror: \u001b[0m\u001b[1mcannot assign to non-static data member 'y' with const-qualified type 'const int'\u001b[0m\n",
      "        y = y_val;\n",
      "\u001b[0;1;32m        ~ ^\n",
      "\u001b[0m\u001b[1minput_line_13:19:15: \u001b[0m\u001b[0;1;30mnote: \u001b[0mnon-static data member 'y' declared const here\u001b[0m\n",
      "    const int y;\n",
      "\u001b[0;1;32m    ~~~~~~~~~~^\n",
      "\u001b[0m\u001b[1minput_line_13:8:5: \u001b[0m\u001b[0;1;31merror: \u001b[0m\u001b[1mconstructor for 'PointConst' must explicitly initialize the const member 'x'\u001b[0m\n",
      "    PointConst() {\n",
      "\u001b[0;1;32m    ^\n",
      "\u001b[0m\u001b[1minput_line_13:18:15: \u001b[0m\u001b[0;1;30mnote: \u001b[0mdeclared here\u001b[0m\n",
      "    const int x;\n",
      "\u001b[0;1;32m              ^\n",
      "\u001b[0m\u001b[1minput_line_13:8:5: \u001b[0m\u001b[0;1;31merror: \u001b[0m\u001b[1mconstructor for 'PointConst' must explicitly initialize the const member 'y'\u001b[0m\n",
      "    PointConst() {\n",
      "\u001b[0;1;32m    ^\n",
      "\u001b[0m\u001b[1minput_line_13:19:15: \u001b[0m\u001b[0;1;30mnote: \u001b[0mdeclared here\u001b[0m\n",
      "    const int y;\n",
      "\u001b[0;1;32m              ^\n",
      "\u001b[0m\u001b[1minput_line_13:9:11: \u001b[0m\u001b[0;1;31merror: \u001b[0m\u001b[1mcannot assign to non-static data member 'x' with const-qualified type 'const int'\u001b[0m\n",
      "        x = 0;\n",
      "\u001b[0;1;32m        ~ ^\n",
      "\u001b[0m\u001b[1minput_line_13:18:15: \u001b[0m\u001b[0;1;30mnote: \u001b[0mnon-static data member 'x' declared const here\u001b[0m\n",
      "    const int x;\n",
      "\u001b[0;1;32m    ~~~~~~~~~~^\n",
      "\u001b[0m\u001b[1minput_line_13:10:11: \u001b[0m\u001b[0;1;31merror: \u001b[0m\u001b[1mcannot assign to non-static data member 'y' with const-qualified type 'const int'\u001b[0m\n",
      "        y = 0;\n",
      "\u001b[0;1;32m        ~ ^\n",
      "\u001b[0m\u001b[1minput_line_13:19:15: \u001b[0m\u001b[0;1;30mnote: \u001b[0mnon-static data member 'y' declared const here\u001b[0m\n",
      "    const int y;\n",
      "\u001b[0;1;32m    ~~~~~~~~~~^\n",
      "\u001b[0m"
     ]
    },
    {
     "ename": "Interpreter Error",
     "evalue": "",
     "output_type": "error",
     "traceback": [
      "Interpreter Error: "
     ]
    }
   ],
   "source": [
    "class PointConst {\n",
    "public:\n",
    "    PointConst(int x_val, int y_val) {\n",
    "        x = x_val;\n",
    "        y = y_val;\n",
    "    }\n",
    "    \n",
    "    PointConst() {\n",
    "        x = 0;\n",
    "        y = 0;\n",
    "    }\n",
    "    \n",
    "    void afficherPoint() {\n",
    "        std::cout << \"Point coords : [\" << x << \", \" << y << \"]\" << std::endl;\n",
    "    }\n",
    "    \n",
    "private:\n",
    "    const int x;\n",
    "    const int y;\n",
    "};"
   ]
  },
  {
   "cell_type": "markdown",
   "metadata": {},
   "source": [
    "Il est impossible de modifier les attributs constants dans le constructeur. L'initialisation doit se faire par une autre manière : l'affectation."
   ]
  },
  {
   "cell_type": "markdown",
   "metadata": {},
   "source": [
    "Dans le cas d'une classe, la constante peut être affectée dans le constructeur à l'aide de la syntaxe suivante : <br>\n",
    "<b>Constructeur(...) : var1(valeur1), var2(valeur2) {...}</b>\n",
    "En reprenant l'exemple de la classe <b>Point</b> :"
   ]
  },
  {
   "cell_type": "code",
   "execution_count": 7,
   "metadata": {},
   "outputs": [],
   "source": [
    "class PointConst {\n",
    "public:\n",
    "    PointConst(int x_val, int y_val) : x(x_val), y(y_val) {\n",
    "    }\n",
    "    \n",
    "    PointConst(): x(0), y(0) {\n",
    "    }\n",
    "    \n",
    "    void afficherPoint() {\n",
    "        std::cout << \"Point coords : [\" << x << \", \" << y << \"]\" << std::endl;\n",
    "    }\n",
    "    \n",
    "private:\n",
    "    const int x;\n",
    "    const int y;\n",
    "};"
   ]
  },
  {
   "cell_type": "code",
   "execution_count": 8,
   "metadata": {},
   "outputs": [
    {
     "name": "stdout",
     "output_type": "stream",
     "text": [
      "Point coords : [15, 10]\n",
      "Point coords : [0, 0]\n"
     ]
    }
   ],
   "source": [
    "PointConst point1(15, 10);\n",
    "PointConst point2;\n",
    "point1.afficherPoint();\n",
    "point2.afficherPoint();"
   ]
  },
  {
   "cell_type": "markdown",
   "metadata": {},
   "source": [
    "Il est à noter que l'ordre d'appel de l'affectation doit respecter l'ordre de déclaration des variables"
   ]
  },
  {
   "cell_type": "markdown",
   "metadata": {},
   "source": [
    "## Constructeur par défaut"
   ]
  },
  {
   "cell_type": "markdown",
   "metadata": {},
   "source": [
    "Toute classe possède au moins un constructeur par défaut qui ne prend pas d'argument. Il peut tout de même être réimplémenté si on le souhaite. "
   ]
  },
  {
   "cell_type": "markdown",
   "metadata": {},
   "source": [
    "## Constructeur par recopie"
   ]
  },
  {
   "cell_type": "markdown",
   "metadata": {},
   "source": [
    "On appelle constructeur par recopie, le constructeur qui prend en argument une instance de sa classe."
   ]
  },
  {
   "cell_type": "code",
   "execution_count": 9,
   "metadata": {},
   "outputs": [],
   "source": [
    "class A {\n",
    "    public:\n",
    "    A() {\n",
    "        name = std::string(\"\");\n",
    "    }\n",
    "    std::string name;\n",
    "};"
   ]
  },
  {
   "cell_type": "code",
   "execution_count": 10,
   "metadata": {},
   "outputs": [
    {
     "name": "stdout",
     "output_type": "stream",
     "text": [
      "Je suis la classe A\n"
     ]
    }
   ],
   "source": [
    "A a;\n",
    "a.name = std::string(\"Je suis la classe A\");\n",
    "A b(a);\n",
    "\n",
    "std::cout << b.name << std::endl;\n"
   ]
  },
  {
   "cell_type": "markdown",
   "metadata": {},
   "source": [
    "Ici, nous n'avons déclaré aucun constructeur par recopie. Il en existe en fait un par défaut."
   ]
  },
  {
   "cell_type": "markdown",
   "metadata": {},
   "source": [
    "On pourrait également l'utiliser de la manière suivante:"
   ]
  },
  {
   "cell_type": "code",
   "execution_count": 11,
   "metadata": {},
   "outputs": [],
   "source": [
    "A c = a;"
   ]
  },
  {
   "cell_type": "code",
   "execution_count": 12,
   "metadata": {},
   "outputs": [
    {
     "name": "stdout",
     "output_type": "stream",
     "text": [
      "Je suis la classe A\n"
     ]
    }
   ],
   "source": [
    "std::cout << c.name << std::endl;"
   ]
  },
  {
   "cell_type": "markdown",
   "metadata": {},
   "source": [
    "Seulement, la classe d'exemple que nous avons vu ici n'utilise que des attributs statiques. Imaginons une classe utilisant un pointeur : "
   ]
  },
  {
   "cell_type": "code",
   "execution_count": 13,
   "metadata": {},
   "outputs": [],
   "source": [
    "class BufferWrong {\n",
    "    public:\n",
    "    BufferWrong() {\n",
    "        liste = nullptr;\n",
    "    }\n",
    "    \n",
    "    void allouer(int s) {\n",
    "        size = s;\n",
    "        if (liste!=nullptr)\n",
    "            delete liste;\n",
    "        liste = new int[size];\n",
    "    }\n",
    "    \n",
    "    void afficher() {\n",
    "        std::cout << \"Affichage de la liste :\" << std::endl; \n",
    "        for(int counter = 0; counter < size; counter++) {\n",
    "            std::cout << liste[counter] << \"\\t\";\n",
    "        }\n",
    "        std::cout << std::endl;\n",
    "    }\n",
    "    \n",
    "    int * liste;\n",
    "    int size;\n",
    "};"
   ]
  },
  {
   "cell_type": "code",
   "execution_count": 14,
   "metadata": {},
   "outputs": [
    {
     "name": "stdout",
     "output_type": "stream",
     "text": [
      "Affichage de la liste :\n",
      "0\t1\t2\t3\t4\t\n"
     ]
    }
   ],
   "source": [
    "BufferWrong b1w;\n",
    "b1w.allouer(5);\n",
    "for(int counter=0; counter<b1w.size; counter++) {\n",
    "    b1w.liste[counter] = counter;\n",
    "}\n",
    "b1w.afficher();"
   ]
  },
  {
   "cell_type": "code",
   "execution_count": 18,
   "metadata": {},
   "outputs": [
    {
     "name": "stdout",
     "output_type": "stream",
     "text": [
      "Affichage de la liste :\n",
      "0\t1\t2\t3\t4\t\n"
     ]
    }
   ],
   "source": [
    "BufferWrong b2w(b1w);\n",
    "b2w.afficher();"
   ]
  },
  {
   "cell_type": "code",
   "execution_count": 19,
   "metadata": {},
   "outputs": [
    {
     "name": "stdout",
     "output_type": "stream",
     "text": [
      "0x55d083862150\n",
      "0x55d083862150\n"
     ]
    }
   ],
   "source": [
    "std::cout << b1w.liste << std::endl;\n",
    "std::cout << b2w.liste << std::endl;"
   ]
  },
  {
   "cell_type": "markdown",
   "metadata": {},
   "source": [
    "Le constructeur par recopie fourni par défaut s'est contenté de copier l'ensemble des attributs. Par conséquent, au lieu d'avoir copié un buffer, nous avons copié son adresse. Par conséquent, si on modifie b2w, b1w est affecté:"
   ]
  },
  {
   "cell_type": "code",
   "execution_count": 20,
   "metadata": {},
   "outputs": [
    {
     "name": "stdout",
     "output_type": "stream",
     "text": [
      "Affichage de la liste :\n",
      "0\t1\t10\t3\t4\t\n"
     ]
    }
   ],
   "source": [
    "b2w.liste[2] = 10;\n",
    "b1w.afficher();"
   ]
  },
  {
   "cell_type": "markdown",
   "metadata": {},
   "source": [
    "Pour éviter ce genre de problème, il faut redéfinir le constructeur par recopie de la manière suivante: "
   ]
  },
  {
   "cell_type": "code",
   "execution_count": null,
   "metadata": {},
   "outputs": [],
   "source": [
    "class Buffer {\n",
    "    public:\n",
    "    Buffer() {\n",
    "        liste = nullptr;\n",
    "    }\n",
    "    Buffer(const Buffer & buf) {\n",
    "        allouer(buf.size);\n",
    "        for(int counter=0; counter<size; counter++){\n",
    "            liste[counter] = buf.liste[counter];\n",
    "        }\n",
    "    }\n",
    "    \n",
    "    void allouer(int s) {\n",
    "        size = s;\n",
    "        if (liste!=nullptr)\n",
    "            delete liste;\n",
    "        liste = new int[size];\n",
    "    }\n",
    "    \n",
    "    void afficher() {\n",
    "        std::cout << \"Affichage de la liste :\" << std::endl; \n",
    "        for(int counter = 0; counter < size; counter++) {\n",
    "            std::cout << liste[counter] << \"\\t\";\n",
    "        }\n",
    "        std::cout << std::endl;\n",
    "    }\n",
    "    \n",
    "    int * liste;\n",
    "    int size;\n",
    "};"
   ]
  },
  {
   "cell_type": "code",
   "execution_count": null,
   "metadata": {},
   "outputs": [],
   "source": [
    "Buffer b1;\n",
    "b1.allouer(5);\n",
    "for(int counter=0; counter<b1.size; counter++) {\n",
    "    b1.liste[counter] = counter;\n",
    "}\n",
    "b1.afficher();"
   ]
  },
  {
   "cell_type": "code",
   "execution_count": null,
   "metadata": {},
   "outputs": [],
   "source": [
    "Buffer b2(b1);\n",
    "b2.afficher();"
   ]
  },
  {
   "cell_type": "code",
   "execution_count": null,
   "metadata": {},
   "outputs": [],
   "source": [
    "Buffer b3 = b1;\n",
    "b3.afficher();"
   ]
  },
  {
   "cell_type": "markdown",
   "metadata": {},
   "source": [
    "<a href='exercices_classe.ipynb'>Exercices</a>"
   ]
  },
  {
   "cell_type": "markdown",
   "metadata": {},
   "source": [
    "<div style=\"float:left\"><a href=\"surcharge.ipynb\">Précedent : La POO avec le C++ - La surcharge</a></div>\n",
    "\n",
    "<div style=\"float:right\"><a href=\"heritage.ipynb\">Suivant : La POO avec le C++ - L'héritage et le polymorphisme</a></div>"
   ]
  }
 ],
 "metadata": {
  "kernelspec": {
   "display_name": "C++11",
   "language": "C++11",
   "name": "xcpp11"
  },
  "language_info": {
   "codemirror_mode": "text/x-c++src",
   "file_extension": ".cpp",
   "mimetype": "text/x-c++src",
   "name": "c++",
   "version": "11"
  }
 },
 "nbformat": 4,
 "nbformat_minor": 2
}
