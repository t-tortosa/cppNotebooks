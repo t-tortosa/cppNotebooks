{
 "cells": [
  {
   "cell_type": "markdown",
   "metadata": {},
   "source": [
    "# Introduction à la programmation orientée objet"
   ]
  },
  {
   "cell_type": "markdown",
   "metadata": {},
   "source": [
    "## L'Objet"
   ]
  },
  {
   "cell_type": "markdown",
   "metadata": {},
   "source": [
    "L'objectif de la programmation orientée objet est de rendre le code plus compréhensible pour un être humain. L'idée est de décrire le programme tel que le ferait une personne. \n",
    "En tant qu'être humain, afin de décrire le monde qui nous entoure, nous divisons notre environnement en <b>entités</b> (objets, êtres vivants, concept abstraits, ...). Chacune de ces <b>entités</b> a ses propres <b>caractéristiques</b> et ses propres <b>fonctionnalités</b> \n",
    "\n",
    "\n",
    "En informatique, <b>un objet</b> est un ensemble de données permettant de décrire ces entités. Chaque objet est donc défini par un ensemble de données divisés en deux catégories :\n",
    "<ul>\n",
    "    <li>Les <b>champs</b>, ou <b>attributs</b> : <br>Ensemble de variables permettant de décrire l'objet</li>\n",
    "    <li>Les <b>méthodes</b> : <br>Ensemble de fonctions associées à ces variables</li>\n",
    "</ul>\n",
    "L'ensemble <b>champs</b> et <b>méthodes</b> constituent les <b>membres</b> de l'<b>objet</b>."
   ]
  },
  {
   "cell_type": "markdown",
   "metadata": {},
   "source": [
    "<img src=\"../img/Personne.png\"></img>"
   ]
  },
  {
   "cell_type": "markdown",
   "metadata": {},
   "source": [
    "## La classe"
   ]
  },
  {
   "cell_type": "markdown",
   "metadata": {},
   "source": [
    "### Définition"
   ]
  },
  {
   "cell_type": "markdown",
   "metadata": {},
   "source": [
    "Une <b>classe</b> d'objet est le <b>type</b> de donnée à proprement parler. L'<b>objet</b> est une instance de la <b>classe</b>."
   ]
  },
  {
   "cell_type": "markdown",
   "metadata": {},
   "source": [
    "Par exemple, si on défini une <b>classe</b> nommée <b>Personne</b>, et que l'on déclare une variable <b>john</b> de type <b>Personne</b>, alors <b>john</b> sera l'instance de la classe et donc l'<b>objet</b>."
   ]
  },
  {
   "cell_type": "markdown",
   "metadata": {},
   "source": [
    "### Syntaxe"
   ]
  },
  {
   "cell_type": "markdown",
   "metadata": {},
   "source": [
    "Prenons l'exemple de la classe <b>Personne</b> décrite plus haut. En C++ la définition de la classe se ferait de la manière suivante :"
   ]
  },
  {
   "cell_type": "code",
   "execution_count": null,
   "metadata": {},
   "outputs": [],
   "source": [
    "#include <iostream>\n",
    "\n",
    "// Dans le .h\n",
    "class Personne {\n",
    "  public:\n",
    "    char nom[100];\n",
    "    char prenom[100];\n",
    "    int age;\n",
    "    \n",
    "  public:\n",
    "    void direBonjour();\n",
    "    void sePresenter();\n",
    "};"
   ]
  },
  {
   "cell_type": "code",
   "execution_count": null,
   "metadata": {},
   "outputs": [],
   "source": [
    "// Dans le .cpp\n",
    "void Personne::direBonjour() {\n",
    "    std::cout << \"Bonjour à tous\" << std::endl;\n",
    "}"
   ]
  },
  {
   "cell_type": "code",
   "execution_count": null,
   "metadata": {},
   "outputs": [],
   "source": [
    "void Personne::sePresenter() {\n",
    "    std::cout << \"I am \" << prenom << \" \" << nom << \" and i am \" << age << std::endl;\n",
    "}"
   ]
  },
  {
   "cell_type": "code",
   "execution_count": null,
   "metadata": {},
   "outputs": [],
   "source": [
    "Personne john;"
   ]
  },
  {
   "cell_type": "markdown",
   "metadata": {},
   "source": [
    "On peut accéder aux attributs comme on le ferait pour une structure :"
   ]
  },
  {
   "cell_type": "code",
   "execution_count": null,
   "metadata": {},
   "outputs": [],
   "source": [
    "#include <string.h>\n",
    "john.age = 50;\n",
    "strcpy(john.nom,\"Doe\");\n",
    "strcpy(john.prenom,\"John\");"
   ]
  },
  {
   "cell_type": "markdown",
   "metadata": {},
   "source": [
    "Il est ensuite possible d'appeler les méthodes de l'objet de la manière suivante : "
   ]
  },
  {
   "cell_type": "code",
   "execution_count": null,
   "metadata": {},
   "outputs": [],
   "source": [
    "john.direBonjour();\n",
    "john.sePresenter();"
   ]
  },
  {
   "cell_type": "markdown",
   "metadata": {},
   "source": [
    "### Instantiation dynamique"
   ]
  },
  {
   "cell_type": "markdown",
   "metadata": {},
   "source": [
    "En C++, on préfèrera utiliser le mot clé <b>new</b> afin d'allouer de la mémoire. "
   ]
  },
  {
   "cell_type": "code",
   "execution_count": null,
   "metadata": {},
   "outputs": [],
   "source": [
    "// Allocation d'un objet de type Personne \n",
    "Personne * remi = new Personne();\n",
    "// Allocation d'un tableau de 20 int\n",
    "int * tab = new int[20];"
   ]
  },
  {
   "cell_type": "markdown",
   "metadata": {},
   "source": [
    "Le mot clé <b>delete</b> est utilisé pour libérer la mémoire"
   ]
  },
  {
   "cell_type": "code",
   "execution_count": null,
   "metadata": {},
   "outputs": [],
   "source": [
    "delete remi;\n",
    "delete[] tab;"
   ]
  },
  {
   "cell_type": "markdown",
   "metadata": {},
   "source": [
    "<div style=\"float:left\"><a href=\"../3-Apports_fonctionnels_du_langage_Cpp/ApportsFonctionnels.ipynb\">Précedent : Les apports fonctionnels du langage C++</a></div>\n",
    "\n",
    "<div style=\"float:right\"><a href=\"portee.ipynb\">Suivant : La POO avec le C++ - La portée des membres</a></div>"
   ]
  }
 ],
 "metadata": {
  "kernelspec": {
   "display_name": "C++11",
   "language": "C++11",
   "name": "xcpp11"
  },
  "language_info": {
   "codemirror_mode": "text/x-c++src",
   "file_extension": ".cpp",
   "mimetype": "text/x-c++src",
   "name": "c++",
   "version": "11"
  }
 },
 "nbformat": 4,
 "nbformat_minor": 2
}
