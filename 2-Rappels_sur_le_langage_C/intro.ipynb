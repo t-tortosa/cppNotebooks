{
 "cells": [
  {
   "cell_type": "code",
   "execution_count": null,
   "metadata": {},
   "outputs": [],
   "source": [
    "#include \"stdio.h\""
   ]
  },
  {
   "cell_type": "markdown",
   "metadata": {},
   "source": [
    "# Rappel du langage C"
   ]
  },
  {
   "cell_type": "markdown",
   "metadata": {},
   "source": [
    "Le langace C++ est une extension du langage C, afin que celui-ci réponde à la notion de programmation orientée objet. Il est donc essentiel de maîtriser les bases du langages C avant de commencer l'apprentissage du C++. Ce cours intègre ici un chapitre de rappel sur le langage C."
   ]
  },
  {
   "cell_type": "markdown",
   "metadata": {},
   "source": [
    "## Les variables et types de données "
   ]
  },
  {
   "cell_type": "markdown",
   "metadata": {},
   "source": [
    "Les variables sont les outils permettant de stocker les données. Il existe plusieurs types de données que l'on souhaite stocker :<br><br>\n",
    "\n",
    "<dl>\n",
    "  <dt>Les nombres entiers :</dt>\n",
    "  <dd>\n",
    "      Les types de données ci-après permettent de stocker des nombres entiers :\n",
    "      <ul>\n",
    "      <li><b>int</b> : stockés sur 16, 32 ou 64 bits en fonction des plate-formes</li>\n",
    "      <li><b>long</b> : stockés sur 32 ou 64 bits</li>\n",
    "      <li><b>short</b> : stockés sur 16 bits</li>\n",
    "      </ul>\n",
    "      Le mot clé <b>unsigned</b> peut être ajouté afin de définir une variable forcément positive. Si le mot <b>unsigned</b> est utilisé seul, il définit une variable de type <b>unsigned int</b>.\n",
    "      </dd><br>\n",
    "    <dt> Les nombres flottants :</dt>    \n",
    "  <dd>Les types de données ci après permettent de stocker des nombres flottant : \n",
    "      <ul>\n",
    "      <li><b>float</b></li>\n",
    "      <li><b>double</b></li>\n",
    "      <li><b>long double</b></li>\n",
    "      </ul>    \n",
    "      Utiliser un type <b>long double</b> permet d'avoir plus de précision qu'un type <b>float</b>.\n",
    "  </dd><br>\n",
    "  <dt>Les caractères</dt>\n",
    "    <dd>Le type de donnée utilisé pour stocker un caractère est le <b>char</b></dd>\n",
    "</dl>"
   ]
  },
  {
   "cell_type": "markdown",
   "metadata": {},
   "source": [
    "La déclaration d'une variable (de type int par exemple) se faire de la manière suivante : "
   ]
  },
  {
   "cell_type": "code",
   "execution_count": null,
   "metadata": {},
   "outputs": [],
   "source": [
    "int ma_variable;"
   ]
  },
  {
   "cell_type": "markdown",
   "metadata": {},
   "source": [
    "<img href=\"../img/caution.png\"></img>\n",
    "<font color=\"green\">Pour l'instant, que contient ma variable ?</font>\n",
    "On ne le sait pas !\n",
    "\n",
    "Pour éviter maitriser le contenu de la variable, il est possible de l'initialiser à sa déclaration :"
   ]
  },
  {
   "cell_type": "code",
   "execution_count": null,
   "metadata": {},
   "outputs": [],
   "source": [
    "int var = 0;"
   ]
  },
  {
   "cell_type": "markdown",
   "metadata": {},
   "source": [
    "## Les opérateurs"
   ]
  },
  {
   "cell_type": "markdown",
   "metadata": {},
   "source": [
    "Plusieurs opérateurs sont disponibles afin de permettre de réaliser des calculs à partir des variables : \n",
    "Les différents types d'opérateurs disponibles sont les suivants : <br><br>\n",
    "\n",
    "<dl>\n",
    "  <dt>Les opérateurs arithmétiques :</dt>\n",
    "  <dd>\n",
    "      <ul>\n",
    "      <li><b>+</b> : addition</li>\n",
    "      <li><b>-</b> : soustraction</li>\n",
    "      <li><b>*</b> : multiplication</li>\n",
    "      <li><b>/</b> : division</li>\n",
    "      </ul>\n",
    "      </dd><br>\n",
    "    <dt>Les opérateurs de comparaison</dt>\n",
    "    <ul>\n",
    "      <li><b><</b> : inférieur à</li>\n",
    "      <li><b>></b> : supérieur à</li>\n",
    "      <li><b><=</b> : inférieur ou égal à</li>\n",
    "      <li><b>>=</b> : supérieur ou égal à</li>\n",
    "      <li><b>==</b> : égal à</li>\n",
    "      <li><b>!=</b> : différent de</li>\n",
    "      </ul>    \n",
    "      Ces opérateurs ont la particularité de retourner systèmatiquement un entier à 1 dans le cas ou la condition est vraie, à 0 sinon.</dd> <br><br>\n",
    "  <dt>Les opérateurs logiques</dt>\n",
    "    <dd>\n",
    "    <ul>\n",
    "      <li><b>&&</b> : \"AND\" logique</li>\n",
    "      <li><b>||</b> : \"OR\" logique</li>\n",
    "    </ul>\n",
    "    Ces opérateurs permettent souvent de combiner les résultats des opérateurs de comparaison</dd><br>\n",
    "  <dt>Les opérateurs bits à bits</dt>\n",
    "    <dd>\n",
    "    <ul>\n",
    "      <li><b>&</b> : \"AND\" bit à bit</li>\n",
    "      <li><b>|</b> : \"OR\" bit à bit</li>\n",
    "    </ul>\n",
    "    Ces opérateurs permettent de réaliser des opération bits à bits entre les variables</dd><br>\n",
    "      <dt>Les opérateurs d'incréments</dt>\n",
    "    <dd>\n",
    "    <ul>\n",
    "      <li><b>++</b> : incrémente une variable de 1</li>\n",
    "      <li><b>--</b> : décrémente une variable de 1</li>\n",
    "    </ul>\n",
    "</dd>\n",
    "</dl>"
   ]
  },
  {
   "cell_type": "markdown",
   "metadata": {},
   "source": [
    "Les opérateurs d'incréments ont une particularité : \n",
    "<ul>\n",
    "    <li><b>var++</b> signifie que la variable var sera incrémentée après l'exécution de la ligne</li>\n",
    "    <li><b>++var</b> signifie que la variable var sera incrémentée avant l'exécution de la ligne</li>\n",
    "</ul>"
   ]
  },
  {
   "cell_type": "markdown",
   "metadata": {},
   "source": [
    "Exemple : "
   ]
  },
  {
   "cell_type": "code",
   "execution_count": null,
   "metadata": {},
   "outputs": [],
   "source": [
    "int increment_var = 0;\n",
    "\n",
    "printf(\"Pendant l'incrémentation 1 : %d\\n\", increment_var++);\n",
    "printf(\"Après l'incrémentation 1   : %d\\n\", increment_var);\n",
    "printf(\"Pendant l'incrémentation 2 : %d\\n\", ++increment_var);\n",
    "printf(\"Après l'incrémentation 2   : %d\\n\", increment_var);"
   ]
  },
  {
   "cell_type": "markdown",
   "metadata": {},
   "source": [
    "## Les fonctions "
   ]
  },
  {
   "cell_type": "markdown",
   "metadata": {},
   "source": [
    "Une fonction est un bloc programme pouvant être appelé depuis un autre endroit dans le programme.\n",
    "La déclaration d'une fonction se fait de la manière suivante :\n",
    "<img title=\"Déclaration d'une fonction en langage C\" src=\"../img/function.png\" width=\"600\"></img>\n",
    "\n",
    "<ul>\n",
    "    <li><i>type</i> est le type du résultat de la fonction </li>\n",
    "<li>Le <i>corpus</i> contient l'ensemble des instructions à effectuer dans la fonction</li>\n",
    "    <li>Si une fonction renvoie un résultat, il doit y avoir au moins une instruction <i>return <b>expr</b></i></li>\n",
    "</ul>"
   ]
  },
  {
   "cell_type": "code",
   "execution_count": null,
   "metadata": {},
   "outputs": [],
   "source": [
    "int add(int a, int b) {\n",
    "    return a+b;\n",
    "}\n",
    "\n",
    "int value_a = 4; \n",
    "int value_b = 5;\n",
    "\n",
    "printf(\"Somme de a et de b : %d\\n\", add(value_a, value_b));"
   ]
  },
  {
   "cell_type": "markdown",
   "metadata": {},
   "source": [
    "<br><br>\n",
    "Nous avons revu les bases simples de la programmation en langage C. La suite concerne les notions avancées en langage C."
   ]
  },
  {
   "cell_type": "markdown",
   "metadata": {},
   "source": [
    "<div style=\"float:left\"><a href=\"../Introduction/Jupyter.ipynb\">Précedent : Introduction - Jupyter</a></div>\n",
    "\n",
    "<div style=\"float:right\"><a href=\"preprocesseur.ipynb\">Suivant : Rappels du langage C - Le préprocesseur</a></div>"
   ]
  }
 ],
 "metadata": {
  "kernelspec": {
   "display_name": "C++11",
   "language": "C++11",
   "name": "xcpp11"
  },
  "language_info": {
   "codemirror_mode": "text/x-c++src",
   "file_extension": ".cpp",
   "mimetype": "text/x-c++src",
   "name": "c++",
   "version": "-std=c++11"
  }
 },
 "nbformat": 4,
 "nbformat_minor": 2
}
