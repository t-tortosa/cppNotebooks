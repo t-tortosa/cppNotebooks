{
 "cells": [
  {
   "cell_type": "code",
   "execution_count": null,
   "metadata": {},
   "outputs": [],
   "source": [
    "#include <iostream>"
   ]
  },
  {
   "cell_type": "markdown",
   "metadata": {},
   "source": [
    "# La librarie standard - STL"
   ]
  },
  {
   "cell_type": "markdown",
   "metadata": {},
   "source": [
    "En plus des fonctionnalités de base du C++ il existe une libraire disponible sur tout les systèmes implémentant de nombreux objets. Il s'agit de la <a href=\"https://fr.wikipedia.org/wiki/Standard_Template_Library\">STL</a>."
   ]
  },
  {
   "cell_type": "markdown",
   "metadata": {},
   "source": [
    "Nous avons déjà utilisé plusieurs de ces objets : \n",
    "<ul>\n",
    "    <li>Les <b>string</b></li>\n",
    "    <li>Les <b>stream</b> : à travers l'utilisation de std::cin et std::cout </li>\n",
    "</ul>"
   ]
  },
  {
   "cell_type": "markdown",
   "metadata": {},
   "source": [
    "Le site <a href=\"http://www.cplusplus.com/doc/\">cplusplus.com</a> réfère l'ensemble des fonctionnalités. Il est presque constamment ouvert lorsque vous codez !"
   ]
  },
  {
   "cell_type": "markdown",
   "metadata": {},
   "source": [
    "Ici nous allons aborder quelques classes de base utilisées qu'implémente la librairie. La plupart des fonctionnalités de la STL ne seront pas abordées dans ce chapitre, il s'agira de chercher par soi même."
   ]
  },
  {
   "cell_type": "markdown",
   "metadata": {},
   "source": [
    "## string"
   ]
  },
  {
   "cell_type": "markdown",
   "metadata": {},
   "source": [
    "Comme nous l'avons vu précédemment, la classe <a href=\"http://www.cplusplus.com/reference/string/string/?kw=string\">string</a> permet de représenter des chaines de caractères."
   ]
  },
  {
   "cell_type": "markdown",
   "metadata": {},
   "source": [
    "Tout d'abord, il faut importer le header de la classe <b>string</b> : "
   ]
  },
  {
   "cell_type": "code",
   "execution_count": null,
   "metadata": {},
   "outputs": [],
   "source": [
    "#include <string>"
   ]
  },
  {
   "cell_type": "markdown",
   "metadata": {},
   "source": [
    "Pour déclarer et initialiser un <b>string</b>, on utilise la syntaxe suivante : "
   ]
  },
  {
   "cell_type": "code",
   "execution_count": null,
   "metadata": {},
   "outputs": [],
   "source": [
    "std::string mot = std::string(\"Un mot\");"
   ]
  },
  {
   "cell_type": "markdown",
   "metadata": {},
   "source": [
    "L'affichage se fait simplement à l'aide de <i>std::cout</i>"
   ]
  },
  {
   "cell_type": "code",
   "execution_count": null,
   "metadata": {},
   "outputs": [],
   "source": [
    "std::cout << mot << std::endl;"
   ]
  },
  {
   "cell_type": "markdown",
   "metadata": {},
   "source": [
    "On peut aussi initialiser un <b>string</b> de la manière suivante : "
   ]
  },
  {
   "cell_type": "code",
   "execution_count": null,
   "metadata": {},
   "outputs": [],
   "source": [
    "mot = \"Un autre mot\";"
   ]
  },
  {
   "cell_type": "code",
   "execution_count": null,
   "metadata": {},
   "outputs": [],
   "source": [
    "std::cout << mot << std::endl;"
   ]
  },
  {
   "cell_type": "markdown",
   "metadata": {},
   "source": [
    "La concaténation est implémentée à l'aide de l'opérateur <b>+</b> :"
   ]
  },
  {
   "cell_type": "code",
   "execution_count": null,
   "metadata": {},
   "outputs": [],
   "source": [
    "std::string mot2 = std::string(\" et le mot 2\");"
   ]
  },
  {
   "cell_type": "code",
   "execution_count": null,
   "metadata": {},
   "outputs": [],
   "source": [
    "std::cout << mot + mot2 << std::endl;"
   ]
  },
  {
   "cell_type": "markdown",
   "metadata": {},
   "source": [
    "Les caractères de la chaine sont accessibles individuellement à l'aide de l'opérateur <b>[]</b> ou de la méthode <b>at</b>."
   ]
  },
  {
   "cell_type": "code",
   "execution_count": null,
   "metadata": {},
   "outputs": [],
   "source": [
    "for(int counter = 0; counter < mot.size(); counter ++) {\n",
    "    std::cout << mot[counter] << std::endl;\n",
    "}"
   ]
  },
  {
   "cell_type": "markdown",
   "metadata": {},
   "source": [
    "La méthode <a href=\"http://www.cplusplus.com/reference/string/string/substr/\"><b>substr</b></a> permet d'extraire un morceau de la chaine de caractère :\n"
   ]
  },
  {
   "cell_type": "code",
   "execution_count": null,
   "metadata": {},
   "outputs": [],
   "source": [
    "std::cout << mot.substr(mot.find(\"autre\")) << std::endl;"
   ]
  },
  {
   "cell_type": "markdown",
   "metadata": {},
   "source": [
    "## Les conteneurs"
   ]
  },
  {
   "cell_type": "markdown",
   "metadata": {},
   "source": [
    "Les conteneurs sont des objets permettentant de stocker plusieurs d'objets."
   ]
  },
  {
   "cell_type": "markdown",
   "metadata": {},
   "source": [
    "Ci-après trois exemples de conteneurs en C++ : \n",
    "<ul>\n",
    "    <li><a href=\"http://www.cplusplus.com/reference/vector/vector/?kw=vector\"><b>vector</b></a> : Implémentation des FILO</li>\n",
    "    <li><a href=\"http://www.cplusplus.com/reference/queue/queue/?kw=queue\"><b>queue</b></a> : Implémentation des FIFO</li>\n",
    "    <li><a href=\"http://www.cplusplus.com/reference/list/list/?kw=list\"><b>list</b></a>  : Implémentation des listes chaînées</li>\n",
    "</ul>"
   ]
  },
  {
   "cell_type": "markdown",
   "metadata": {},
   "source": [
    "Pour des raisons d'optimisation, le choix du conteneur est important."
   ]
  },
  {
   "cell_type": "markdown",
   "metadata": {},
   "source": [
    "Nous allons ici détailler l'utilisation du vecteur. Il s'agit du conteneur le plus utilisé."
   ]
  },
  {
   "cell_type": "markdown",
   "metadata": {},
   "source": [
    "La classe vector est définie dans le header <b>vector</b>."
   ]
  },
  {
   "cell_type": "code",
   "execution_count": null,
   "metadata": {},
   "outputs": [],
   "source": [
    "#include <vector>"
   ]
  },
  {
   "cell_type": "markdown",
   "metadata": {},
   "source": [
    "Reprenons dans un premier temps la classe <b>Point</b>"
   ]
  },
  {
   "cell_type": "code",
   "execution_count": null,
   "metadata": {},
   "outputs": [],
   "source": [
    "class Point {\n",
    "    public:\n",
    "\n",
    "    Point(int x, int y) : x(x), y(y) {}\n",
    "    Point() : x(0), y(0) {}\n",
    "    \n",
    "    Point operator+(const Point & point) {\n",
    "        Point result;\n",
    "        result.x = point.x + x;\n",
    "        result.y = point.y + y;\n",
    "        return result;\n",
    "    }\n",
    "    \n",
    "    Point operator-(const Point & point) {\n",
    "        Point result;\n",
    "        result.x = x - point.x;\n",
    "        result.y = y - point.y;\n",
    "        return result;\n",
    "    }\n",
    "        \n",
    "    void operator+=(const Point & point) {\n",
    "        x += point.x;\n",
    "        y += point.y;\n",
    "    }\n",
    "    \n",
    "    void operator-=(const Point & point) {\n",
    "        x -= point.x;\n",
    "        y -= point.y;\n",
    "    }\n",
    "    \n",
    "    bool operator==(const Point & a){\n",
    "        return (x==a.x && y==a.y);\n",
    "    }\n",
    "    \n",
    "    void afficherPoint() {\n",
    "        std::cout << \"Point de coordonnées [\" << x << \", \" << y << \"]\" << std::endl;\n",
    "    }\n",
    "    \n",
    "    float x;\n",
    "    float y;\n",
    "}"
   ]
  },
  {
   "cell_type": "code",
   "execution_count": null,
   "metadata": {},
   "outputs": [],
   "source": [
    "Point a(1, 2), b(3, 4), c(5, 6), d(7, 8);"
   ]
  },
  {
   "cell_type": "markdown",
   "metadata": {},
   "source": [
    "Nous allons maintenant créer un vecteur de points :"
   ]
  },
  {
   "cell_type": "code",
   "execution_count": null,
   "metadata": {},
   "outputs": [],
   "source": [
    "std::vector<Point> pointList;"
   ]
  },
  {
   "cell_type": "markdown",
   "metadata": {},
   "source": [
    "Initialement, le vecteur est vide. Il existe plusieurs moyen de le vérifier :"
   ]
  },
  {
   "cell_type": "code",
   "execution_count": null,
   "metadata": {},
   "outputs": [],
   "source": [
    "std::cout << \"Taille du vecteur : \" << pointList.size() << std::endl;\n",
    "std::cout << \"Le vecteur est-il vide ? \" << ((pointList.empty())?\"oui\":\"non\")<< std::endl;"
   ]
  },
  {
   "cell_type": "markdown",
   "metadata": {},
   "source": [
    "Pour ajouter un élément à la fin de la liste, on utilise la méthode <b>push_back</b>."
   ]
  },
  {
   "cell_type": "code",
   "execution_count": null,
   "metadata": {},
   "outputs": [],
   "source": [
    "pointList.push_back(a);\n",
    "pointList.push_back(b);\n",
    "pointList.push_back(c);\n",
    "pointList.push_back(d);"
   ]
  },
  {
   "cell_type": "markdown",
   "metadata": {},
   "source": [
    "<b>pop_back</b> permet de supprimer un élément de la liste"
   ]
  },
  {
   "cell_type": "code",
   "execution_count": null,
   "metadata": {},
   "outputs": [],
   "source": [
    "pointList.pop_back();"
   ]
  },
  {
   "cell_type": "markdown",
   "metadata": {},
   "source": [
    "On peut alors parcourir la liste à l'aide de l'opérateur <b>[]</b> ou de la méthode <b>at</b> :"
   ]
  },
  {
   "cell_type": "code",
   "execution_count": null,
   "metadata": {},
   "outputs": [],
   "source": [
    "for(int counter=0; counter < pointList.size(); counter++) {\n",
    "    pointList.at(counter).afficherPoint();\n",
    "}"
   ]
  },
  {
   "cell_type": "markdown",
   "metadata": {},
   "source": [
    "Pour réinitialiser le vector, on utilise la méthode <b>clear</b> :"
   ]
  },
  {
   "cell_type": "code",
   "execution_count": null,
   "metadata": {},
   "outputs": [],
   "source": [
    "pointList.clear();\n",
    "std::cout << \"Le vecteur est-il vide ? \" << ((pointList.empty())?\"oui\":\"non\")<< std::endl;"
   ]
  },
  {
   "cell_type": "markdown",
   "metadata": {},
   "source": [
    "Il existe aussi un objet appelé itérateur permettant de parcourir un conteneur à la manière des pointeurs. Il s'agit de l'<b>itérateur</b>."
   ]
  },
  {
   "cell_type": "code",
   "execution_count": null,
   "metadata": {},
   "outputs": [],
   "source": [
    "pointList.push_back(a);\n",
    "pointList.push_back(b);\n",
    "pointList.push_back(c);\n",
    "pointList.push_back(d);\n",
    "\n",
    "std::vector<Point>::iterator it;\n",
    "for(it = pointList.begin(); it != pointList.end(); it++) {\n",
    "    it->afficherPoint();\n",
    "}"
   ]
  },
  {
   "cell_type": "markdown",
   "metadata": {},
   "source": [
    "Il s'agit plus ou moins d'un pointeur sur un vecteur de point, qu'on incrémente à chaque tour de boucle."
   ]
  },
  {
   "cell_type": "markdown",
   "metadata": {},
   "source": [
    "## Ecriture et lecture dans un fichier"
   ]
  },
  {
   "cell_type": "markdown",
   "metadata": {},
   "source": [
    "Les classes permettant de lire et d'écrire dans un fichier sont comprises dans le header <a href=\"http://www.cplusplus.com/reference/fstream/\"><i>fstream</i></a>. Il s'agit de <i>flux</i>, comme <b>cin</b> et <b>cout</b>. "
   ]
  },
  {
   "cell_type": "code",
   "execution_count": null,
   "metadata": {},
   "outputs": [],
   "source": [
    "#include <fstream>"
   ]
  },
  {
   "cell_type": "markdown",
   "metadata": {},
   "source": [
    "La classe <a href=\"http://www.cplusplus.com/reference/fstream/ofstream/\"><b>ofstream</b></a> permet d'écrire dans un fichier de la manière suivante :"
   ]
  },
  {
   "cell_type": "code",
   "execution_count": null,
   "metadata": {},
   "outputs": [],
   "source": [
    "// Le constructeur peut prendre en paramètre le nom du fichier sur lequel on souhaite écrire\n",
    "std::ofstream outputFile(\"NomDuFichier.txt\");\n",
    "\n",
    "// L'écriture se fait ensuite de la même manière qu'avec le flux std::cout\n",
    "outputFile << \"Ecriture dans le fichier\" << std::endl;\n",
    "outputFile << 456 << std::endl;\n",
    "\n",
    "// La fermeture du fichier peut se faire à l'aide de la méthode close ou du destructeur\n",
    "outputFile.close();"
   ]
  },
  {
   "cell_type": "markdown",
   "metadata": {},
   "source": [
    "Par ailleurs, la classe <a href=\"http://www.cplusplus.com/reference/fstream/ifstream/\"><b>ifstream</b></a> permet de lire un fichier de la manière suivante : "
   ]
  },
  {
   "cell_type": "code",
   "execution_count": null,
   "metadata": {},
   "outputs": [],
   "source": [
    "// Le constructeur peut prendre en paramètre le nom du fichier que l'on souhaite lire\n",
    "std::ifstream inputFile(\"NomDuFichier.txt\");\n",
    "\n",
    "// La lecture peut se faire à l'aide de plusieurs opérateurs / méthodes\n",
    "std::string text;\n",
    "std::getline(inputFile, text);\n",
    "int number;\n",
    "inputFile >> number;\n",
    "\n",
    "std::cout << \"Text : \" << text << std::endl;\n",
    "std::cout << \"Number : \" << number << std::endl;"
   ]
  },
  {
   "cell_type": "markdown",
   "metadata": {},
   "source": [
    "## Exceptions"
   ]
  },
  {
   "cell_type": "markdown",
   "metadata": {},
   "source": [
    "Il est possible de lancer et d'intercepter ce que l'on appelle des <a href=\"http://www.cplusplus.com/reference/exception/exception/\"><b>exceptions</b></a> en C++. Commençons par inclure le header concerné : "
   ]
  },
  {
   "cell_type": "code",
   "execution_count": null,
   "metadata": {},
   "outputs": [],
   "source": [
    "#include <exception>"
   ]
  },
  {
   "cell_type": "markdown",
   "metadata": {},
   "source": [
    "Il est possible de signaler au programme qu'il s'est passé un événement exceptionnel. Par exemple, on souhaite développer une fonction de division prenant deux arguments, un numérateur et un dénominateur. On choisira alors de lancer une exception dans la cas d'une division par 0. Ceci s'écrira de la manière suivante :"
   ]
  },
  {
   "cell_type": "code",
   "execution_count": null,
   "metadata": {},
   "outputs": [],
   "source": [
    "double div(double num, double denom) {\n",
    "    if (denom == 0) {\n",
    "        // On lance une exception de type domain_error (domaine mathématique) avec \n",
    "        // le message \"Division par zéro\"\n",
    "        throw std::domain_error(\"Division par zéro\");\n",
    "    } else {\n",
    "        return num / denom;\n",
    "    }\n",
    "}"
   ]
  },
  {
   "cell_type": "markdown",
   "metadata": {},
   "source": [
    "<b>domain_error</b> est une exception implémentée par la STL visant à signaler une exception mathématique. La page <a href=\"http://www.cplusplus.com/reference/exception/exception/\"><b>exceptions</b></a> décrit les différentes exceptions implémentées par la STL. Il est également possible de dériver soit même la classe <a href=\"http://www.cplusplus.com/reference/exception/exception/\"><b>exception</b></a> afin d'implémenter sa propre exception."
   ]
  },
  {
   "cell_type": "markdown",
   "metadata": {},
   "source": [
    "L'interception des exceptions se fait alors de la manière suivante : "
   ]
  },
  {
   "cell_type": "code",
   "execution_count": null,
   "metadata": {},
   "outputs": [],
   "source": [
    "// Dans ce bloc de code, il y a des chances qu'une exception soit levée\n",
    "try {\n",
    "    div (5, 0);\n",
    "} catch (std::exception &e) {// Récupération de l'exception\n",
    "    std::cerr << \"Exception caught: \" << e.what() << std::endl; // Affichage du message de l'exception\n",
    "}"
   ]
  },
  {
   "cell_type": "markdown",
   "metadata": {},
   "source": [
    "## Conclusion"
   ]
  },
  {
   "cell_type": "markdown",
   "metadata": {},
   "source": [
    "Nous avons apperçu plusieurs fonctionnalités de la STL. Il en existe bien d'autre et le meilleur moyen de travailler avec la STL et d'utiliser au maximum la <a href=\"http://www.cplusplus.com\">documentation</a>."
   ]
  },
  {
   "cell_type": "markdown",
   "metadata": {},
   "source": [
    "<div style=\"float:left\"><a href=\"../4-Programmation_orientée_objet_et_langage_Cpp/genericite.ipynb\">Précedent : La POO avec le C++ - <br>La généricité</a></div>\n",
    "\n",
    "<div style=\"float:right\"><a href=\"cpp11.ipynb\">Suivant : Notions avancées - <br>Le C++ 11</a></div>"
   ]
  }
 ],
 "metadata": {
  "kernelspec": {
   "display_name": "C++11",
   "language": "C++11",
   "name": "xcpp11"
  },
  "language_info": {
   "codemirror_mode": "text/x-c++src",
   "file_extension": ".cpp",
   "mimetype": "text/x-c++src",
   "name": "c++",
   "version": "11"
  }
 },
 "nbformat": 4,
 "nbformat_minor": 2
}
